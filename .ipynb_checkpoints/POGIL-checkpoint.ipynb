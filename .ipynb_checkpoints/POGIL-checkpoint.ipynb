{
 "cells": [
  {
   "cell_type": "markdown",
   "metadata": {},
   "source": [
    "# [CptS 111](https://github.com/gsprint23/cpts111) POGIL Information\n",
    "[Washington State University](https://wsu.edu/)\n",
    "\n",
    "[Gina Sprint](http://eecs.wsu.edu/~gsprint/)\n",
    "\n",
    "## POGIL Overview\n",
    "Teaching by telling and learning by listening is not an effective teaching/learning model for *most* students. Consequently, we are going to do active learning activities in CptS 111. In class, we are going to be learning some new concepts and applying skills in groups of 3 students. This approach to teaching and learning is based on a system called [POGIL (Process Oriented Guided Inquiry-based Learning)](https://pogil.org/). POGIL aims to help students:\n",
    "* Develop content mastery\n",
    "* Develop process skills\n",
    "    * Critical thinking\n",
    "    * Problem solving\n",
    "    * Information processing\n",
    "    * Effective communication\n",
    "    * Teamwork\n",
    "    \n",
    "## POGIL Groups\n",
    "Often in class, we are going to form groups of 3 students such that **every group has at least one student with a laptop.** Each member of the group is going to have a specific role:\n",
    "\n",
    "### Manager: Manages the group\n",
    "* Ensures that members are fulfilling their role, the assigned tasks are being accomplished on time, and all members of the group are participating in the activities.\n",
    "* Reads the task descriptions to the group.\n",
    "\n",
    "### Technician: Performs computations\n",
    "* Has a laptop with the Spyder IDE open, types/executes Python code, and reports/explains the results to all members of the group.\n",
    "* Checks results.\n",
    "\n",
    "### Recorder: Records and presents information\n",
    "* Records the names and roles of the group members, the important aspects of the group discussions/observations/insights/etc for group notes (perhaps in an email) and micro assignments.\n",
    "* Represents the group by presenting oral reports to the class."
   ]
  }
 ],
 "metadata": {
  "anaconda-cloud": {},
  "kernelspec": {
   "display_name": "Python 3",
   "language": "python",
   "name": "python3"
  },
  "language_info": {
   "codemirror_mode": {
    "name": "ipython",
    "version": 3
   },
   "file_extension": ".py",
   "mimetype": "text/x-python",
   "name": "python",
   "nbconvert_exporter": "python",
   "pygments_lexer": "ipython3",
   "version": "3.7.1"
  }
 },
 "nbformat": 4,
 "nbformat_minor": 1
}
