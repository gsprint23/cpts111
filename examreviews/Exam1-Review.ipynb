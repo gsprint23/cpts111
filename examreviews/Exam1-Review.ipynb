{
 "cells": [
  {
   "cell_type": "markdown",
   "metadata": {},
   "source": [
    "# [CptS 111 Introduction to Algorithmic Problem Solving](https://github.com/gsprint23/cpts111)\n",
    "[Washington State University](https://wsu.edu)\n",
    "\n",
    "[Gina Sprint](http://eecs.wsu.edu/~gsprint/)\n",
    "# Exam #1 Review"
   ]
  },
  {
   "cell_type": "markdown",
   "metadata": {
    "collapsed": true
   },
   "source": [
    "## What to Bring?\n",
    "* Two sharp pencils\n",
    "* Python Programming knowledge in your head :)\n",
    "* A \"cheat sheet\" (see below)  \n",
    "\n",
    "## What NOT to Bring?\n",
    "* Electronics (including calculators) may not be used during the exam!\n",
    "* Notes may not be used during the exam!\n",
    "\n",
    "Note: If you are caught cheating, your exam will be confiscated and you will receive a 0.\n",
    "\n",
    "Note: Use the restroom before class. **Once testing starts, the only reason for leaving the classroom is turning in your exam as done.**\n",
    "\n",
    "## The \"Cheat Sheet\"\n",
    "The exam will be closed-book, but you will be allowed a **handwritten** \"cheat sheet\": one side of a page whose dimensions may not exceed 8-1/2\" by 5-1/2\" (i.e. **one-half of a standard sheet of notebook paper**). You must present your cheat sheet to myself or a TA so it can be verified that it meets regulations. \n",
    "\n",
    "If you bring/use a cheat sheet that: \n",
    "1. Exceeds the allowable dimensions\n",
    "1. Has writing on both sides of the page\n",
    "1. Contains non-handwritten text (i.e. printed)\n",
    "\n",
    "You run the risk of its being confiscated prior to the exam. This policy will be strictly enforced.\n",
    "\n",
    "If you choose to use a cheat sheet, you will be required to turn in your cheat sheet with your exam.\n",
    "\n",
    "## Exam Timeframe\n",
    "Please be aware that, because you will be taking the exam during a normal lecture period (50 minutes), time will be extremely tight for the exam so manage your time well. If you show up late to class, you will have less time to take the exam. "
   ]
  },
  {
   "cell_type": "markdown",
   "metadata": {},
   "source": [
    "## Exam Coverage\n",
    "The exam covers everything we have covered so far in the course. Here is an outline of the topics we have covered so far:\n",
    "\n",
    "### 1 Introduction to Computer Science, Programming, and Python\n",
    "(Chapters 1 and 2 in zyBooks; Chapter 1 in *How to Think Like a Computer Scientist*)\n",
    "\n",
    "* Define what is an algorithm\n",
    "    * Formal definition\n",
    "    * Examples\n",
    "* What are the 6 fundamental operations a computer can perform?\n",
    "* What are high-level programming languages?\n",
    "    * The continuum of languages\n",
    "    * How the Python Interpreter works\n",
    "* Define what is a comment\n",
    "    * Single line comments\n",
    "    * Block (multi-line) comments\n",
    "* Describe and provide examples of each\n",
    "    1. Standard identifiers\n",
    "    1. User-defined identifiers\n",
    "    1. Reserved keywords\n",
    "* Describe the rules for naming an identifier\n",
    "    * Consider Python constraints and naming conventions used in the class\n",
    "    * Python is case sensitive\n",
    "* Define what is a variable\n",
    "    * Memory is allocated when a variable is declared\n",
    "    * Assigning a value to a variable\n",
    "    * How to read `y = 5`: \"y gets x\" or \"y is assigned x\"\n",
    "* Define what is a data type\n",
    "* List three Python types and examples of each\n",
    "    1. Integer (`int`)\n",
    "    1. Floating-point (`float`)\n",
    "    1. String (`str`)\n",
    "* Input/output functions\n",
    "    * Apply `print()` and `input()`\n",
    "    * Describe what is a prompt\n",
    "* Using the `help()` function\n",
    "* Define and apply escape sequences (the newline (\\n)  and double quote (\\\") are examples of escape sequences)\n",
    "* Describe and apply elements of \"good\" Python style and \"best\" programming practices"
   ]
  },
  {
   "cell_type": "markdown",
   "metadata": {},
   "source": [
    "### 2 Arithmetic\n",
    "(Chapter 3 in zyBooks; Chapter 2 in *How to Think Like a Computer Scientist*)\n",
    "\n",
    "* Apply operators to Python types\n",
    "    * Arithmetic operators include: +, -, *, /, //, %, and $**$\n",
    "* Construct and evaluate valid numerical expressions, including mixed-type expressions\n",
    "* Apply operator precedence (review the precedence table!!)\n",
    "    * *, /, //, % have the same precedence\n",
    "    * +, - have the same precedence, but lower than *, /, //, %\n",
    "* Type casting (type conversion)\n",
    "    * `int()`\n",
    "    * `float()`\n",
    "    * `str()`\n",
    "* Formatting numeric output using placeholders in a string\n",
    "    * %d\n",
    "    * %f, %.2f, etc.\n",
    "    * %s\n",
    "* What is the general algorithm applied to problems in this course?\n",
    "    * Get inputs\n",
    "    * Perform computations\n",
    "    * Output results"
   ]
  },
  {
   "cell_type": "markdown",
   "metadata": {},
   "source": [
    "### 3 Functions\n",
    "(Chapters 4 and 5 in zyBooks; Chapters 3, 5, and 6 in *How to Think Like a Computer Scientist*)\n",
    "\n",
    "* Define what is a module\n",
    "* Apply the `import` reserved keyword\n",
    "* Apply Python `math` module variables and functions\n",
    "    * Some of these include: `pi`, `sqrt()`, `sin()`, `cos()`, etc.\n",
    "* Define what is a function in Python\n",
    "    * General rule-of-thumb is 1 function = 1 algorithm = 1 task\n",
    "* Construct functions that solve sub-problems\n",
    "* Define parameter, argument, global variable, and local variable\n",
    "* Name, order of arguments, and return value are very important\n",
    "* Cite advantages of using functions in Python\n",
    "* What is a function call? \n",
    "    * How do arguments relate to function calls?\n",
    "    * Based on a function call, how do you know if the function returns a value?\n",
    "        * There is an assignment operator to the left of the function call\n",
    "        * There are arithmetic/logical/relational operators to the left or right of the function call\n",
    "        * The function call is included in another function call as an argument\n",
    "* Define what is scope\n",
    "* How do functions communicate with `main()` and vice versa?\n",
    "* What is a calling function?\n",
    "* What is the call stack and how does Python use it?\n",
    "* What is a docstring\n",
    "* Describe and provide examples of the three types of errors that can occur in a program\n",
    "    * Describe what is a syntax error\n",
    "        * Which software tool reports these errors?\n",
    "    * Explain what is a logic error\n",
    "    * Describe what is a runtime error\n",
    "* How to debug your program?"
   ]
  },
  {
   "cell_type": "markdown",
   "metadata": {},
   "source": [
    "### 4 Conditionals\n",
    "(Chapter 6 in zyBooks; Chapter 7 in *How to Think Like a Computer Scientist*)\n",
    "\n",
    "* What is a Boolean condition?\n",
    "* List and apply relational operators\n",
    "    * These include: <, >, <=, >=, ==, !=\n",
    "    * Distinguish between = and ==\n",
    "* List and apply logical operators\n",
    "    * These include: `not`, `and`, `or`\n",
    "* Apply Boolean operator precedence (review the precedence table!!)\n",
    "* Describe what is short circuit evaluation?\n",
    "    * Applies to conditional statements with compound logic\n",
    "* Define and apply Boolean expressions\n",
    "    * DeMorgan's Law\n",
    "* What are the three types of statements that algorithms are composed of?\n",
    "    * Sequential statements\n",
    "    * Conditional statements\n",
    "    * Iterative statements\n",
    "* Construct multiple alternative `if` statements in Python\n",
    "* Construct nested `if` statements\n",
    "* How is false defined in Python? How about true?\n",
    "    * `bool` type\n",
    "* Define what is a predicate function"
   ]
  },
  {
   "cell_type": "markdown",
   "metadata": {},
   "source": [
    "### Other Topics\n",
    "(Chapter 4 in *How to Think Like a Computer Scientist*)\n",
    "\n",
    "* Turtle graphics"
   ]
  },
  {
   "cell_type": "markdown",
   "metadata": {},
   "source": [
    "## Recommended Strategy for Preparing for the Exam\n",
    "The exam questions will require you to solve problems in a variety of formats: defining key terms, evaluating expressions, writing code, determining the output of code, etc.\n",
    "\n",
    "I recommend that you use the following activities and materials to prepare for the exam:\n",
    "* Review micro assignments, lab exercises, programming assignments, and problems solved in class\n",
    "    * These may well be your best resources. An excellent learning activity would be to re-solve the micro assignments, lab exercises, in class exercises, and programming assignments. \n",
    "* Lesson notes and example code\n",
    "* Read the textbook\n",
    "    * Read or re-read zyBooks chapters 1-6 and How to Think Like a Computer Scientist chapters 1-6. "
   ]
  },
  {
   "cell_type": "markdown",
   "metadata": {},
   "source": [
    "## Extra Practice Problems"
   ]
  },
  {
   "cell_type": "markdown",
   "metadata": {},
   "source": [
    "### 1\n",
    "Evaluate the expressions below. To check your work, run the program to see the output."
   ]
  },
  {
   "cell_type": "code",
   "execution_count": null,
   "metadata": {},
   "outputs": [],
   "source": [
    "print(5 // 3 * 2 / (4 % 3) + 5)\n",
    "print(6.0 * 7 * 2 / 4 + 5 * 11)\n",
    "print(6 % 4 + 9.0 / 4 + 2 * 5)\n",
    "print(22 / 44 + (3 % 31))\n",
    "print(15.0 - 4 // 6 + 2.0 * 1 - (14 % 6))\n",
    "print(5 % 9 == 5 or (6 * 3 // 4 > 4 and 20 / 6 != 3))\n",
    "print(4 > 3 and 2 == 2 and 3 > 9 and 34532 // 324 > 293)"
   ]
  },
  {
   "cell_type": "markdown",
   "metadata": {},
   "source": [
    "### 2\n",
    "Complement the following statements by applying DeMorgan's Law. Reduce the expressions to the simplest terms possible:\n",
    "1. `not (x and not y) or (x and y > 0)`\n",
    "1. `a or not (b and not (x < y) or a == 0)`\n",
    "1. `(a and b != c and not c) or (not a and not b and c == a)`\n",
    "1. `x < 15 and y >= 1 and (y or x)`\n",
    "1. `(a or not b or not c) and (a > c or not c)`"
   ]
  },
  {
   "cell_type": "markdown",
   "metadata": {},
   "source": [
    "### 3\n",
    "What is the output of the following code?"
   ]
  },
  {
   "cell_type": "code",
   "execution_count": null,
   "metadata": {
    "collapsed": true
   },
   "outputs": [],
   "source": [
    "x = 0\n",
    "y = 0\n",
    "if x < 5:\n",
    "    print(\"a\")\n",
    "    if y < x:\n",
    "        print(\"bc\")\n",
    "    elif x > 5:\n",
    "        print(\"def\")\n",
    "    else:\n",
    "        print(\"ghijk\")\n",
    "else:\n",
    "    print(\"lmnop\")"
   ]
  },
  {
   "cell_type": "markdown",
   "metadata": {},
   "source": [
    "### 4\n",
    "Define and call a function that accepts 3 numbers. The function computes and returns the average of the three numbers."
   ]
  },
  {
   "cell_type": "markdown",
   "metadata": {},
   "source": [
    "### 5\n",
    "What is the output of the following code?"
   ]
  },
  {
   "cell_type": "code",
   "execution_count": null,
   "metadata": {},
   "outputs": [],
   "source": [
    "y = 55.9\n",
    "x = 1 // 3\n",
    "print(\"The value %.2f is in the variable x\\n\" %(x))\n",
    "x = 4\n",
    "print(\"The value %.1f is in the variable x\\n\" %(x))\n",
    "print(\"The value %d is in the variable y\\n\" %(y))"
   ]
  },
  {
   "cell_type": "markdown",
   "metadata": {},
   "source": [
    "### 6\n",
    "What is the output of the following code?"
   ]
  },
  {
   "cell_type": "code",
   "execution_count": null,
   "metadata": {},
   "outputs": [],
   "source": [
    "def my_function(param1, param2):\n",
    "    num1 = 5\n",
    "    param2 = 2 + num1\n",
    "    print(\"%d %d\" %(num1, param2))\n",
    "    param1 = num1 * param2\n",
    "    return param1\n",
    "\n",
    "def main():\n",
    "    num1 = 3\n",
    "    num2 = 2\n",
    "    ret_val = my_function(num2, num1)\n",
    "    print(\"%d %d %d\" %(num1, num2, ret_val))\n",
    "\n",
    "main()"
   ]
  },
  {
   "cell_type": "markdown",
   "metadata": {},
   "source": [
    "### 7\n",
    "Write a program that prompts the user to enter a distance in kilometers. As part of your program, write and call the following functions:\n",
    "1. A function to get a distance in kilometers from the user.\n",
    "1. A function that converts a distance in kilometers to a distance in meters. The relationship between kilometers and meters is: 1 kilometer = 1000 meters\n",
    "1. A function to display the resulting meters."
   ]
  },
  {
   "cell_type": "markdown",
   "metadata": {},
   "source": [
    "### 8\n",
    "Define and call a function called `volume_pyramid()` that accepts two floating-point input parameters, which represent the base (B) and height (h) of the square pyramid. The function returns the volume (V) of the pyramid defined by the two parameters. Recall: $V = 1/3 \\times (B \\times h)$"
   ]
  },
  {
   "cell_type": "markdown",
   "metadata": {},
   "source": [
    "### 9\n",
    "Define and call a function `sum_multiples_of_3_7()` that returns the sum of the integers that are multiples of 3 AND 7. The function should accept three integer values as parameters. \n",
    "\n",
    "For example, your function should return 63 if 7, 21, and 42 are passed into it or 0 if 8, 3, and -7 are passed into it, etc."
   ]
  },
  {
   "cell_type": "markdown",
   "metadata": {},
   "source": [
    "### 10\n",
    "Write a program that determines the total discount, in dollars, for a customer based on age and student/employment status. The program prompts the user for a ticket price (a floating-point) and age (an integer) and sends these values as input parameters to a function called `compute_discount_amount()`. `compute_discount_amount()` does the following to determine the discount:\n",
    "\n",
    "1. Prompts the user for student status of customer. The user should enter \"y\" if they are currently a student; \"n\" otherwise.\n",
    "1. Prompts the user for employment status of customer. The user should type \"y\" if they are a WSU employee; \"n\" otherwise. Note: a customer may be a student and an employee. \n",
    "1. The following discounts should be applied: 10% for employees, 12% for senior citizens, 15% for students, and 20% for students who are also employees. Note: a customer is considered a senior citizen if they are 65 years or older. \n",
    "1. The function returns the value of the ticket price times the discount percentage."
   ]
  },
  {
   "cell_type": "markdown",
   "metadata": {},
   "source": [
    "### 11\n",
    "Given the following `main()` function, write the `evenly_divisible()` function. \n",
    "\n",
    "The `evenly_divisible()` function returns `True` if the first parameter is evenly divisible by the second, or vice versa and `False` otherwise. (Note: What about if the user enters a 0?)"
   ]
  },
  {
   "cell_type": "code",
   "execution_count": null,
   "metadata": {
    "collapsed": true
   },
   "outputs": [],
   "source": [
    "def main():\n",
    "    print(\"Please enter the first integer: \")\n",
    "    num1 = int(input())\n",
    "    print(\"Please enter the second integer: \")\n",
    "    num2 = int(input())\n",
    "    if evenly_divisible(num1, num2):\n",
    "        print(\"The two integers are evenly divisible\")\n",
    "    else:\n",
    "        print(\"The two integers are not evenly divisible\")"
   ]
  },
  {
   "cell_type": "markdown",
   "metadata": {},
   "source": [
    "### 12\n",
    "Fix all syntax, logic, and runtime errors found in the following Python code. Be sure to look for omitted keywords, values, and punctuation."
   ]
  },
  {
   "cell_type": "code",
   "execution_count": null,
   "metadata": {},
   "outputs": [],
   "source": [
    "Def main(value)\n",
    "    character = \"A\",\n",
    "    \n",
    "    print(\"Enter a character: )\n",
    "    character == input()\n",
    "    retun character"
   ]
  },
  {
   "cell_type": "markdown",
   "metadata": {},
   "source": [
    "### 13\n",
    "What will be printed by the code below?"
   ]
  },
  {
   "cell_type": "code",
   "execution_count": null,
   "metadata": {},
   "outputs": [],
   "source": [
    "x = 0.0\n",
    "y = 3.0\n",
    "\n",
    "if y < 5.0:\n",
    "    if y >= 0.0:\n",
    "        print(\"In the second if statement\")\n",
    "        x = 2 * y\n",
    "    else:\n",
    "        print(\"In the innermost else statement\")\n",
    "        x = -3 * y\n",
    "        print(\"I love programming!\")\n",
    "else:\n",
    "    x = 0 * y\n",
    "x = x + 1\n",
    "print(\"The value of x is %f\" %(x))"
   ]
  },
  {
   "cell_type": "markdown",
   "metadata": {},
   "source": [
    "### 14\n",
    "Convert this nested if statement to a single if statement with a compound condition:"
   ]
  },
  {
   "cell_type": "code",
   "execution_count": null,
   "metadata": {
    "collapsed": true
   },
   "outputs": [],
   "source": [
    "if age >= 35:\n",
    "    if born_in_us == 1:\n",
    "        if us_resident >= 14:\n",
    "            print(\"Congrats! You can run for president.\")"
   ]
  },
  {
   "cell_type": "markdown",
   "metadata": {},
   "source": [
    "### 15\n",
    "Using the code below, show the range of values for x and y (EXAMPLE: x > 0 and x < 100, y > 10) which would cause the given statements to be displayed.\n",
    "\n",
    "1. Strawberry pie\n",
    "1. Burger\n",
    "1. Burger with fries\n",
    "1. Coffee with cream\n",
    "1. Coffee with sugar\n",
    "1. Strawberry\n",
    "1. Burger\n",
    "1. Coffee"
   ]
  },
  {
   "cell_type": "code",
   "execution_count": null,
   "metadata": {},
   "outputs": [],
   "source": [
    "# , end=\"\" suppresses the newline\n",
    "if x <= 0:\n",
    "    if y > 0:\n",
    "        print(\"Strawberry \", end=\"\")\n",
    "        if x < 5:\n",
    "            print(\"pie\")\n",
    "        elif y < 2:\n",
    "            print(\"Burger \", end=\"\")\n",
    "        else:\n",
    "            print(\"with fries\")\n",
    "    else:\n",
    "        print(\"Coffee \", end=\"\")\n",
    "        if x == 0:\n",
    "            print(\"with cream\")\n",
    "        elif y > 0:\n",
    "            print(\"with sugar\")"
   ]
  },
  {
   "cell_type": "markdown",
   "metadata": {},
   "source": [
    "### 16 \n",
    "Correct the syntax errors in the code below:"
   ]
  },
  {
   "cell_type": "code",
   "execution_count": null,
   "metadata": {},
   "outputs": [],
   "source": [
    "If x > 1.0\n",
    "z = x\n",
    "else\n",
    "    z = y"
   ]
  },
  {
   "cell_type": "markdown",
   "metadata": {},
   "source": [
    "### 17\n",
    "Based on the code below, specify values for `x` and `y` that will cause the strings below to print (EXAMPLE: x > 0 and x < 100, y > 10). If it is not possible to print a string, explain why.\n",
    "1.\tI am nice bye\n",
    "1.\tYou are weird not funny\n",
    "1.\tI am not nice bye\n",
    "1.\tYou are weird not nice\n",
    "1.\tnice bye\n",
    "1.\tYou are funny not weird\n",
    "1.\tI am nice\n",
    "1.\tYou are funny not funny not weird\n",
    "1.\tYou are funny smart\n",
    "1.\tYou are weird\n",
    "1.\tbye\n",
    "1.\t(nothing printed)"
   ]
  },
  {
   "cell_type": "code",
   "execution_count": null,
   "metadata": {},
   "outputs": [],
   "source": [
    "# , end=\"\" suppresses the newline\n",
    "if x < 0 and y < 0: \n",
    "    print(\"You are \", end=\"\")\n",
    "    if x < 10: \n",
    "        print(\"weird \", end=\"\")\n",
    "    else:\n",
    "        print(\"funny \", end=\"\")\n",
    "\n",
    "    if y >= 0:\n",
    "        print(\"not funny \", end=\"\")\n",
    "    else:\n",
    "        if x > 0:\n",
    "            print(\"not weird \", end=\"\")\n",
    "        else:\n",
    "            print(\"smart \", end=\"\")\n",
    "else:\n",
    "    if x == 8: \n",
    "        print(\"I am \", end=\"\")\n",
    "    if y < 10:\n",
    "        print(\"nice \", end=\"\")\n",
    "    else:\n",
    "        print(\"not nice \", end=\"\")\n",
    "    print(\"bye\", end=\"\")"
   ]
  },
  {
   "cell_type": "markdown",
   "metadata": {},
   "source": [
    "## TODO\n",
    "1. Please study for the exam! At a *minimum*:\n",
    "    * Work or re-work through:\n",
    "        * The above practice problems\n",
    "        * Problems from class\n",
    "        * Tasks from the more recent labs\n",
    "        * Re-visit the PAs\n",
    "    * Review key concepts and definitions\n",
    "1. Work on PA3.\n",
    "\n",
    "## Next Lesson\n",
    "1. We have midterm #1.\n",
    "1. Next, we start loops!"
   ]
  }
 ],
 "metadata": {
  "anaconda-cloud": {},
  "kernelspec": {
   "display_name": "Python 3",
   "language": "python",
   "name": "python3"
  },
  "language_info": {
   "codemirror_mode": {
    "name": "ipython",
    "version": 3
   },
   "file_extension": ".py",
   "mimetype": "text/x-python",
   "name": "python",
   "nbconvert_exporter": "python",
   "pygments_lexer": "ipython3",
   "version": "3.7.1"
  }
 },
 "nbformat": 4,
 "nbformat_minor": 1
}
