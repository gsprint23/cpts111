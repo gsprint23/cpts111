{
 "cells": [
  {
   "cell_type": "markdown",
   "metadata": {},
   "source": [
    "# [CptS 111 Introduction to Algorithmic Problem Solving](https://github.com/gsprint23/cpts111)\n",
    "[Washington State University](https://wsu.edu)\n",
    "\n",
    "\n",
    "[Gina Sprint](http://eecs.wsu.edu/~gsprint/)\n",
    "# E Modules and Practice\n",
    "\n",
    "Learner objectives for this lesson\n",
    "* Understand what a module is, how to import a module, and how to access identifiers contained within a module\n",
    "* Import the `math` module and utilize math-related variables and functions\n",
    "* Import and use the `turtle` module"
   ]
  },
  {
   "cell_type": "markdown",
   "metadata": {},
   "source": [
    "## MA4 Practice Problems\n",
    "On a blank sheet of paper, write the following:\n",
    "1. Your full name\n",
    "1. Your TA name (or lab time if you don't know your TA name)\n",
    "1. MA #4\n",
    "\n",
    "In pairs, work on the following problems. Each student needs to turn in their own paper to get credit for MA4.\n",
    "\n",
    "1. What are the three kinds of programming errors? Can you give an example of each?\n",
    "    1. \n",
    "    1. \n",
    "    1. \n",
    "1. Rank the order of precedence for the following C operators (1 is the highest precedence, 5 is the lowest precedence):\n",
    "    1. `+ # binary addition `\n",
    "    1. `- # unary minus (e.g. negation)`\n",
    "    1. `% # modulus`\n",
    "    1. `= # assignment`\n",
    "    1. `() # parentheses `\n",
    "1. Evaluate each of the following equations and *determine the resultant data type*:\n",
    "    1. `4 / 12 =`\n",
    "    1. `4 // 12 =`\n",
    "    1. `4 % 12 =`\n",
    "    1. `7 // 4 =`\n",
    "    1. `9.0 / 4.0 =`\n",
    "    1. `3 / 0 = `\n",
    "    1. `3.0 % 1 =`\n",
    "    1. `16 % 0 = `\n",
    "    1. `3 % 5 = `\n",
    "    1. `9 % 5 = `\n",
    "    1. `2 * 4 ** 2 =`\n",
    "    1. `2 ** 4 ** (2 / 4) = `\n",
    "1. Given `y = m % n`, what are the possible values of `y`?\n",
    "1. Write the following equation as a Python arithmetic statement: \n",
    "$$q=\\frac{kA(T_1-T_2)}{L}$$\n",
    "1. Show the output displayed by the following program when the data entered are 12 for `m` and 0 for `n`:"
   ]
  },
  {
   "cell_type": "code",
   "execution_count": null,
   "metadata": {},
   "outputs": [],
   "source": [
    "m = int(input(\"Enter an integer> \"))\n",
    "n = int(input(\"Enter an integer> \"))\n",
    "m = m + 5\n",
    "n = 3 * n\n",
    "print(\"m = %d\\nn = %d\\n\" %(m, n))"
   ]
  },
  {
   "cell_type": "markdown",
   "metadata": {
    "collapsed": true
   },
   "source": [
    "## Python Modules\n",
    "A *module* is a file that contains a collection of related variables and functions. Python provides several modules for us programmers to use in our programs. In order to use the variables and functions within a module, we have to let Python know we want to use the module with an `import <name of module>` statement. "
   ]
  },
  {
   "cell_type": "code",
   "execution_count": null,
   "metadata": {},
   "outputs": [],
   "source": [
    "import math"
   ]
  },
  {
   "cell_type": "markdown",
   "metadata": {},
   "source": [
    "To access one of the variables or functions in a module, you type the module name (somewhere in the code *after* you import the module, remember Python executes code from top to bottom), followed by a dot, and then the name of the variable or function. For example, we can access an approximation of the mathematical constant `pi` ($\\pi$) in the `math` module:"
   ]
  },
  {
   "cell_type": "code",
   "execution_count": null,
   "metadata": {},
   "outputs": [],
   "source": [
    "print(math.pi)\n",
    "print(\"%.4f\" %(math.pi))"
   ]
  },
  {
   "cell_type": "markdown",
   "metadata": {},
   "source": [
    "As another example, to access the square root function of the `math` module, use `math.sqrt()`:"
   ]
  },
  {
   "cell_type": "code",
   "execution_count": null,
   "metadata": {},
   "outputs": [],
   "source": [
    "print(help(math.sqrt))\n",
    "print(math.sqrt(9))"
   ]
  },
  {
   "cell_type": "markdown",
   "metadata": {},
   "source": [
    "## Math Functions\n",
    "The Python `math` module defines numerous useful mathematical functions. This library is an excellent example of the power of functions: commonly-used mathematical operations are packaged up in functions that can be re-used over and over. We don't have to define these functions or know how they work, we can simply call the functions and use the return value(s). Examples of math functions available for our use include:\n",
    "* `fabs()` for absolute values\n",
    "* `ceil()` for computing the ceiling of a number\n",
    "* `floor()` for computing the floor of a number\n",
    "* `cos()` for cosine function\n",
    "* `sin()` for sine function\n",
    "* `tan()` for tangent function\n",
    "* `pow()` for raising a number to its power\n",
    "* `log()` for logarithms (see also `log2()` and `log10()`\n",
    "* `sqrt()` for computing square roots\n",
    "\n",
    "Note: trig functions expect arguments in radians, not degrees. To convert degrees to radians, multiply by (`math.pi` / 180) or use the `radians()` function in the `math` module.\n",
    "\n",
    "You can find out all the functions available within a module by importing the module, typing the module name and a dot, then pressing tab. This \"auto-complete\" feature is super helpful when learning a new library or when you can't remember the name of a function."
   ]
  },
  {
   "cell_type": "code",
   "execution_count": null,
   "metadata": {},
   "outputs": [],
   "source": [
    "x = -5\n",
    "print(\"x: %d absolute value of x: %d\" %(x, math.fabs(x)))\n",
    "\n",
    "degrees = 90\n",
    "radians = degrees * (math.pi / 180)\n",
    "print(\"sin(%d): %.2f\" %(degrees, math.sin(radians)))"
   ]
  },
  {
   "cell_type": "markdown",
   "metadata": {},
   "source": [
    "## Turtle Graphics\n",
    "There are several Python modules available for doing graphical user interface (GUI) programming. For example, the `turtle` graphics library makes it really easy to draw pictures programmatically. We will return to `turtle` graphics later, but for now, check out how easy it is to draw:"
   ]
  },
  {
   "cell_type": "code",
   "execution_count": null,
   "metadata": {},
   "outputs": [],
   "source": [
    "import turtle\n",
    "turtle.forward(100)\n",
    "turtle.done()"
   ]
  },
  {
   "cell_type": "markdown",
   "metadata": {},
   "source": [
    "<img src=\"https://raw.githubusercontent.com/gsprint23/cpts111/master/lessons/figures/turtle_simple.png\" width=450</img>"
   ]
  },
  {
   "cell_type": "markdown",
   "metadata": {},
   "source": [
    "## Software Development Method\n",
    "Equivalent to the \"Scientific Method\" in the sciences and the \"Systems Approach\" in business.\n",
    "\n",
    "Six basic steps:\n",
    "1. Specify problem requirements\n",
    "1. Analyze the problem\n",
    "1. Design an algorithm to solve the problem\n",
    "1. Implement the algorithm\n",
    "1. Test and verify the completed program\n",
    "1. Maintain and update the program\n",
    "\n",
    "Developing software is an iterative process, your first solution is generally not your best. Your understanding of software your required to build evolves as you understand the problem more. At this point don't be afraid to make mistakes!\n",
    "\n",
    "## Practice Problems\n",
    "Apply the software development method to the practice problems below. Have fun!\n",
    "\n",
    "Note: Some problem descriptions have been adapted from Chapter 2 of Hanly & Koffman's Problem Solving and Program Design in C (7th Edition)"
   ]
  },
  {
   "cell_type": "markdown",
   "metadata": {},
   "source": [
    "### <mark>Problem #1 Tax</mark>\n",
    "Write a program to compute the total price for a purchase after sales tax. Prompt the user to enter the purchase amount and the sales tax percent. Display the total price (to the nearest 2 decimal places) after adding the sales tax to the purchase amount.\n",
    "\n",
    "Example output:\n",
    "\n",
    "```\n",
    "Please enter the purchase price: 9.00\n",
    "Please enter the sales tax as a percent (%): 7.8\n",
    "Total purchase price after tax: $9.70\n",
    "```"
   ]
  },
  {
   "cell_type": "code",
   "execution_count": 2,
   "metadata": {},
   "outputs": [
    {
     "name": "stdout",
     "output_type": "stream",
     "text": [
      "Please enter the purchase price: 9.00\n",
      "Please enter the sales tax as a percent (%): 7.8\n",
      "Total purchase price after tax: $9.70\n"
     ]
    }
   ],
   "source": [
    "purchase = float(input(\"Please enter the purchase price: \"))\n",
    "tax_percent = float(input(\"Please enter the sales tax as a percent (%): \"))\n",
    "\n",
    "tax = purchase * (tax_percent / 100.0)\n",
    "purchase += tax\n",
    "\n",
    "print(\"Total purchase price after tax: $%.2f\" %(purchase))"
   ]
  },
  {
   "cell_type": "markdown",
   "metadata": {},
   "source": [
    "### <mark>Problem #2 Mileage Reimbursement</mark>\n",
    "Write a program that calculates mileage reimbursement for a salesperson at the rate of \\$.35 per mile. \n",
    "\n",
    "Example output:\n",
    "\n",
    "```\n",
    "MILEAGE REIMBURSEMENT CALCULATOR\n",
    "Please enter the beginning odometer reading: 13505.2\n",
    "Please enter the ending odometer reading: 13810.6\n",
    "You traveled 305.4 miles. At $0.35 per mile, your reimbursement is $106.89\n",
    "```"
   ]
  },
  {
   "cell_type": "code",
   "execution_count": 1,
   "metadata": {},
   "outputs": [
    {
     "name": "stdout",
     "output_type": "stream",
     "text": [
      "MILEAGE REIMBURSEMENT CALCULATOR\n",
      "Please enter the beginning odometer reading: 13505.2\n",
      "Please enter the ending odometer reading: 13810.6\n",
      "You traveled 305.4 miles. At $0.35 per mile, your reimbursement is $106.89\n"
     ]
    }
   ],
   "source": [
    "print(\"MILEAGE REIMBURSEMENT CALCULATOR\")\n",
    "odo_begin = float(input(\"Please enter the beginning odometer reading: \"))\n",
    "odo_end = float(input(\"Please enter the ending odometer reading: \"))\n",
    "\n",
    "dist_traveled = odo_end - odo_begin\n",
    "reimbursement = dist_traveled * .35\n",
    "print(\"You traveled %.1f miles. At $0.35 per mile, your reimbursement is $%.2f\" %(dist_traveled, reimbursement))"
   ]
  },
  {
   "cell_type": "markdown",
   "metadata": {},
   "source": [
    "### <mark>Problem #3 Pythagoras</mark>\n",
    "The Pythagorean theorem states that the sum of the squares of the sides of a right triangle is equal to the square of the hypotenuse.\n",
    "\n",
    "$$side1^{2} + side2^{2} = hypotenuse^{2}$$\n",
    "\n",
    "For example, if two sides of a right triangle have lengths 3 and 4, then the hypotenuse must have a length of 5. Together the integers 3, 4, and 5 form a Pythagorean triple. There are an infinite number of such triples. Given two positive integers `m` and `n`, **where `m`> `n`**, a Pythagorean triple can be generated by the following formulas:\n",
    "1. side1 = $m^2 – n^2$\n",
    "1. side2 = $2mn$\n",
    "1. hypotenuse = $m^2 + n^2$\n",
    "\n",
    "Write a program that takes the values for `m` and `n` as input and displays the values of the Pythagorean triple generated by the formulas above.\n",
    "\n",
    "Example output:\n",
    "\n",
    "```\n",
    "Please enter a m value: 4\n",
    "Please enter a n value: 2\n",
    "Pythagorean triple: 12^2 + 16^2 = 20^2\n",
    "```"
   ]
  },
  {
   "cell_type": "code",
   "execution_count": 2,
   "metadata": {},
   "outputs": [
    {
     "name": "stdout",
     "output_type": "stream",
     "text": [
      "Please enter an m value: 4\n",
      "Please enter an n value: 2\n",
      "Pythagorean triple: 12^2 + 16^2 = 20^2\n"
     ]
    }
   ],
   "source": [
    "m = int(input(\"Please enter an m value: \"))\n",
    "n = int(input(\"Please enter an n value: \"))\n",
    "\n",
    "side1 = m ** 2 - n ** 2\n",
    "side2 = 2 * m * n\n",
    "hypotenuse = m ** 2 + n ** 2\n",
    "\n",
    "print(\"Pythagorean triple: %d^2 + %d^2 = %d^2\" %(side1, side2, hypotenuse))"
   ]
  },
  {
   "cell_type": "code",
   "execution_count": 3,
   "metadata": {},
   "outputs": [
    {
     "name": "stdout",
     "output_type": "stream",
     "text": [
      "400\n",
      "400\n"
     ]
    }
   ],
   "source": [
    "# check the output\n",
    "print(12 * 12 + 16 * 16)\n",
    "print(20 * 20)"
   ]
  },
  {
   "cell_type": "markdown",
   "metadata": {},
   "source": [
    "## TODO\n",
    "1. To get good at programming you have to write code. Solve all of the practice problems above. Sketch out a pseudocode solution first on paper, then code them up in Python. \n",
    "1. Work on PA1, it is due Wednesday, February 1 at midnight.\n",
    "1. Functions can be difficult to comprehend at first. Please read about functions in zyBooks and How to Think Like a Computer Scientist for extra exposure to functions, it will help!\n",
    "\n",
    "## Next Lesson\n",
    "We will define our own functions!!"
   ]
  }
 ],
 "metadata": {
  "anaconda-cloud": {},
  "kernelspec": {
   "display_name": "Python 3",
   "language": "python",
   "name": "python3"
  },
  "language_info": {
   "codemirror_mode": {
    "name": "ipython",
    "version": 3
   },
   "file_extension": ".py",
   "mimetype": "text/x-python",
   "name": "python",
   "nbconvert_exporter": "python",
   "pygments_lexer": "ipython3",
   "version": "3.7.1"
  }
 },
 "nbformat": 4,
 "nbformat_minor": 1
}
