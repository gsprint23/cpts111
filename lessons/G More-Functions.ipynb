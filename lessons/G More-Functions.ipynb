{
 "cells": [
  {
   "cell_type": "markdown",
   "metadata": {},
   "source": [
    "# [CptS 111 Introduction to Algorithmic Problem Solving](https://github.com/gsprint23/cpts111)\n",
    "[Washington State University](https://wsu.edu)\n",
    "\n",
    "[Gina Sprint](http://eecs.wsu.edu/~gsprint/)\n",
    "# More Functions\n",
    "\n",
    "Learner objectives for this lesson\n",
    "* Understand why functions are useful to use when designing programs and solving problems\n",
    "* Understand the execution flow of a program \n",
    "* Recognize the scope of a name (identifier)"
   ]
  },
  {
   "cell_type": "markdown",
   "metadata": {},
   "source": [
    "## Practice Problem\n",
    "\n",
    "A commonly used method to provide a *rough* estimate of the right length of snowboard for a rider is to calculate 88 percent of their height. Write a program that will help people estimate the length of snowboard they should buy. Obtain the user's height in feet and inches (assume these values will be entered as integers) and display the length of snowboard in centimeters to the user. Note: There are 2.54 centimeters in an inch.\n",
    "\n",
    "Define the following functions in your solution:\n",
    "1. `get_user_height()`: Returns the user's total height in inches.\n",
    "1. `convert_inches_to_centimeters(inches)`: Returns `inches` in centimeters.\n",
    "1. `calculate_snowboard_length(height_inches)`: Returns the snowboard length estimate for a rider of `height_inches` height.\n",
    "1. `display_snowboard_length(height_inches, snowboard_cm)`: Displays the snowboard length for a rider of `height_inches`."
   ]
  },
  {
   "cell_type": "markdown",
   "metadata": {
    "collapsed": true
   },
   "source": [
    "## Why Use Functions?\n",
    "* Break a large, complex solution into logical units\n",
    "    * Individual members of a programming team can work on each unit independently\n",
    "* Procedural abstraction \n",
    "    * The calling function need not be aware of the details of how a function works—just what it does\n",
    "    * Thus, during high-level problem solving activities, we won't get bogged down in detail\n",
    "* Reuse\n",
    "    * Recall our comment on the original version of the program to compute and display the gpa of classes\n",
    "        * Redundant: Much code was duplicated\n",
    "    * Why re-write sections of code that have already been written and tested?\n",
    "    * Functions allow us to package up a well-designed solution into a **bite-size chunk that can be reused over and over**\n",
    "        * Name a group of statements for easier reading and debugging\n",
    "* Testing\n",
    "    * Allows for more efficient testing and bug resolution\n",
    "    * Each function is tested as it is implemented"
   ]
  },
  {
   "cell_type": "markdown",
   "metadata": {},
   "source": [
    "## Function Testing\n",
    "Each function is itself a small-scale \"program\" \n",
    "* It has inputs\n",
    "* It has expected outputs or side-effects\n",
    "* Ideally, it is a self-contained \"black box\" (does not manipulate global variables)\n",
    "It makes sense to test each function independently\n",
    "* Correctness can be verified before it is used in a larger scale application\n",
    "A *test-driver* is a short program that tests a specific function"
   ]
  },
  {
   "cell_type": "markdown",
   "metadata": {},
   "source": [
    "## How Functions are Executed\n",
    "* When a function is called, memory for local variables is allocated\n",
    "* Memory is released upon completion of function execution (local function variables do not \"outlive\" function)\n",
    "\n",
    "Example: Recall the function `display_gpa()`:"
   ]
  },
  {
   "cell_type": "code",
   "execution_count": 4,
   "metadata": {},
   "outputs": [
    {
     "name": "stdout",
     "output_type": "stream",
     "text": [
      "Your GPA is: 3.40\n"
     ]
    }
   ],
   "source": [
    "# function definition\n",
    "def display_gpa(gpa):\n",
    "    '''\n",
    "    Displays the final gpa to the user.\n",
    "    '''\n",
    "    print(\"Your GPA is: %.2f\" %(gpa))\n",
    "    \n",
    "# function call\n",
    "display_gpa(3.4)"
   ]
  },
  {
   "cell_type": "markdown",
   "metadata": {},
   "source": [
    "In a function call such as `display_gpa(3.4)`, the value 3.4 is considered the argument of the function. When the function is executed, the value 3.4 is *copied* into a **new local variable**, `gpa`. We call `gpa` a local variable because the variable is only accessible within `display_gpa()` on this particular functional call (`display_gpa(3.4)`).\n",
    "\n",
    "## Scope\n",
    "**Scope of a name**: region of a program where a particular meaning of a name is visible or can be referenced.\n",
    "\n",
    "### Global Variables\n",
    "Variables declared outside of a function are considered *global*. In general, global variables are a [bad idea](http://c2.com/cgi/wiki?GlobalVariablesAreBad) and we try to avoid using them.\n",
    "\n",
    "### Local Variables\n",
    "Parameter variables and variables declared within a function are considered *local*. Local variables are only visible from within that function; once function is done, variables go away (space is deallocated). Consider the following example (which is an example used for scope purposes, not as an example of good program design!):"
   ]
  },
  {
   "cell_type": "code",
   "execution_count": 3,
   "metadata": {},
   "outputs": [],
   "source": [
    "max_val = 950\n",
    "\n",
    "def one(anarg, second):\n",
    "    '''\n",
    "    \n",
    "    '''\n",
    "    one_local = 0\n",
    "\n",
    "def fun_two(one, anarg):\n",
    "    '''\n",
    "    \n",
    "    '''\n",
    "    local_var = 0\n",
    "    \n",
    "def main():\n",
    "    '''\n",
    "    \n",
    "    '''\n",
    "    local_var = 0\n",
    "    \n",
    "one(0, 1) # function call #1\n",
    "fun_two(5, 10) # function call #2\n",
    "main() # function call #3\n",
    "limit = 200"
   ]
  },
  {
   "cell_type": "markdown",
   "metadata": {},
   "source": [
    "When each of the above functions are executed from function calls #1-3, what is the scope of the following identifiers?\n",
    "\n",
    "|Name|visible in `one()` when executed<br>from function call #1|visible in `fun_two()` when executed<br>from function call #2|visible in `main()` when executed<br>from function call #3|\n",
    "|----|------------------|----------------------|-------------------|\n",
    "|`max_val`|y|y|y|\n",
    "|`limit`|n|n|n|\n",
    "|`main`|y|y|y|\n",
    "|`local_var` (local variable in `main()`)|n|n|y|\n",
    "|`one` (function)|y|n|y|\n",
    "|`anarg` (parameter in `one()`)|y|n|n|\n",
    "|`second`|y|n|n|\n",
    "|`one_local`|y|n|n|\n",
    "|`fun_two`|y|y|y|\n",
    "|`one` (parameter in `fun_two()`)|n|y|n|\n",
    "|`anarg` (parameter in `fun_two()`)|n|y|n|\n",
    "|`local_var` (local variable in `fun_two()`)|n|y|n|"
   ]
  },
  {
   "cell_type": "markdown",
   "metadata": {},
   "source": [
    "## Body-less Functions\n",
    "You can define a function without adding a body by simply placing the reserved keyword `pass` in the body. This can be useful when you want to test your program one function at a time or when you want to organize your program without actually writing the functions (or as a placeholder if someone else is writing the function). Example:"
   ]
  },
  {
   "cell_type": "code",
   "execution_count": 3,
   "metadata": {},
   "outputs": [],
   "source": [
    "def quadratic_root_finder(a, b, c):\n",
    "    '''\n",
    "    Applies the quadratic equation to find the roots of a quadratic function \n",
    "    specified by the formula ax^2 + bx + c = 0\n",
    "    \n",
    "    To efficiently be implemented by someone else!\n",
    "    '''\n",
    "    pass"
   ]
  },
  {
   "cell_type": "markdown",
   "metadata": {},
   "source": [
    "## TODO\n",
    "1. Read the functions chapters in the textbook.\n",
    "1. Work on PA2\n",
    "\n",
    "## Next Lesson\n",
    "Debugging programs and function practice!"
   ]
  }
 ],
 "metadata": {
  "anaconda-cloud": {},
  "kernelspec": {
   "display_name": "Python 3",
   "language": "python",
   "name": "python3"
  },
  "language_info": {
   "codemirror_mode": {
    "name": "ipython",
    "version": 3
   },
   "file_extension": ".py",
   "mimetype": "text/x-python",
   "name": "python",
   "nbconvert_exporter": "python",
   "pygments_lexer": "ipython3",
   "version": "3.7.1"
  }
 },
 "nbformat": 4,
 "nbformat_minor": 1
}
