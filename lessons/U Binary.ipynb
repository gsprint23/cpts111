{
 "cells": [
  {
   "cell_type": "markdown",
   "metadata": {},
   "source": [
    "# [CptS 111 Introduction to Algorithmic Problem Solving](https://github.com/gsprint23/cpts111)\n",
    "[Washington State University](https://wsu.edu)\n",
    "\n",
    "[Gina Sprint](http://eecs.wsu.edu/~gsprint/)\n",
    "# Binary\n",
    "\n",
    "Learner objectives for this lesson\n",
    "* Review the decimal number system\n",
    "* Learn the binary number system\n",
    "* By hand, convert binary to/from decimal\n",
    "* Implement algorithms to convert binary to/from decimal"
   ]
  },
  {
   "cell_type": "markdown",
   "metadata": {},
   "source": [
    "## Review of Decimal\n",
    "The decimal (base 10) number system we use is a *positional* number system using the digits 0 through 9 (another example of zero-basing!). Each digit in a decimal number, such as 346, is in a position representing a power of 10.\n",
    "\n",
    "|...|thousands|hundreds|tens|ones|\n",
    "|-|-|-|-|\n",
    "|...|1000|100|10|1|\n",
    "|...|$10^3$|$10^2$|$10^1$|$10^0$|\n",
    "|...|0|3|4|6|\n",
    "\n",
    "A decimal number is the sum of the digits multiplied by their positional power of 10. Continuing with the 346 example:\n",
    "\n",
    "|$10^2$|$10^1$|$10^0$|\n",
    "|-|-|-|\n",
    "|3|4|6|\n",
    "\n",
    "$3 * 10^2 + 4 * 10^1 + 6 * 10^0 = 3 * 100 + 4 * 10 + 6 * 1 = 300 + 40 + 6 = 346$"
   ]
  },
  {
   "cell_type": "markdown",
   "metadata": {},
   "source": [
    "## Binary\n",
    "Binary, like decimal, is a positional number system. Binary uses only the digits 0 and 1 though! Each digit in a binary number, such as $1011_{2}$ (The $_{2}$ denotes this number is in base 2, not base 10), is in a position representing a power of 2.\n",
    "\n",
    "|...|eights|fours|twos|ones|\n",
    "|-|-|-|-|\n",
    "|...|8|4|2|1|\n",
    "|...|$2^3$|$2^2$|$2^1$|$2^0$|\n",
    "|...|1|0|1|1|\n",
    "\n",
    "A binary number is the sum of the digits multiplied by their positional power of 2. Continuing with the $1011_{2}$ example:\n",
    "\n",
    "|$2^3$|$2^2$|$2^1$|$2^0$|\n",
    "|-|-|-|-|\n",
    "|1|0|1|1|\n",
    "\n",
    "$1 * 2^3 + 0 * 2^2 + 1 * 2^1 + 1 * 2^0 = 1 * 8 + 0 * 4 + 1 * 2 + 1 * 1 = 8 + 0 + 2 + 1 = 11$\n",
    "\n",
    "For reference, let's review the first couple powers of two:\n",
    "1. $2^0 = 1$\n",
    "1. $2^1 = 2$\n",
    "1. $2^2 = 4$\n",
    "1. $2^3 = 8$\n",
    "1. $2^4 = 16$\n",
    "1. $2^5 = 32$\n",
    "1. $2^6 = 64$\n",
    "1. $2^7 = 128$\n",
    "1. $2^8 = 256$\n",
    "1. $2^9 = 512$\n",
    "1. $2^{10} = 1024$\n",
    "1. $2^{11} = 2048$\n",
    "1. $2^{12} = 4096$\n",
    "\n",
    "Where have you seen these numbers before? One place you have seen them before is hard drive storage size! Hard drives usually come in sizes that are powers of two, such as 256 gigabyte (Gb), 512 gigabyte (Gb), or 1 terabyte (Tb) (1 Tb = 1024 Gb). \n",
    "\n",
    "Note that 1 Gb = $2^{30} = 1,073,741,824$ bytes, 1 Tb = $2^{30} + 2^{10}$ = $2^{40} = 1,099,511,627,776$ bytes, and 1 byte = $2^{3}$ = 8 bits. If this is interesting to you, consider taking CptS 260, Computer Organization and Architecture!"
   ]
  },
  {
   "cell_type": "markdown",
   "metadata": {},
   "source": [
    "## Binary to Decimal\n",
    "To convert a binary number to decimal, perform the above summation process. An algorithm to do this:\n",
    "1. For each bit in the binary number\n",
    "1. If the bit is a 1\n",
    "    1. Add $2^{i}$ to the accumulated sum, where $i$ is the position of the bit\n",
    "\n",
    "### Example: Convert 1010101 to decimal\n",
    "$1 * 2^6 + 0 * 2^5 + 1 * 2^4 + 0 * 2^3 + 1 * 2^2 + 0 * 2^1 + 1 * 2^0 = 1 * 64 + 0 * 32 + 1 * 16 + 0 * 8 + 1 * 4 + 0 * 2 + 1 * 1 = 64 + 16 + 4 + 1 = 85$\n",
    "\n",
    "### General Example\n",
    "Write a function that accepts a string representing a binary number and returns an integer representing the string in decimal. "
   ]
  },
  {
   "cell_type": "code",
   "execution_count": 9,
   "metadata": {},
   "outputs": [
    {
     "name": "stdout",
     "output_type": "stream",
     "text": [
      "85\n"
     ]
    }
   ],
   "source": [
    "def binary_to_decimal(binary):\n",
    "    '''\n",
    "    \n",
    "    '''\n",
    "    decimal = 0\n",
    "    highest_power_two = len(binary) - 1\n",
    "    \n",
    "    for i in range(len(binary)):\n",
    "        digit = int(binary[i])\n",
    "        decimal += digit * 2 ** (highest_power_two - i)\n",
    "        \n",
    "    return decimal\n",
    "\n",
    "print(binary_to_decimal(\"1010101\"))\n",
    "    "
   ]
  },
  {
   "cell_type": "markdown",
   "metadata": {},
   "source": [
    "## Decimal to Binary\n",
    "This is the more tricky conversion! To convert a decimal number to binary, we follow the algorithm:\n",
    "1. Identify the largest power of 2 in the decimal number, $2^N$\n",
    "1. For each power of 2 $2^N, 2^{N - 1}, ..., 2 ^{0}$\n",
    "1. If the power of 2 goes into the number evenly\n",
    "    1. place a 1 at that power's position\n",
    "    1. subtract the power of 2 from the number \n",
    "1. Else\n",
    "    1. Place a 0 in that power's position\n",
    "\n",
    "### Example: Convert 94 to binary.\n",
    "Highest power of 2 in 94 is $2^6 = 64$\n",
    "Algorithm:\n",
    "* $2^6 = 64$ go into 94 evenly?\n",
    "    * YES: place a 1 on the $2^6$ position\n",
    "    * Binary number so far: 1??????\n",
    "    * $94 - 2^6 = 94 - 64 = 30$\n",
    "* $2^5 = 32$ go into 30 evenly?\n",
    "    * NO: place a 0 on the $2^5$ position\n",
    "    * Binary number so far: 10?????\n",
    "* $2^4 = 16$ go into 30 evenly?\n",
    "    * YES: place a 1 on the $2^4$ position\n",
    "    * Binary number so far: 101????\n",
    "    * $30 - 2^4 = 30 - 16 = 14$\n",
    "* $2^3 = 8$ go into 14 evenly?\n",
    "    * YES: place a 1 on the $2^3$ position\n",
    "    * Binary number so far: 1011???\n",
    "    * $14 - 2^3 = 14 - 8 = 6$\n",
    "* $2^2 = 4$ go into 6 evenly?\n",
    "    * YES: place a 1 on the $2^2$ position\n",
    "    * Binary number so far: 10111??\n",
    "    * $6 - 2^2 = 6 - 4 = 2$\n",
    "* $2^1 = 2$ go into 2 evenly?\n",
    "    * YES: place a 1 on the $2^1$ position\n",
    "    * Binary number so far: 101111?\n",
    "    * $2 - 2^1 = 2 - 2 = 0$\n",
    "* $2^0 = 1$ go into 0 evenly?\n",
    "    * NO: place a 0 on the $2^0$ position\n",
    "    * Binary number so far: 1011110\n",
    "94 in binary: 1011110\n",
    "\n",
    "### General Example\n",
    "Write a function that accepts an integer and returns a string representing the integer in binary."
   ]
  },
  {
   "cell_type": "code",
   "execution_count": 10,
   "metadata": {},
   "outputs": [
    {
     "name": "stdout",
     "output_type": "stream",
     "text": [
      "1011110\n"
     ]
    }
   ],
   "source": [
    "import math\n",
    "\n",
    "def decimal_to_binary(decimal):\n",
    "    '''\n",
    "    \n",
    "    '''\n",
    "    binary = \"\"\n",
    "    highest_power_two = int(math.log(decimal, 2)) # compute highest_power_two with log base 2(decimal)\n",
    "    \n",
    "    for N in range(highest_power_two, -1, -1):\n",
    "        power_two = 2 ** N\n",
    "        if decimal // power_two > 0: # check is power_two goes into the number evenly\n",
    "            binary += \"1\"\n",
    "            decimal -= power_two\n",
    "        else:\n",
    "            binary += \"0\"\n",
    "    \n",
    "    return binary\n",
    "\n",
    "print(decimal_to_binary(94))"
   ]
  },
  {
   "cell_type": "markdown",
   "metadata": {},
   "source": [
    "## TODO\n",
    "1. Work on PA6.\n",
    "1. Read Chapters 10, 11, and 12.\n",
    "\n",
    "## Next Lesson\n",
    "We cover dictionaries, a quite powerful data structure!"
   ]
  }
 ],
 "metadata": {
  "anaconda-cloud": {},
  "kernelspec": {
   "display_name": "Python 3",
   "language": "python",
   "name": "python3"
  },
  "language_info": {
   "codemirror_mode": {
    "name": "ipython",
    "version": 3
   },
   "file_extension": ".py",
   "mimetype": "text/x-python",
   "name": "python",
   "nbconvert_exporter": "python",
   "pygments_lexer": "ipython3",
   "version": "3.7.1"
  }
 },
 "nbformat": 4,
 "nbformat_minor": 1
}
