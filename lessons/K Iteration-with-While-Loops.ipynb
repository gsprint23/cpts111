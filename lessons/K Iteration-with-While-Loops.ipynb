{
 "cells": [
  {
   "cell_type": "markdown",
   "metadata": {},
   "source": [
    "# [CptS 111 Introduction to Algorithmic Problem Solving](https://github.com/gsprint23/cpts111)\n",
    "[Washington State University](https://wsu.edu)\n",
    "\n",
    "[Gina Sprint](http://eecs.wsu.edu/~gsprint/)\n",
    "# Iteration with While Loops\n",
    "\n",
    "Learner objectives for this lesson\n",
    "* Repeat a sequence of Python statements using iterative constructs\n",
    "* Apply the `while` reserved keyword to construct loops"
   ]
  },
  {
   "cell_type": "markdown",
   "metadata": {
    "collapsed": true
   },
   "source": [
    "## Recall\n",
    "Recall that algorithms are composed of three different kinds of statements:\n",
    "* Sequential: the ability to execute a series of instructions, one after the other.\n",
    "* Conditional: the ability to execute an instruction contingent upon some condition.\n",
    "* Iterative: the ability to execute one or more instructions repeatedly.\n",
    "\n",
    "Today, we'll learn about loops: the ability to repeatedly execute a sequence of statements.\n",
    "\n",
    "We have already see examples where we have repeated functionality several times, such as:\n",
    "* Lab4: drawing arms of snowflakes with Turtle graphics\n",
    "* Lab5: prompting the user to enter 5 numbers and computing the average\n",
    "\n",
    "As another example of repetition, consider the following problem statement:\n",
    "\n",
    "Suppose I want to know, on average, how much money do I spend per credit card transaction?\n",
    "\n",
    "Algorithm:\n",
    "1. For each transaction\n",
    "    1. Read in the purchase price\n",
    "    1. Accumulate the total money spent so far\n",
    "1. Divide total money spent by total number of transactions\n",
    "\n",
    "If we know in advance how many transactions there are (let's say there are 5), we can write this code as follows:"
   ]
  },
  {
   "cell_type": "code",
   "execution_count": 1,
   "metadata": {},
   "outputs": [
    {
     "name": "stdout",
     "output_type": "stream",
     "text": [
      "Please enter a transaction: 100.00\n",
      "Please enter a transaction: 250.50\n",
      "Please enter a transaction: 100.50\n",
      "Please enter a transaction: 5.90\n",
      "Please enter a transaction: 100.00\n",
      "On average, you spend 111.38 per credit card transaction\n"
     ]
    }
   ],
   "source": [
    "def get_transaction_price():\n",
    "    '''\n",
    "    \n",
    "    '''\n",
    "    print(\"Please enter a transaction: \", end=\"\")\n",
    "    price = float(input())\n",
    "    return price\n",
    "\n",
    "def compute_total_spent():\n",
    "    '''\n",
    "    \n",
    "    '''\n",
    "    total_spent = 0.0\n",
    "\n",
    "    # get all 5 transactions from the user\n",
    "    total_spent += get_transaction_price()\n",
    "    total_spent += get_transaction_price()\n",
    "    total_spent += get_transaction_price()\n",
    "    total_spent += get_transaction_price()\n",
    "    total_spent += get_transaction_price()\n",
    "    total_spent += get_transaction_price()\n",
    "    total_spent += get_transaction_price()\n",
    "    total_spent += get_transaction_price()\n",
    "    total_spent += get_transaction_price()\n",
    "    total_spent += get_transaction_price()\n",
    "    \n",
    "    \n",
    "    return total_spent\n",
    "\n",
    "total_spent = compute_total_spent()\n",
    "\n",
    "avg_spent_per_transaction = total_spent / 5.0\n",
    "\n",
    "print(\"On average, you spend %.2f per credit card transaction\" %(avg_spent_per_transaction))"
   ]
  },
  {
   "cell_type": "markdown",
   "metadata": {},
   "source": [
    "The line `total_spent += get_transaction_price()` is repeated 5 times, one time for each transaction entered by the user. But what if there are 1000 transactions? It would be tedious to have to repeat the accumulation statement 1000 times. What if we had to change something about the statement, maybe the name of the function? Not fun! Thus, enter loops. \n",
    "\n",
    "**Loops let you repeat a body of Python statements as many times as you would like.**\n",
    "\n",
    "## When is a Loop Needed?\n",
    "Are any steps repeated?\n",
    "* No: then no loop required\n",
    "* Yes: use a loop, simple as that!\n",
    "\n",
    "There are two kinds of loop statements in Python. The `while` loop and the `for` loop.\n",
    "\n",
    "## The `while` Loop\n",
    "The `while` loop is of the following general form:\n",
    "\n",
    "```\n",
    "while <test>:\n",
    "    <body>\n",
    "```\n",
    "\n",
    "Where `<test>` is a Boolean condition and **`<body>` contains indented code that progresses towards the Boolean condition testing `False`** (a way to exit the loop).\n",
    "* `<test>` is evaluated at the beginning of the loop\n",
    "    * if `<test>` is `True`, `<body>` will be executed.\n",
    "    * if `<test>` is `False`, the first line of code *after* the indented `<body>` is executed.\n",
    "* After the last statement in `<body>` is executed, control is shifted back to the beginning of the loop and `<test>` is re-evaluated.\n",
    "* Progress towards the Boolean condition becoming `False` must be made in `<body>` Otherwise, we will have an infinite loop!\n",
    "\n",
    "![](http://www.tutorialspoint.com/python/images/python_while_loop.jpg)\n",
    "(Image from [http://www.tutorialspoint.com/python/images/python_while_loop.jpg](http://www.tutorialspoint.com/python/images/python_while_loop.jpg))\n",
    "\n",
    "Let's start with a simple example. Write a program to print `num_stars` number of stars:"
   ]
  },
  {
   "cell_type": "code",
   "execution_count": 2,
   "metadata": {},
   "outputs": [
    {
     "name": "stdout",
     "output_type": "stream",
     "text": [
      "**********\n",
      "\n"
     ]
    }
   ],
   "source": [
    "# initialize a loop control variable\n",
    "num_stars = 10\n",
    "\n",
    "while num_stars > 0: # boolean condition\n",
    "    # body of while loop. These indented statements will be repeated when the boolean condition is True\n",
    "    print(\"*\", end=\"\")\n",
    "    num_stars -= 1 # progress towards boolean condition being False\n",
    "\n",
    "# this is the first line of code to be executed once the boolean condition is False\n",
    "print(\"\\n\")"
   ]
  },
  {
   "cell_type": "markdown",
   "metadata": {},
   "source": [
    "![](https://raw.githubusercontent.com/gsprint23/cpts111/master/lessons/figures/while_loop_example.png)\n",
    "\n",
    "Note: Often we will have a variable whose value is tested in the Boolean condition. We call this variable a *loop control* variable. In the example above, `num_stars` is our loop control variable. We test its value in the Boolean condition.\n",
    "\n",
    "As loops can get complicated (especially when we implement nested loops), making a table to track the value of the loop control variable(s) can be helpful. For the above example, this would like like the following:\n",
    "\n",
    "|num_stars|output|\n",
    "|-|-|\n",
    "|5|\\*|\n",
    "|4|\\*|\n",
    "|3|\\*|\n",
    "|2|\\*|\n",
    "|1|\\*|\n",
    "|0|Exit loop|"
   ]
  },
  {
   "cell_type": "markdown",
   "metadata": {},
   "source": [
    "Now let's write a program to print the first 20 even numbers (2 4 6 8 10 12 14 16 18 20 22 24 26 28 30 32 34 36 38 40):"
   ]
  },
  {
   "cell_type": "code",
   "execution_count": 11,
   "metadata": {},
   "outputs": [
    {
     "name": "stdout",
     "output_type": "stream",
     "text": [
      "One approach: \n",
      "2\n",
      "4\n",
      "6\n",
      "8\n",
      "10\n",
      "12\n",
      "14\n",
      "16\n",
      "18\n",
      "20\n",
      "22\n",
      "24\n",
      "26\n",
      "28\n",
      "30\n",
      "32\n",
      "34\n",
      "36\n",
      "38\n",
      "40\n",
      "Another approach: \n",
      "2\n",
      "4\n",
      "6\n",
      "8\n",
      "10\n",
      "12\n",
      "14\n",
      "16\n",
      "18\n",
      "20\n",
      "22\n",
      "24\n",
      "26\n",
      "28\n",
      "30\n",
      "32\n",
      "34\n",
      "36\n",
      "38\n",
      "40\n",
      "Another approach: \n",
      "2\n",
      "4\n",
      "6\n",
      "8\n",
      "10\n",
      "12\n",
      "14\n",
      "16\n",
      "18\n",
      "20\n",
      "22\n",
      "24\n",
      "26\n",
      "28\n",
      "30\n",
      "32\n",
      "34\n",
      "36\n",
      "38\n",
      "40\n"
     ]
    }
   ],
   "source": [
    "print(\"One approach: \")\n",
    "i = 1\n",
    "while i <= 20:\n",
    "    print(i * 2)\n",
    "    i += 1\n",
    "    \n",
    "print(\"Another approach: \")\n",
    "i = 2 \n",
    "while i <= 40:\n",
    "    print(i)\n",
    "    i += 2\n",
    "    \n",
    "print(\"Another approach: \")\n",
    "i = 2\n",
    "while i <= 40:\n",
    "    if i % 2 == 0:\n",
    "        print(i)\n",
    "    i += 1"
   ]
  },
  {
   "cell_type": "markdown",
   "metadata": {},
   "source": [
    "## Looping Transactions\n",
    "Now, let's rewrite our transaction program to read in a variable number of credit card transactions using loops:"
   ]
  },
  {
   "cell_type": "code",
   "execution_count": 8,
   "metadata": {},
   "outputs": [
    {
     "name": "stdout",
     "output_type": "stream",
     "text": [
      "Please enter the number of transactions: 5\n",
      "Please enter a transaction: 10\n",
      "Please enter a transaction: 11\n",
      "Please enter a transaction: 56\n",
      "Please enter a transaction: 77\n",
      "Please enter a transaction: 45\n",
      "On average, you spend 39.80 per credit card transaction\n"
     ]
    }
   ],
   "source": [
    "def compute_total_spent_loop(num_transactions):\n",
    "    '''\n",
    "    \n",
    "    '''\n",
    "    total_spent = 0.0\n",
    "\n",
    "    i = 0\n",
    "    while i < num_transactions:\n",
    "        # read in all num_transactions transactions from the user\n",
    "        total_spent += get_transaction_price()\n",
    "        i += 1\n",
    "    return total_spent\n",
    "\n",
    "print(\"Please enter the number of transactions: \", end=\"\")\n",
    "num = int(input())\n",
    "total_spent = compute_total_spent_loop(num)\n",
    "avg_spent_per_transaction = total_spent / num\n",
    "print(\"On average, you spend %.2f per credit card transaction\" %(avg_spent_per_transaction))"
   ]
  },
  {
   "cell_type": "markdown",
   "metadata": {},
   "source": [
    "#### Completing the Guessing Game\n",
    "Now that we know how to use `while` loops, let's add the functionality to continue prompting the user to guess a number, *until they guess correctly* (this is our stopping condition of our loop!)."
   ]
  },
  {
   "cell_type": "code",
   "execution_count": 10,
   "metadata": {},
   "outputs": [
    {
     "name": "stdout",
     "output_type": "stream",
     "text": [
      "Please enter a number between 1 and 10 inclusive\n",
      "7\n",
      "Your guess was too high\n",
      "Please enter a number between 1 and 10 inclusive\n",
      "2\n",
      "Your guess was too low\n",
      "Please enter a number between 1 and 10 inclusive\n",
      "3\n",
      "Your guess was too low\n",
      "Please enter a number between 1 and 10 inclusive\n",
      "4\n",
      "Congrats, you guessed the number correctly\n",
      "Exiting guessing game program\n"
     ]
    }
   ],
   "source": [
    "num_to_guess = 4\n",
    "players_guess = 0\n",
    "correct = False\n",
    "\n",
    "while not correct:\n",
    "    print(\"Please enter a number between 1 and 10 inclusive\")\n",
    "    players_guess = int(input())\n",
    "\n",
    "    # a guess is either equal to, greater than, or less than \n",
    "    if players_guess == num_to_guess: # BC 1\n",
    "        print(\"Congrats, you guessed the number correctly\")\n",
    "        correct = True # exit loop\n",
    "    elif players_guess > num_to_guess: # BC 2\n",
    "        print(\"Your guess was too high\")\n",
    "    else: # players_guess < num_to_guess\n",
    "        print(\"Your guess was too low\")\n",
    "print(\"Exiting guessing game program\")"
   ]
  },
  {
   "cell_type": "markdown",
   "metadata": {},
   "source": [
    "## TODO\n",
    "1. Read in the textbooks.\n",
    "1. PA3 is due on Wednesday, get 'er done!\n",
    "\n",
    "## Next Lesson\n",
    "1. More on loops.\n",
    "1. Random numbers."
   ]
  }
 ],
 "metadata": {
  "anaconda-cloud": {},
  "kernelspec": {
   "display_name": "Python 3",
   "language": "python",
   "name": "python3"
  },
  "language_info": {
   "codemirror_mode": {
    "name": "ipython",
    "version": 3
   },
   "file_extension": ".py",
   "mimetype": "text/x-python",
   "name": "python",
   "nbconvert_exporter": "python",
   "pygments_lexer": "ipython3",
   "version": "3.7.1"
  }
 },
 "nbformat": 4,
 "nbformat_minor": 1
}
