{
 "cells": [
  {
   "cell_type": "markdown",
   "metadata": {},
   "source": [
    "# [CptS 111 Introduction to Algorithmic Problem Solving](https://github.com/gsprint23/cpts111)\n",
    "[Washington State University](https://wsu.edu)\n",
    "\n",
    "[Gina Sprint](http://eecs.wsu.edu/~gsprint/)\n",
    "# Iteration with For Loops\n",
    "\n",
    "Learner objectives for this lesson\n",
    "* Generate random numbers\n",
    "* Repeat a sequence of Python statements using iterative constructs\n",
    "* Apply the `for` reserved keyword to construct loops"
   ]
  },
  {
   "cell_type": "markdown",
   "metadata": {},
   "source": [
    "### Random Numbers\n",
    "To generate random numbers, we need to import the `random` module. Then, we can call either function to generate a random number:\n",
    "1. `randrange(start, stop)` to generate a random number in the range `start` to `stop - 1`\n",
    "2. `randint(start, stop)` to generate a random number in the range `start` to `stop`"
   ]
  },
  {
   "cell_type": "code",
   "execution_count": 5,
   "metadata": {},
   "outputs": [
    {
     "name": "stdout",
     "output_type": "stream",
     "text": [
      "5\n",
      "9\n"
     ]
    }
   ],
   "source": [
    "import random\n",
    "\n",
    "# get a random number in the range [0, 9] inclusive\n",
    "rand_num = random.randrange(0, 10)\n",
    "print(rand_num)\n",
    "\n",
    "# alternative function\n",
    "# get a random number in the range [0, 9] inclusive\n",
    "rand_num = random.randint(0, 9)\n",
    "print(rand_num)"
   ]
  },
  {
   "cell_type": "markdown",
   "metadata": {},
   "source": [
    "## Application of `while` Loops: Generating Multiple Random Numbers\n",
    "Example problem: Write a program to display 10 random numbers in the range [1, 6] inclusive."
   ]
  },
  {
   "cell_type": "code",
   "execution_count": 6,
   "metadata": {},
   "outputs": [
    {
     "name": "stdout",
     "output_type": "stream",
     "text": [
      "5\n",
      "2\n",
      "6\n",
      "4\n",
      "2\n",
      "1\n",
      "3\n",
      "1\n",
      "5\n",
      "2\n"
     ]
    }
   ],
   "source": [
    "import random\n",
    "\n",
    "i = 0\n",
    "while i < 10:\n",
    "    rand_num = random.randrange(1, 7)\n",
    "    print(rand_num)\n",
    "    i += 1"
   ]
  },
  {
   "cell_type": "markdown",
   "metadata": {},
   "source": [
    "## Another Application of `while` Loops: Menus\n",
    "Now, let's write a program that includes a menu for a game. Let's say the menu has 4 options:\n",
    "1. View the game rules\n",
    "1. Play the game\n",
    "1. View the high score\n",
    "1. Quit\n",
    "\n",
    "Let's define 3 functions to implement this program:\n",
    "1. `display_menu()`\n",
    "1. `take_menu_action(choice)`\n",
    "1. `main()`"
   ]
  },
  {
   "cell_type": "code",
   "execution_count": 1,
   "metadata": {},
   "outputs": [
    {
     "name": "stdout",
     "output_type": "stream",
     "text": [
      "\n",
      "**Welcome to my game!**\n",
      "Please choose from the following options\n",
      "1) View the game rules\n",
      "2) Play the game\n",
      "3) View the high score\n",
      "4) Quit\n",
      "Menu choice: 1\n",
      "Displaying rules...\n",
      "\n",
      "**Welcome to my game!**\n",
      "Please choose from the following options\n",
      "1) View the game rules\n",
      "2) Play the game\n",
      "3) View the high score\n",
      "4) Quit\n",
      "Menu choice: 2\n",
      "Playing the game...\n",
      "\n",
      "**Welcome to my game!**\n",
      "Please choose from the following options\n",
      "1) View the game rules\n",
      "2) Play the game\n",
      "3) View the high score\n",
      "4) Quit\n",
      "Menu choice: 3\n",
      "Displaying the high score...\n",
      "\n",
      "**Welcome to my game!**\n",
      "Please choose from the following options\n",
      "1) View the game rules\n",
      "2) Play the game\n",
      "3) View the high score\n",
      "4) Quit\n",
      "Menu choice: 5\n",
      "Not a valid menu option\n",
      "\n",
      "**Welcome to my game!**\n",
      "Please choose from the following options\n",
      "1) View the game rules\n",
      "2) Play the game\n",
      "3) View the high score\n",
      "4) Quit\n",
      "Menu choice: 4\n",
      "Saving game state and exiting...\n"
     ]
    }
   ],
   "source": [
    "def display_menu():\n",
    "    '''\n",
    "    \n",
    "    '''\n",
    "    print(\"\\n**Welcome to my game!**\")\n",
    "    print(\"Please choose from the following options\")\n",
    "    print(\"1) View the game rules\")\n",
    "    print(\"2) Play the game\")\n",
    "    print(\"3) View the high score\")\n",
    "    print(\"4) Quit\")\n",
    "\n",
    "def take_menu_action(choice):\n",
    "    '''\n",
    "    \n",
    "    '''\n",
    "    if choice == 1:\n",
    "        print(\"Displaying rules...\")\n",
    "        # TODO call a function to display the rules\n",
    "    elif choice == 2:\n",
    "        print(\"Playing the game...\")\n",
    "        # TODO call a function to play the game\n",
    "    elif choice == 3:\n",
    "        print(\"Displaying the high score...\")\n",
    "        # TODO call a function to display the high score\n",
    "    elif choice == 4:\n",
    "        print(\"Saving game state and exiting...\")\n",
    "        # TODO call a function to save the state of the game (e.g. high score)\n",
    "    else:\n",
    "        print(\"Not a valid menu option\")\n",
    "    \n",
    "def main():\n",
    "    '''\n",
    "    \n",
    "    '''\n",
    "    choice = -1\n",
    "    while choice != 4:\n",
    "        display_menu()\n",
    "        choice = int(input(\"Menu choice: \"))\n",
    "        take_menu_action(choice)\n",
    "\n",
    "main()"
   ]
  },
  {
   "cell_type": "markdown",
   "metadata": {
    "collapsed": true
   },
   "source": [
    "## The `for` Loop\n",
    "In addition to `while` loops, Python has another type of loop, the `for` loop. `for` loops have the general template\n",
    "\n",
    "```\n",
    "for <item> in <sequence>:\n",
    "    <body>\n",
    "```\n",
    "\n",
    "Where `<sequence>` contains a *finite number of items* to be iterated through. If `<sequence>` is not finite, then we have an infinite loop!\n",
    "\n",
    "![](http://www.tutorialspoint.com/python/images/python_for_loop.jpg)\n",
    "(image taken from [http://www.tutorialspoint.com/python/images/python_for_loop.jpg](http://www.tutorialspoint.com/python/images/python_for_loop.jpg))"
   ]
  },
  {
   "cell_type": "markdown",
   "metadata": {},
   "source": [
    "## `range()`\n",
    "Often we want to run a loop for sequence of values starting at `start`, ending at `stop`, and incrementing by `step`. For example, consider the first 20 even numbers. We want to start generating numbers at 2, end at 40 (and include 40), and increase by 2: 2, 4, 6, 8,..., 38, 40.\n",
    "\n",
    "We can accomplish this by generating this sequence with the [`range()`](https://docs.python.org/3/library/functions.html#func-range) built-in Python function:\n",
    "\n",
    "`range(start, stop, step)`\n",
    "\n",
    "Let's re-write our \"first 20 even number code\" using a `for` loop:"
   ]
  },
  {
   "cell_type": "code",
   "execution_count": 2,
   "metadata": {},
   "outputs": [
    {
     "name": "stdout",
     "output_type": "stream",
     "text": [
      "2\n",
      "4\n",
      "6\n",
      "8\n",
      "10\n",
      "12\n",
      "14\n",
      "16\n",
      "18\n",
      "20\n",
      "22\n",
      "24\n",
      "26\n",
      "28\n",
      "30\n",
      "32\n",
      "34\n",
      "36\n",
      "38\n",
      "40\n",
      "\n",
      "\n",
      "2\n",
      "3\n",
      "4\n",
      "5\n",
      "6\n",
      "7\n",
      "8\n",
      "9\n",
      "10\n",
      "11\n",
      "12\n",
      "13\n",
      "14\n",
      "15\n",
      "16\n",
      "17\n",
      "18\n",
      "19\n",
      "20\n",
      "21\n",
      "22\n",
      "23\n",
      "24\n",
      "25\n",
      "26\n",
      "27\n",
      "28\n",
      "29\n",
      "30\n",
      "31\n",
      "32\n",
      "33\n",
      "34\n",
      "35\n",
      "36\n",
      "37\n",
      "38\n",
      "39\n",
      "40\n",
      "41\n",
      "\n",
      "\n",
      "0\n",
      "1\n"
     ]
    }
   ],
   "source": [
    "for number in range(2, 42, 2):\n",
    "    print(number)\n",
    "    \n",
    "print(\"\\n\")\n",
    "\n",
    "for number in range(2, 42):\n",
    "    print(number)\n",
    "    \n",
    "print(\"\\n\")\n",
    "\n",
    "for number in range(2):\n",
    "    print(number)"
   ]
  },
  {
   "cell_type": "markdown",
   "metadata": {},
   "source": [
    "Note: `stop` specifies the index at which to terminate the loop. This is the Boolean condition, `number < stop`. When `number` equals or exceeds `stop`, the Boolean condition is `False` and the loop ends.\n",
    "\n",
    "Note: If you do not specify a `step`, it is assumed to be 1: `range(0, 10)`\n",
    "\n",
    "Note: If you only pass in one input argument to `range`, i.e. `range(10)`, `start` is assumed to be 0 and `stop` is the input argument value.\n",
    "\n",
    "In summary: `range(0, 10, 1):` is equivalent to `range(0, 10):` is equivalent to `range(10):`\n",
    "\n",
    "Try writing a program to prompt the user to enter a number, then using `for` loop to print as many stars as the number the user entered."
   ]
  },
  {
   "cell_type": "code",
   "execution_count": 3,
   "metadata": {},
   "outputs": [
    {
     "name": "stdout",
     "output_type": "stream",
     "text": [
      "Please enter the number of stars to print: 5\n",
      "*****"
     ]
    }
   ],
   "source": [
    "num_stars = int(input(\"Please enter the number of stars to print: \"))\n",
    "\n",
    "for i in range(num_stars):\n",
    "    print(\"*\", end=\"\")"
   ]
  },
  {
   "cell_type": "markdown",
   "metadata": {},
   "source": [
    "Let's re-write our transaction loop code to use `for` loops instead of `while` loops:"
   ]
  },
  {
   "cell_type": "code",
   "execution_count": 4,
   "metadata": {},
   "outputs": [
    {
     "name": "stdout",
     "output_type": "stream",
     "text": [
      "Please enter the number of transactions: 5\n",
      "Please enter a transaction: 100.50\n",
      "100.5\n",
      "Please enter a transaction: 50.45\n",
      "50.45\n",
      "Please enter a transaction: 23.43\n",
      "23.43\n",
      "Please enter a transaction: 22.22\n",
      "22.22\n",
      "Please enter a transaction: 100.00\n",
      "100.0\n",
      "On average, you spend 59.32 per transaction\n"
     ]
    }
   ],
   "source": [
    "def read_transaction_price():\n",
    "    '''\n",
    "    \n",
    "    '''\n",
    "    print(\"Please enter a transaction: \", end=\"\")\n",
    "    price = float(input())\n",
    "    print(price)\n",
    "    return price\n",
    "\n",
    "\n",
    "def compute_total_spent_loop(num_transactions):\n",
    "    '''\n",
    "    \n",
    "    '''\n",
    "    total_spent = 0.0\n",
    "\n",
    "    for i in range(num_transactions):\n",
    "        # read in all num_transactions transactions from the user\n",
    "        total_spent += read_transaction_price()\n",
    "    return total_spent\n",
    "\n",
    "print(\"Please enter the number of transactions: \", end=\"\")\n",
    "num = int(input())\n",
    "total_spent = compute_total_spent_loop(num)\n",
    "avg_spent_per_transaction = total_spent / num\n",
    "print(\"On average, you spend %.2f per transaction\" %(avg_spent_per_transaction))"
   ]
  },
  {
   "cell_type": "markdown",
   "metadata": {},
   "source": [
    "## `while` or `for` Loops?\n",
    "When to use which loop? Each loop construct lends itself more suitable for certain tasks:\n",
    "\n",
    "`for` loops:\n",
    "* Iterating through sequences\n",
    "    * Using `range()`\n",
    "    * Files\n",
    "    * Strings\n",
    "    * To be learned soon: lists, dictionaries\n",
    "* When we know the number of times we want to run our loop\n",
    "\n",
    "`while` loops:\n",
    "* Prompting the user for input\n",
    "    * Menus\n",
    "* When we don't know the number of times we want to run our loop\n"
   ]
  },
  {
   "cell_type": "markdown",
   "metadata": {},
   "source": [
    "## TODO\n",
    "1. Read Chapter 7,8,9 in zyBooks and Chapter 8 in *How to Think Like a Computer Scientist.*\n",
    "1. Get started with PA4, it's fun!\n",
    "\n",
    "## Next Lesson\n",
    "1. Nested loops.\n",
    "1. Guessing Game 2.0 :)"
   ]
  }
 ],
 "metadata": {
  "anaconda-cloud": {},
  "kernelspec": {
   "display_name": "Python 3",
   "language": "python",
   "name": "python3"
  },
  "language_info": {
   "codemirror_mode": {
    "name": "ipython",
    "version": 3
   },
   "file_extension": ".py",
   "mimetype": "text/x-python",
   "name": "python",
   "nbconvert_exporter": "python",
   "pygments_lexer": "ipython3",
   "version": "3.7.1"
  }
 },
 "nbformat": 4,
 "nbformat_minor": 1
}
