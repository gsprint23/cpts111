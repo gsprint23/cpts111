{
 "cells": [
  {
   "cell_type": "markdown",
   "metadata": {},
   "source": [
    "# [CptS 111 Introduction to Algorithmic Problem Solving](https://github.com/gsprint23/cpts111)\n",
    "[Washington State University](https://wsu.edu/)\n",
    "\n",
    "[Gina Sprint](http://eecs.wsu.edu/~gsprint/)\n",
    "# Introduction\n",
    "\n",
    "Learner objectives for this lesson\n",
    "* Gain an overview of the course and its expectations\n",
    "* Understand the details of the syllabus\n",
    "* Learn a high level view of computer science\n",
    "* Introduce yourself and meet others"
   ]
  },
  {
   "cell_type": "markdown",
   "metadata": {
    "collapsed": true
   },
   "source": [
    "## Course Overview\n",
    "Welcome to CptS 111! Please see the [course website](piazza.com/wsu/fall2016/cpts111/home) for the syllabus and information about the course. Now let's get started!\n",
    "\n",
    "## What is Computer Science?\n",
    "Computer science is the study of computers and computational systems, with a particular focus on *algorithms* and *problem solving*\n",
    "* An algorithm is a sequence of instructions that solves a problem\n",
    "* Problem solving is formulating problems and designing, creative, clear, and accurate solutions"
   ]
  },
  {
   "cell_type": "markdown",
   "metadata": {},
   "source": [
    "##### <mark>1. What are areas of study in Computer Science?</mark>\n",
    "> * Data analytics \n",
    "* AI / ML\n",
    "* Systems\n",
    "* Video game design\n",
    "* Web design\n",
    "* Software engineering\n",
    "* Forensics"
   ]
  },
  {
   "cell_type": "markdown",
   "metadata": {},
   "source": [
    "### What Can Computers Do?\n",
    "Computers can perform 6 fundamental operations:\n",
    "#### 1. Accept input (e.g. from the user)"
   ]
  },
  {
   "cell_type": "code",
   "execution_count": 1,
   "metadata": {},
   "outputs": [
    {
     "name": "stdout",
     "output_type": "stream",
     "text": [
      "hello\n"
     ]
    },
    {
     "data": {
      "text/plain": [
       "'hello'"
      ]
     },
     "execution_count": 1,
     "metadata": {},
     "output_type": "execute_result"
    }
   ],
   "source": [
    "input()"
   ]
  },
  {
   "cell_type": "markdown",
   "metadata": {},
   "source": [
    "#### 2. Produce output (e.g. to the user)"
   ]
  },
  {
   "cell_type": "code",
   "execution_count": 2,
   "metadata": {},
   "outputs": [
    {
     "name": "stdout",
     "output_type": "stream",
     "text": [
      "CptS 111 is AWESOME!!!!!!!!!!!!!!!!!!!!!!!\n"
     ]
    }
   ],
   "source": [
    "print(\"CptS 111 is AWESOME!!!!!!!!!!!!!!!!!!!!!!!\")"
   ]
  },
  {
   "cell_type": "markdown",
   "metadata": {},
   "source": [
    "#### 3. Assign a value to a variable (store data)"
   ]
  },
  {
   "cell_type": "code",
   "execution_count": 3,
   "metadata": {
    "collapsed": true
   },
   "outputs": [],
   "source": [
    "temperature = 33"
   ]
  },
  {
   "cell_type": "markdown",
   "metadata": {},
   "source": [
    "#### 4. Arithmetic (math)"
   ]
  },
  {
   "cell_type": "code",
   "execution_count": 4,
   "metadata": {},
   "outputs": [
    {
     "data": {
      "text/plain": [
       "150"
      ]
     },
     "execution_count": 4,
     "metadata": {},
     "output_type": "execute_result"
    }
   ],
   "source": [
    "100 + 50"
   ]
  },
  {
   "cell_type": "markdown",
   "metadata": {},
   "source": [
    "#### 5. Compare and branch (conditionals)"
   ]
  },
  {
   "cell_type": "code",
   "execution_count": 6,
   "metadata": {},
   "outputs": [],
   "source": [
    "if temperature > 50:\n",
    "    print(\"It is warm out\")"
   ]
  },
  {
   "cell_type": "markdown",
   "metadata": {},
   "source": [
    "#### 6. Repeat a set of instructions (loops)"
   ]
  },
  {
   "cell_type": "code",
   "execution_count": 8,
   "metadata": {},
   "outputs": [
    {
     "name": "stdout",
     "output_type": "stream",
     "text": [
      "0\n",
      "1\n",
      "2\n",
      "3\n",
      "4\n",
      "5\n",
      "6\n",
      "7\n",
      "8\n",
      "9\n"
     ]
    }
   ],
   "source": [
    "x = 0\n",
    "while x < 10:\n",
    "    print(x)\n",
    "    x = x + 1"
   ]
  },
  {
   "cell_type": "markdown",
   "metadata": {},
   "source": [
    "All of the programs you have used are composed of combinations of these 6 types of computer instructions, that is amazing! Writing programs, or *programming*, is really breaking problems into smaller and smaller subtasks until the subtasks are simple enough to be solved using the basic instructions above. These subtasks are *algorithms*."
   ]
  },
  {
   "cell_type": "markdown",
   "metadata": {},
   "source": [
    "### Algorithms\n",
    "What is an algorithm? **A sequence of instructions that solves a problem**. More specifically, a sequence of instructions is an algorithm if it meets the following criteria:\n",
    "* Well-ordered instructions\n",
    "* Unambiguous instructions\n",
    "* Computable instructions\n",
    "* Produces a result\n",
    "* Doesn't run forever\n",
    "\n",
    "Why are algorithms so important to computer science? If we can specify an algorithm...\n",
    "* We can automate the solution\n",
    "* We can also repeat a solution to a problem\n",
    "\n",
    "Impossible to do these algorithms on this scale without computers: [Google Inside Search](http://www.google.com/insidesearch/howsearchworks/thestory/)\n",
    "In 60 seconds, 2,314,800 google searches!!\n",
    "\n",
    "### Examples of Algorithms\n",
    "Algorithms are a sequence of instructions that solves a problem. Algorithms are everywhere!\n",
    "\n",
    "##### <mark>2. Is this an algorithm? Yes or No? Why?</mark>\n",
    "* In a Dutch oven, cook sausage, ground beef, onion, and garlic over medium heat until well browned. \n",
    "* Stir in crushed tomatoes, tomato paste, tomato sauce, and water. Season with sugar, basil, fennel seeds, Italian seasoning, 1 tablespoon salt, pepper, and 2 tablespoons parsley. Simmer, covered, for about 1 1/2 hours, stirring occasionally.\n",
    "* Bring a large pot of lightly salted water to a boil. Cook lasagna noodles in boiling water for 8 to 10 minutes. \n",
    "* Drain noodles, and rinse with cold water. \n",
    "\n",
    ">"
   ]
  },
  {
   "cell_type": "markdown",
   "metadata": {},
   "source": [
    "##### <mark>3. Is this an algorithm? Yes or No? Why?</mark>\n",
    "* Top with a third of mozzarella cheese slices. \n",
    "* Spoon 1 1/2 cups meat sauce over mozzarella, and sprinkle with 1/4 cup Parmesan cheese. \n",
    "* Repeat layers, and top with remaining mozzarella and Parmesan cheese. \n",
    "* Cover with foil to prevent sticking, either spray foil with cooking spray, or make sure the foil does not touch the cheese.\n",
    "\n",
    ">"
   ]
  },
  {
   "cell_type": "markdown",
   "metadata": {},
   "source": [
    "##### <mark>4. Is this an algorithm? Yes or No? Why?</mark>\n",
    "* Apply small amount of shampoo to hair\n",
    "* Work into scalp for about 1 minute\n",
    "* Rinse thoroughly\n",
    "* Repeat\n",
    "\n",
    ">"
   ]
  },
  {
   "cell_type": "markdown",
   "metadata": {},
   "source": [
    "##### <mark>5. Write an algorithm for filling your gas tank.</mark>\n",
    ">"
   ]
  },
  {
   "cell_type": "markdown",
   "metadata": {},
   "source": [
    "## High-level Programming Languages\n",
    "Just like how we have many different *natural* languages for humans to talk to each other (e.g. English, Spanish, German, etc.), there are many different *programming* languages for humans to talk with computers (e.g. **Python**, C, C++, Java, etc.).\n",
    "\n",
    "You may have heard of binary? It's a bunch of 0's and 1's. For fun, watch this Big Bang Theory [clip](https://www.youtube.com/watch?v=8emAAkjLoBw) which includes Howard talking in binary! \n",
    "\n",
    "Programming languages are a medium between natural languages and binary; however, natural languages are often ambiguous and contain redundant information. For example, consider this text: \n",
    "\n",
    ">It deosn't mttaer in waht oredr the ltteers in a\n",
    "word are, the iprmoatnt tihng is taht the frist\n",
    "and lsat ltteer are in the rghit pcale.\n",
    "\n",
    "We humans can read this, despite the fact that 13 of the 27 words are misspelled. \n",
    "\n",
    "As another example:\n",
    "![](https://raw.githubusercontent.com/gsprint23/cpts111/master/lessons/figures/betty.png)\n",
    "\n",
    "Clearly Alice and Betty don't have on the same dress. These two examples are important to keep in mind because writing code in a programming language is much more precise than natural language. Your computer is very literal and you need to pay attention to detail.\n",
    "\n",
    "Example: [Domain name system](https://en.wikipedia.org/wiki/Domain_Name_System)\n",
    "\n",
    "### The Continuum of Languages\n",
    "![](https://raw.githubusercontent.com/gsprint23/cpts111/master/lessons/figures/language_continuum.jpg)\n",
    "* Low-level languages were created from the perspective of the machine; working with 1's and 0's, also known as logic levels **\"machine readable\"**\n",
    "* High-level languages, have natural language like elements **\"human readable\"**\n",
    "\n",
    "Problem: Computers can't execute high-level programming languages\n",
    "Solution: They must be translated\n",
    "* Programmer uses a text editor to write a text-based source file in a programming language\n",
    "* A Compiler program translates source file\n",
    " * Checks to make sure that program is syntactically correct\n",
    " * If so, the compiler translates the program into a file with lower level instructions (byte code)\n",
    "* An Interpreter program translates the byte code into architecture-specific machine readable instructions and runs the program."
   ]
  },
  {
   "cell_type": "markdown",
   "metadata": {},
   "source": [
    "## TODO\n",
    "When learning to program (or really any new skill), practice is essential. In this class, I will always make sure you have material to learn and practice programming. At the end of each lesson, I will have a section called TODO (slang for an action item you need \"to do\"). Since we haven't learned programming just yet, your first to do list will be a little different than future lists:\n",
    "1. Work on MA1.\n",
    "1. Introduce yourself to me! Come by my office hours with a cool picture or story from a recent adventure. If you can't make it to office hours, you can send me an email instead.\n",
    "1. Visit [Blackboard](https://learn.wsu.edu/) and open the Piazza link. Enroll in the CptS 111 Piazza course and add yourself to your lab section group.\n",
    "1. Visit the [course schedule](http://www.eecs.wsu.edu/~gsprint/cpts111/schedule.html) and get a jump start on the reading. Read zyBooks chapters 1 and 2 tonight.\n",
    "1. Take a look at [Lab 0](http://nbviewer.jupyter.org/github/gsprint23/cpts111/blob/master/labs/Lab0.ipynb) (downloading and installing Python Anaconda3). *There are no official lab meetings this week.* We will discuss Lab 0 in detail during Wednesday's lesson.\n",
    "\n",
    "## Next Lesson\n",
    "We dive into Python :D Also, starting with next class (and all future classes), bring your laptop!"
   ]
  }
 ],
 "metadata": {
  "anaconda-cloud": {},
  "kernelspec": {
   "display_name": "Python 3",
   "language": "python",
   "name": "python3"
  },
  "language_info": {
   "codemirror_mode": {
    "name": "ipython",
    "version": 3
   },
   "file_extension": ".py",
   "mimetype": "text/x-python",
   "name": "python",
   "nbconvert_exporter": "python",
   "pygments_lexer": "ipython3",
   "version": "3.7.1"
  }
 },
 "nbformat": 4,
 "nbformat_minor": 1
}
