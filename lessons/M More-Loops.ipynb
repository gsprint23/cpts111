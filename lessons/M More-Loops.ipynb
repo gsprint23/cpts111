{
 "cells": [
  {
   "cell_type": "markdown",
   "metadata": {},
   "source": [
    "# [CptS 111 Introduction to Algorithmic Problem Solving](http://piazza.com/wsu/spring2017/cpts111/home)\n",
    "[Washington State University](https://wsu.edu)\n",
    "\n",
    "[Gina Sprint](http://eecs.wsu.edu/~gsprint/)\n",
    "# More Loops\n",
    "\n",
    "Learner objectives for this lesson\n",
    "* Learn about `break` statements\n",
    "* Learn about nested loops"
   ]
  },
  {
   "cell_type": "markdown",
   "metadata": {
    "collapsed": true
   },
   "source": [
    "## Review of Loops\n",
    "What is the output of the following loops? Remember to draw tables!\n"
   ]
  },
  {
   "cell_type": "code",
   "execution_count": 1,
   "metadata": {},
   "outputs": [
    {
     "name": "stdout",
     "output_type": "stream",
     "text": [
      "01234"
     ]
    }
   ],
   "source": [
    "# 1\n",
    "x = 0\n",
    "while x < 5:\n",
    "    print(\"%d\" %(x), end=\"\")\n",
    "    x += 1"
   ]
  },
  {
   "cell_type": "code",
   "execution_count": 2,
   "metadata": {},
   "outputs": [
    {
     "name": "stdout",
     "output_type": "stream",
     "text": [
      "1\n",
      "2\n",
      "3\n",
      "4\n",
      "5\n"
     ]
    }
   ],
   "source": [
    "# 2\n",
    "x = 0\n",
    "while x < 5:\n",
    "    x += 1\n",
    "    print(x)"
   ]
  },
  {
   "cell_type": "code",
   "execution_count": 3,
   "metadata": {
    "collapsed": true
   },
   "outputs": [],
   "source": [
    "# 3\n",
    "x = 5\n",
    "while x < 0:\n",
    "    print(x)\n",
    "    x += 1"
   ]
  },
  {
   "cell_type": "code",
   "execution_count": null,
   "metadata": {
    "collapsed": true
   },
   "outputs": [],
   "source": [
    "# 4 infinite loop\n",
    "x = 5\n",
    "while x < 10:\n",
    "    print(x)\n",
    "    x -= 1"
   ]
  },
  {
   "cell_type": "code",
   "execution_count": null,
   "metadata": {
    "collapsed": true
   },
   "outputs": [],
   "source": [
    "# 5 infinite loop\n",
    "x = 0\n",
    "while x < 5:\n",
    "    print(x)\n",
    "x += 1"
   ]
  },
  {
   "cell_type": "code",
   "execution_count": 4,
   "metadata": {},
   "outputs": [
    {
     "name": "stdout",
     "output_type": "stream",
     "text": [
      "5\n"
     ]
    }
   ],
   "source": [
    "# 6\n",
    "x = 0\n",
    "while x < 5:\n",
    "    x += 1\n",
    "print(x)"
   ]
  },
  {
   "cell_type": "code",
   "execution_count": 5,
   "metadata": {},
   "outputs": [
    {
     "ename": "IndentationError",
     "evalue": "expected an indented block (<ipython-input-5-9faa509e8581>, line 4)",
     "output_type": "error",
     "traceback": [
      "\u001b[1;36m  File \u001b[1;32m\"<ipython-input-5-9faa509e8581>\"\u001b[1;36m, line \u001b[1;32m4\u001b[0m\n\u001b[1;33m    print(x)\u001b[0m\n\u001b[1;37m        ^\u001b[0m\n\u001b[1;31mIndentationError\u001b[0m\u001b[1;31m:\u001b[0m expected an indented block\n"
     ]
    }
   ],
   "source": [
    "# 7\n",
    "x = 0\n",
    "while x < 5:\n",
    "print(x)\n",
    "x += 1"
   ]
  },
  {
   "cell_type": "code",
   "execution_count": 6,
   "metadata": {},
   "outputs": [
    {
     "name": "stdout",
     "output_type": "stream",
     "text": [
      "0\n",
      "1\n",
      "2\n"
     ]
    }
   ],
   "source": [
    "# 8\n",
    "for x in range(0, 3, 1):\n",
    "    print(x)"
   ]
  },
  {
   "cell_type": "code",
   "execution_count": 7,
   "metadata": {},
   "outputs": [
    {
     "name": "stdout",
     "output_type": "stream",
     "text": [
      "135"
     ]
    }
   ],
   "source": [
    "# 9\n",
    "for i in range(1, 7, 2):\n",
    "    print(i, end=\"\")"
   ]
  },
  {
   "cell_type": "markdown",
   "metadata": {},
   "source": [
    "## `break` Statement\n",
    "Sometimes we need to \"break\" out of a loop early, i.e. before the Boolean condition is `False`. We can accomplish this anywhere in the body of the loop with the `break` statement. \n",
    "\n",
    "As an example, suppose we want to get input from the user until they enter the string \"stop\". When the user enters \"stop\", we want to stop getting numbers from the user and take an early exit of our loop:"
   ]
  },
  {
   "cell_type": "code",
   "execution_count": 8,
   "metadata": {},
   "outputs": [
    {
     "name": "stdout",
     "output_type": "stream",
     "text": [
      "Please enter a word: hello\n",
      "Please enter a word: goodbye\n",
      "Please enter a word: cpts111\n",
      "Please enter a word: stop\n"
     ]
    }
   ],
   "source": [
    "while True:\n",
    "    word = input(\"Please enter a word: \")\n",
    "    if word == \"stop\":\n",
    "        break"
   ]
  },
  {
   "cell_type": "markdown",
   "metadata": {},
   "source": [
    "## Nested Loops\n",
    "Loops within loops! Just like how we can have `if` statements within `if` statements (nested `if` statements), we do the same with loops. We just need to be conscientious of:\n",
    "* Indenting the bodies of the loops correctly\n",
    "* Progress towards all of the Boolean conditions eventually being false"
   ]
  },
  {
   "cell_type": "code",
   "execution_count": 9,
   "metadata": {},
   "outputs": [
    {
     "name": "stdout",
     "output_type": "stream",
     "text": [
      "0 \n",
      "1 0 \n",
      "2 0 1 \n",
      "3 0 1 2 \n",
      "4 0 1 2 3 \n"
     ]
    }
   ],
   "source": [
    "for i in range(0, 5):\n",
    "    print(\"%d \" %(i), end=\"\")\n",
    "    for j in range(0, i):\n",
    "        print(\"%d\" %(j), end=\" \")\n",
    "    print(\"\")"
   ]
  },
  {
   "cell_type": "markdown",
   "metadata": {},
   "source": [
    "It can be helpful to keep track of the loop control variables with a table:\n",
    "\n",
    "|i|j|output|\n",
    "|-|-|-|\n",
    "|0|0|0 \\n|\n",
    "|1|0,1|1 0 \\n|\n",
    "|2|0,1,2|2 0 1 \\n|\n",
    "|3|0,1,2,3|3 0 1 2 \\n|\n",
    "|4|0,1,2,3,4|4 0 1 2 3 \\n|\n",
    "|5||End loop|"
   ]
  },
  {
   "cell_type": "markdown",
   "metadata": {},
   "source": [
    "### Example Problem #1\n",
    "Write a program to prompt the user to enter the number of lines of stars to print. On each line, there will be as many stars printed as the line number. For example, if the user enters 5, the first line will have 1 star, the second line will have 2 stars, etc., until the 5th line, which will have 5 stars:\n",
    "\n",
    "```\n",
    "* \n",
    "**\n",
    "***\n",
    "****\n",
    "*****\n",
    "```"
   ]
  },
  {
   "cell_type": "code",
   "execution_count": 10,
   "metadata": {},
   "outputs": [
    {
     "name": "stdout",
     "output_type": "stream",
     "text": [
      "Number of lines: 5\n",
      "*\n",
      "**\n",
      "***\n",
      "****\n",
      "*****\n"
     ]
    }
   ],
   "source": [
    "num_lines = int(input(\"Number of lines: \"))\n",
    "for i in range(num_lines):\n",
    "    for j in range(0, i + 1):\n",
    "        print(\"*\", end=\"\")\n",
    "    print()"
   ]
  },
  {
   "cell_type": "markdown",
   "metadata": {},
   "source": [
    "### Example Problem #2\n",
    "Now try and print it the other way, with `num_lines` stars on the first line, `num_lines - 1` on the second, etc."
   ]
  },
  {
   "cell_type": "code",
   "execution_count": 1,
   "metadata": {},
   "outputs": [
    {
     "name": "stdout",
     "output_type": "stream",
     "text": [
      "Number of lines: 5\n",
      "*****\n",
      "****\n",
      "***\n",
      "**\n",
      "*\n"
     ]
    }
   ],
   "source": [
    "num_lines = int(input(\"Number of lines: \"))\n",
    "for i in range(num_lines):\n",
    "    for j in range(i, num_lines):\n",
    "        print(\"*\", end=\"\")\n",
    "    print()"
   ]
  },
  {
   "cell_type": "markdown",
   "metadata": {},
   "source": [
    "### Example Problem #2 Alternative Solution\n",
    "We could rewrite the above nested loop to instead use a single loop and the string repetition operator \"*\":"
   ]
  },
  {
   "cell_type": "code",
   "execution_count": 2,
   "metadata": {},
   "outputs": [
    {
     "name": "stdout",
     "output_type": "stream",
     "text": [
      "Number of lines: 5\n",
      "*****\n",
      "****\n",
      "***\n",
      "**\n",
      "*\n"
     ]
    }
   ],
   "source": [
    "num_lines = int(input(\"Number of lines: \"))\n",
    "for i in range(num_lines):\n",
    "    print(\"*\" * (num_lines - i))"
   ]
  },
  {
   "cell_type": "markdown",
   "metadata": {},
   "source": [
    "## Guessing Game 2.0\n",
    "Let's add functionality to the guessing game to allow a user to play the game as many times as they want. This will require an outer menu loop to keep the guessing game going until the user wants to quit, and an inner loop to guide the user to the correct answer."
   ]
  },
  {
   "cell_type": "code",
   "execution_count": 3,
   "metadata": {},
   "outputs": [
    {
     "name": "stdout",
     "output_type": "stream",
     "text": [
      "\n",
      "**Welcome to the guess my number game!**\n",
      "Please choose from the following options\n",
      "1) View the game rules\n",
      "2) Play the game\n",
      "3) Quit\n",
      ">>1\n",
      "The rules are fairly straightforward.\n",
      "Guess a number and I will tell you if you are correct, too high, or too low\n",
      "\n",
      "**Welcome to the guess my number game!**\n",
      "Please choose from the following options\n",
      "1) View the game rules\n",
      "2) Play the game\n",
      "3) Quit\n",
      ">>2\n",
      "Please enter a number between 1 and 10 inclusive\n",
      "9\n",
      "Your guess was too high\n",
      "Please enter a number between 1 and 10 inclusive\n",
      "4\n",
      "Your guess was too low\n",
      "Please enter a number between 1 and 10 inclusive\n",
      "6\n",
      "Congrats, you guessed the number correctly\n",
      "\n",
      "**Welcome to the guess my number game!**\n",
      "Please choose from the following options\n",
      "1) View the game rules\n",
      "2) Play the game\n",
      "3) Quit\n",
      ">>2\n",
      "Please enter a number between 1 and 10 inclusive\n",
      "1\n",
      "Your guess was too low\n",
      "Please enter a number between 1 and 10 inclusive\n",
      "5\n",
      "Your guess was too low\n",
      "Please enter a number between 1 and 10 inclusive\n",
      "8\n",
      "Congrats, you guessed the number correctly\n",
      "\n",
      "**Welcome to the guess my number game!**\n",
      "Please choose from the following options\n",
      "1) View the game rules\n",
      "2) Play the game\n",
      "3) Quit\n",
      ">>3\n",
      "Thank you for playing\n"
     ]
    }
   ],
   "source": [
    "import random\n",
    "\n",
    "def display_menu():\n",
    "    '''\n",
    "    \n",
    "    '''\n",
    "    print(\"\\n**Welcome to the guess my number game!**\")\n",
    "    print(\"Please choose from the following options\")\n",
    "    print(\"1) View the game rules\")\n",
    "    print(\"2) Play the game\")\n",
    "    print(\"3) Quit\")\n",
    "\n",
    "def display_game_rules():\n",
    "    '''\n",
    "    \n",
    "    '''\n",
    "    print(\"The rules are fairly straightforward.\")\n",
    "    print(\"Guess a number and I will tell you if you are correct, too high, or too low\")\n",
    "    \n",
    "def play_guessing_game():\n",
    "    '''\n",
    "    \n",
    "    '''\n",
    "    num_to_guess = random.randrange(1, 11)\n",
    "    players_guess = 0\n",
    "    correct = False\n",
    "\n",
    "    while not correct:\n",
    "        print(\"Please enter a number between 1 and 10 inclusive\")\n",
    "        players_guess = int(input())\n",
    "\n",
    "        # a guess is either equal to, greater than, or less than \n",
    "        if players_guess == num_to_guess: # BC 1\n",
    "            print(\"Congrats, you guessed the number correctly\")\n",
    "            correct = True # exit loop\n",
    "        elif players_guess > num_to_guess: # BC 2\n",
    "            print(\"Your guess was too high\")\n",
    "        else: # players_guess < num_to_guess\n",
    "            print(\"Your guess was too low\")\n",
    "    \n",
    "    \n",
    "def take_menu_action(choice):\n",
    "    '''\n",
    "    \n",
    "    '''\n",
    "    if choice == 1:\n",
    "        display_game_rules()\n",
    "    elif choice == 2:\n",
    "        play_guessing_game()\n",
    "    elif choice == 3:\n",
    "        print(\"Thank you for playing\")\n",
    "    else:\n",
    "        print(\"Not a valid menu option\")\n",
    "    \n",
    "def main():\n",
    "    '''\n",
    "    \n",
    "    '''\n",
    "    choice = -1\n",
    "    \n",
    "    while choice != 3:\n",
    "        display_menu()\n",
    "        choice = int(input(\">>\"))\n",
    "        take_menu_action(choice)\n",
    "\n",
    "main()"
   ]
  },
  {
   "cell_type": "markdown",
   "metadata": {},
   "source": [
    "## MA12 Practice Problem\n",
    "On a blank sheet of paper, write the following:\n",
    "1. Your full name\n",
    "1. Your TA name\n",
    "1. MA #12\n",
    "\n",
    "In pairs (or individually), solve the following problems. Each student needs to turn in their own paper to get credit for MA12.\n",
    "\n",
    "### Problem 1\n",
    "Write a program that prompts the user for an integer, `n`, representing a grid size. Using nesting loops, display a `n` by `n` grid of stars. Example:\n",
    "\n",
    "```\n",
    "Please enter a n value: 5\n",
    "* * * * * \n",
    "* * * * * \n",
    "* * * * * \n",
    "* * * * * \n",
    "* * * * * \n",
    "```\n",
    "\n",
    "### Problem 2\n",
    "Now, instead of stars, display numbers like the following example. Example:\n",
    "\n",
    "```\n",
    "Please enter a n value: 5\n",
    "1 1 1 1 1 \n",
    "2 2 2 2 2 \n",
    "3 3 3 3 3 \n",
    "4 4 4 4 4 \n",
    "5 5 5 5 5 \n",
    "```"
   ]
  },
  {
   "cell_type": "code",
   "execution_count": 5,
   "metadata": {},
   "outputs": [
    {
     "name": "stdout",
     "output_type": "stream",
     "text": [
      "Number of lines: 5\n",
      "* * * * * \n",
      "* * * * * \n",
      "* * * * * \n",
      "* * * * * \n",
      "* * * * * \n",
      "1 1 1 1 1 \n",
      "2 2 2 2 2 \n",
      "3 3 3 3 3 \n",
      "4 4 4 4 4 \n",
      "5 5 5 5 5 \n"
     ]
    }
   ],
   "source": [
    "# solutions\n",
    "\n",
    "num_lines = int(input(\"Number of lines: \"))\n",
    "for i in range(num_lines):\n",
    "    for j in range(num_lines):\n",
    "        print(\"*\", end=\" \")\n",
    "    print()\n",
    "    \n",
    "for i in range(num_lines):\n",
    "    for j in range(num_lines):\n",
    "        print(i + 1, end=\" \")\n",
    "    print()"
   ]
  },
  {
   "cell_type": "markdown",
   "metadata": {},
   "source": [
    "## TODO\n",
    "1. Work on PA4.\n",
    "\n",
    "## Next Lesson\n",
    "1. We start File I/O!"
   ]
  }
 ],
 "metadata": {
  "anaconda-cloud": {},
  "kernelspec": {
   "display_name": "Python 3",
   "language": "python",
   "name": "python3"
  },
  "language_info": {
   "codemirror_mode": {
    "name": "ipython",
    "version": 3
   },
   "file_extension": ".py",
   "mimetype": "text/x-python",
   "name": "python",
   "nbconvert_exporter": "python",
   "pygments_lexer": "ipython3",
   "version": "3.7.1"
  }
 },
 "nbformat": 4,
 "nbformat_minor": 1
}
