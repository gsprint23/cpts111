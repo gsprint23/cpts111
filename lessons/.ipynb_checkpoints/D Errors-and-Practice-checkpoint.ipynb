{
 "cells": [
  {
   "cell_type": "markdown",
   "metadata": {},
   "source": [
    "# [CptS 111 Introduction to Algorithmic Problem Solving](https://github.com/gsprint23/cpts111)\n",
    "[Washington State University](https://wsu.edu)\n",
    "\n",
    "[Gina Sprint](http://eecs.wsu.edu/~gsprint/)\n",
    "# Errors and Practice\n",
    "\n",
    "Learner objectives for this lesson\n",
    "* Learn about programming erros\n",
    "* Practice arithmetic in Python"
   ]
  },
  {
   "cell_type": "markdown",
   "metadata": {},
   "source": [
    "## Programming Errors\n",
    "Rarely will you write a program that is free of errors. You'll need to diagnose and correct three kinds of errors:\n",
    "1. Syntax errors (code violates syntax rules for a proper Python program)\n",
    "    * Detected at compile time\n",
    "    * Program will not run unless they're corrected\n",
    "    * Examples\n",
    "        * Undeclared identifiers\n",
    "        * Invalid identifiers (e.g. a space in a variable name)\n",
    "        * Failure to close a comment or string properly\n",
    "        * Incorrect indenting (we will learn about indenting when we learn about functions)\n",
    "2. Run-time errors\n",
    "    * Cause the program to \"crash\": an error is reported, and control is turned over to the operating system\n",
    "    * Examples\n",
    "        * Division by zero\n",
    "        * Getting into an infinite loop, which may ultimately cause a \"stack overflow\"\n",
    "3. Logic Errors\n",
    "    * Cause the program to compute incorrect results\n",
    "    * Often go unnoticed, at least at first\n",
    "    * Examples\n",
    "        * Your algorithm is wrong because you misunderstand the problem\n",
    "        * You do not obtain input data properly, so your computations work on the wrong data."
   ]
  },
  {
   "cell_type": "markdown",
   "metadata": {},
   "source": [
    "## MA3 Practice Problems\n",
    "On a blank sheet of paper, write the following:\n",
    "1. Your full name\n",
    "1. Your TA name (or lab time if you don't know your TA name)\n",
    "1. MA #3\n",
    "\n",
    "In pairs, work on the following problems. Each student needs to turn in their own paper to get credit for MA3.\n",
    "\n",
    "1. Label each of the following as either \"Python reserved keyword\", \"standard identifier\", or \"other valid identifier\":\n",
    "    1. `int`: standard\n",
    "    1. `PI`: other\n",
    "    1. `if`: reserved keyword\n",
    "    1. `main`: other\n",
    "    1. `while`: reserved keyword\n",
    "    1. `high_score`: other\n",
    "1. How should you read the statement: `temp_value = old_value + new_value`? \"temp_value **is assigned** old_value plus new_value\"\n",
    "1. Which Python data type would be best to represent the following? For each blank, you may list `int`, `float`, or `str` only.\n",
    "    1. Gender: `str`\n",
    "    1. Average of 10 numbers: `float`\n",
    "    1. Number of students in CptS111: `int`\n",
    "    1. Price of a gallon of milk: `float`"
   ]
  },
  {
   "cell_type": "markdown",
   "metadata": {},
   "source": [
    "## TODO\n",
    "1. Practice floating point division, integer division, and mod!\n",
    "2. Work on PA1.\n",
    "\n",
    "## Next Lesson\n",
    "We will practice more with arithmetic and learn about modules."
   ]
  }
 ],
 "metadata": {
  "anaconda-cloud": {},
  "kernelspec": {
   "display_name": "Python 3",
   "language": "python",
   "name": "python3"
  },
  "language_info": {
   "codemirror_mode": {
    "name": "ipython",
    "version": 3
   },
   "file_extension": ".py",
   "mimetype": "text/x-python",
   "name": "python",
   "nbconvert_exporter": "python",
   "pygments_lexer": "ipython3",
   "version": "3.7.1"
  }
 },
 "nbformat": 4,
 "nbformat_minor": 1
}
