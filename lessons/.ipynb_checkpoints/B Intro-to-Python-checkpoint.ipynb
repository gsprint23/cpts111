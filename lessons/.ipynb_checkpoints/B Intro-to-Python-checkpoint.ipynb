{
 "cells": [
  {
   "cell_type": "markdown",
   "metadata": {},
   "source": [
    "# [CptS 111 Introduction to Algorithmic Problem Solving](https://github.com/gsprint23/cpts111)\n",
    "[Washington State University](https://wsu.edu)\n",
    "\n",
    "[Gina Sprint](http://eecs.wsu.edu/~gsprint/)\n",
    "# Introduction to Python\n",
    "\n",
    "Learner objectives for this lesson\n",
    "* Python basics: syntax, standard identifiers, reserved keywords, commenting, etc.\n",
    "* Data types and typecasting\n",
    "* Input from the user and output to the user\n",
    "* Writing and running code to solve a problem"
   ]
  },
  {
   "cell_type": "markdown",
   "metadata": {},
   "source": [
    "### Python\n",
    "Python was created by Guido van Rossum in the late 1980s. It is an open source, general-purpose language. It is flexible and powerful, yet still simple enough to be quickly picked up by new programmers. Python is fairly high on the high-level programming languages spectrum, meaning its syntax and grammar is fairly close to pseudo-code.\n",
    "\n",
    "Python can be run on any computer architecture, so long as a Python interpreter is installed on the machine. This is similar to Java in the sense that as long as Java (more specifically, a Java Virtual Machine) is installed on your computer (you've seen the pesky Java update dialogs), you can run Java code written on any other architecture. It is convenient, cross-platform approach to application development. In contrast to *interpreted languages*, *compiled languages* are translated into specific computer architecture machine code (i.e. for a specific Intel processor instead of an AMD processor). Interpreted languages, such as Python and Java, tend to run slower than compiled languages, such as C and Fortran. \n",
    "\n",
    "![](https://raw.githubusercontent.com/gsprint23/cpts111/master/lessons/figures/interpreter.jpg)\n",
    "\n",
    "### Integrated Development Environments (IDE)\n",
    "An IDE is a program we use to write other programs. It conveniently combines editing of source code with running your program.\n",
    "* Generally a single button will start the translation process\n",
    "\n",
    "IDEs provide a variety of tools to assist programmers, for example:\n",
    "* Source code syntax highlighting\n",
    "* Autocompletion lists (\"Intellisense\")\n",
    "* A debugger, which allows a programmer to step through programs, one instruction at a time\n",
    "* A testing framework for developing unit tests\n",
    "\n",
    "### Executing Programs\n",
    "In this class, programs will execute in a text-based window called a console\n",
    "* Input data can be entered at command-line prompts\n",
    "* Output results will be displayed in the console window\n",
    "\n",
    "In the real world, many programs have a graphical user interface (GUI). We will touch on GUI programming, but it is beyond the scope of this course. Major in computer science and take upper-division CS classes, you will learn GUI programming then :)"
   ]
  },
  {
   "cell_type": "markdown",
   "metadata": {
    "collapsed": true
   },
   "source": [
    "## Example Problem: Compute the Volume of a Cone\n",
    "Say we want to write a program to compute the volume of a cone, such as the one hosted on [Google Search](https://www.google.com/webhp?sourceid=chrome-instant&ion=1&espv=2&ie=UTF-8#q=volume%20of%20cone):\n",
    "![](https://raw.githubusercontent.com/gsprint23/cpts111/master/lessons/figures/cone_volume.png)\n",
    "\n",
    "What information would we need? \n",
    "\n",
    "How would we relate that information to produce a result? \n",
    "\n",
    "How would we interact with the user? \n",
    "\n",
    "How would we test such a program for correctness? \n",
    "\n",
    "These are all questions you will start to think when solving problems *algorithmically*.\n",
    "\n",
    "### Data Requirements\n",
    "Problem input: radius (of the base), height (of the cone)\n",
    "\n",
    "Problem output: volume (of the cone)\n",
    "\n",
    "### Relevant Formula\n",
    "$ volume = 1 / 3 * pi * radius^2 * height $\n",
    "\n",
    "### Program Design\n",
    "Algorithm\n",
    "1. Get the radius and height for the cone\n",
    "1. Compute the volume of the cone $ volume = 1 / 3 * pi * radius^2 * height $\n",
    "1. Display the resultant volume of the cone\n",
    "\n",
    "![](https://raw.githubusercontent.com/gsprint23/cpts111/master/lessons/figures/volume_cone.png)\n",
    "\n",
    "### Actual Python Implementation"
   ]
  },
  {
   "cell_type": "code",
   "execution_count": 4,
   "metadata": {},
   "outputs": [
    {
     "name": "stdout",
     "output_type": "stream",
     "text": [
      "Please enter the radius of a cone\n",
      "5\n",
      "Please enter the height of a cone\n",
      "10\n",
      "The volume of a cone with radius 5.00 and height 10.00 is 261.67\n"
     ]
    }
   ],
   "source": [
    "# get radius from userasdjf;lksadjgf;lkdsagalskjfd\n",
    "print(\"Please enter the radius of a cone\")\n",
    "radius = float(input())\n",
    "\n",
    "# get height from user\n",
    "print(\"Please enter the height of a cone\")\n",
    "height = float(input())\n",
    "\n",
    "# use relevant formula to compute volume\n",
    "volume = 1 / 3 * 3.14 * radius ** 2 * height\n",
    "\n",
    "# display result to user\n",
    "print(\"The volume of a cone with radius %.2f and height %.2f is %.2f\" %(radius, height, volume))"
   ]
  },
  {
   "cell_type": "markdown",
   "metadata": {},
   "source": [
    "Don't worry about understanding the details of this program. You are taking this class to learn how to write Python code.\n",
    "\n",
    "## Python Basics\n",
    "### Python Language Elements\n",
    "Python programs contain instructions that specify what the computer is supposed to \"compute\".\n",
    "\n",
    "#### Comments"
   ]
  },
  {
   "cell_type": "code",
   "execution_count": null,
   "metadata": {
    "collapsed": true
   },
   "outputs": [],
   "source": [
    "# a useful statement to describe the code"
   ]
  },
  {
   "cell_type": "markdown",
   "metadata": {},
   "source": [
    "The above instruction is an example of a **single line comment**. *Comments are ignored by the Python interpreter*. Single line comments are denoted by a `#` symbol; any code after the `#` symbol is simply text and is not going to be run by Python."
   ]
  },
  {
   "cell_type": "code",
   "execution_count": null,
   "metadata": {},
   "outputs": [],
   "source": [
    "'''\n",
    "this is a multi line\n",
    "comment block\n",
    "it spans multiple lines\n",
    "'''\n",
    "\n",
    "\"\"\"triple double quote\"\"\""
   ]
  },
  {
   "cell_type": "markdown",
   "metadata": {},
   "source": [
    "Use comments liberally in your code! They help others read your code (including yourself, months later when it isn't so fresh in your mind). In this class, you will be required to comment your code by adhering to the [CptS 111 Python Coding Standard](http://nbviewer.jupyter.org/github/gsprint23/cpts111/blob/master/lessons/PythonCodingStandardCptS111.ipynb).\n",
    "\n",
    "#### Reserved Keywords\n",
    "Python has reserved several identifiers as keywords that have special meaning about the nature of your program. You cannot use reserved keywords as user-defined identifiers in your program. Examples of reserved keywords include `True`, `False`, `None`, `and`, `or`, `not`, `if`, `else`, `elif`, `in`, `is`, `pass`, `return`, `for`, `while`, etc. In the near future, you will learn about these keywords and what they do!\n",
    "\n",
    "#### Standard Identifiers\n",
    "Represent names of built-in variables (data) and functions (operations) in Python, such as `print` and `input`. It is not recommended to redefine these identifiers.\n",
    "* `print(<text to display>)` displays text to the screen\n",
    "* `input()` reads input from the keyboard\n",
    "\n",
    "#### User-defined Identifiers\n",
    "Memory cells to store data (\"variables\") that are named by the programmer for computations. We will also later be able to name our own algorithms (\"functions\").\n",
    "* Identifiers can only contain letters, numbers, and underscores\n",
    "* Cannot begin with digits\n",
    "* Should not redefine standard Python standard identifiers\n",
    "* Should choose meaningful variable names (i.e. `radius` to store the radius of a cone, versus `my_variable`)\n",
    "* Use underscores between words for readability (e.g. `cone_volume`)\n",
    "* Make your variable names sufficiently different so you don't get them confused\n",
    "\n",
    "Note: Python is case sensitive.\n",
    "\n",
    "### Variable Declarations\n",
    "Declaring a variable reserves memory space for a value. It also associates a name with a memory cell (user-defined identifier)."
   ]
  },
  {
   "cell_type": "code",
   "execution_count": 2,
   "metadata": {},
   "outputs": [
    {
     "name": "stdout",
     "output_type": "stream",
     "text": [
      "10\n"
     ]
    }
   ],
   "source": [
    "height = float(input())"
   ]
  },
  {
   "cell_type": "markdown",
   "metadata": {},
   "source": [
    "The above instruction declares a variable called `radius` and stores the value `0.0` in the memory location associated with `radius`. `radius` is an example of a user-defined identifier.\n",
    "\n",
    "### Data Types\n",
    "All variables have an associated data type. A **data type is a set of values and a set of operations on those values.** Examples of data types include:\n",
    "* Integer (numeric)\n",
    "    * Values: integer whole numbers e.g. 1, -10, 5000, etc.\n",
    "    * Operations: several, including + - * / // (integer division) % (mod) and comparisons > < <= >= == !=\n",
    "* Float (numeric)\n",
    "    * Values: real numbers (must include a decimal point) e.g. 3.14, -1000.0, etc.\n",
    "    * Operations: several, including + - * / and comparisons > < <= >= == !=\n",
    "* String (sequence of characters)\n",
    "    * Values: characters e.g. \"cpts111\", \"ABCD\", '123ABC', etc.\n",
    "    * Operations: several, including + (string concatenation, joins strings by linking them end-to-end), * (repetition, repeats strings), etc. We will learn more about string operations later in the course.\n",
    "    * Note: You can use either double or single quotes to specify a string.\n",
    "    * Note: Even though some strings look like numbers (e.g. \"2\"), they are not numbers. For example: `\"5\" + \"7\"` returns the string \"57\" because \"5\" and \"7\" are strings, not integers.\n",
    "\n",
    "If you want to find out what data type a variable is, Python will tell you. Use the function `type(<variable name.)` to find out."
   ]
  },
  {
   "cell_type": "code",
   "execution_count": 1,
   "metadata": {},
   "outputs": [
    {
     "name": "stdout",
     "output_type": "stream",
     "text": [
      "<class 'int'>\n",
      "<class 'float'>\n",
      "<class 'str'>\n"
     ]
    }
   ],
   "source": [
    "x = 5\n",
    "print(type(x))\n",
    "x = 5.0\n",
    "print(type(x))\n",
    "my_str = \"hello\"\n",
    "print(type(my_str))"
   ]
  },
  {
   "cell_type": "markdown",
   "metadata": {},
   "source": [
    "### Executable Statements\n",
    "Do the work of the algorithm by transforming inputs into outputs. For example, consider the volume of the cone example:"
   ]
  },
  {
   "cell_type": "code",
   "execution_count": null,
   "metadata": {
    "collapsed": true
   },
   "outputs": [],
   "source": [
    "volume = 1 / 3 * 3.14 * radius ** 2 * height"
   ]
  },
  {
   "cell_type": "markdown",
   "metadata": {},
   "source": [
    "When the code statement above is executed by Python (the program is running), Python *evaluates* the expression on the right hand side of the assignment operator (=), and assigns the result to the variable `volume`. \n",
    "\n",
    "Python evaluates arithmetic expressions according to the same order of operation precedence you are familiar with (think PEMDAS: **P**arenthesis, **E**xponents, **M**ultiplication, **D**ivision, **A**ddition, **S**ubtraction), plus a few more operators. \n",
    "\n",
    "Check out this [Python precedence table](http://thepythonguru.com/wp-content/uploads/2015/08/python-operator-precedence1.jpg) to learn more.\n",
    "\n",
    "#### Assignment Statements\n",
    "Store a computational result into a variable\n",
    "* The = operator does the assignment\n",
    "* The *, -, +, /, // operators perform the computation"
   ]
  },
  {
   "cell_type": "markdown",
   "metadata": {},
   "source": [
    "**The assignment operator '=' in programing is not the same as = in math**\n",
    "* Math: y = x means y is equivalent to x\n",
    "* Programming: y = x means \"y is assigned x\"\n",
    " * = is an operator, not a relationship\n",
    " * Don't read it as \"y equals x\" \n",
    " * **Read it as \"y gets x\" or \"y is assigned to x\"** \n",
    "* Example: x = x + 1\n",
    "![](https://raw.githubusercontent.com/gsprint23/cpts111/master/lessons/figures/assignment_example.png)\n",
    "Clearly not mathematically \"equal\"\n",
    "\n",
    "We can also assign the value of one variable to another:"
   ]
  },
  {
   "cell_type": "code",
   "execution_count": 5,
   "metadata": {
    "collapsed": true
   },
   "outputs": [],
   "source": [
    "x = 5 # declare a new variable, x, and assign it the integer 5\n",
    "y = x # declare a new variable, y, and assign it the value of x (which is 5)\n",
    "y = -x # compute the negation of x (-5) and assign it to y"
   ]
  },
  {
   "cell_type": "markdown",
   "metadata": {},
   "source": [
    "#### Shorthand Assignment Operators\n",
    "Code such as, `x = x + 1` is quite common, in fact, it is so common that Python has a shorthand operator (+=) to shorten this code: `x += 1`. There are other shorthand operators for other arithmetic operators too:"
   ]
  },
  {
   "cell_type": "code",
   "execution_count": 6,
   "metadata": {},
   "outputs": [
    {
     "name": "stdout",
     "output_type": "stream",
     "text": [
      "0\n",
      "1\n",
      "4\n",
      "1\n",
      "5\n"
     ]
    }
   ],
   "source": [
    "x = 0\n",
    "print(x)\n",
    "x = x + 1\n",
    "print(x)\n",
    "x += 3\n",
    "print(x)\n",
    "x -= 3\n",
    "print(x)\n",
    "x *= 5\n",
    "print(x)"
   ]
  },
  {
   "cell_type": "markdown",
   "metadata": {},
   "source": [
    "#### Input/Output Statements\n",
    "It is extremely useful to obtain input data interactively from the user, and to display output results to the user\n",
    "\n",
    "Python offers several *functions* that perform input and output operations.\n",
    "\n",
    "Begin Digression: Functions\n",
    "\n",
    "A function is a set of statements that perform a task.\n",
    "A function performs the task, hiding from you the details of how it performs the task (they're irrelevant). We'll study functions in depth!\n",
    "\n",
    "End Digression\n",
    "\n",
    "##### Output\n",
    "The [`print()`](https://docs.python.org/3/library/functions.html#print) function is used to display text output of the program to the user, via the console. We have already seen the `print()` function in action:"
   ]
  },
  {
   "cell_type": "code",
   "execution_count": 7,
   "metadata": {},
   "outputs": [
    {
     "name": "stdout",
     "output_type": "stream",
     "text": [
      "The volume of a cone with radius 5.00 and height 10.00 is 261.67\n"
     ]
    }
   ],
   "source": [
    "print(\"The volume of a cone with radius %.2f and height %.2f is %.2f\" %(radius, height, volume))"
   ]
  },
  {
   "cell_type": "markdown",
   "metadata": {},
   "source": [
    "The text in red and surrounded by quotes is called a *string*, which is a sequence of characters. This is what will be displayed to the screen. \n",
    "\n",
    "The `%.2f` is called a *placeholder* for a floating point number (i.e. the f) with 2 decimal places (i.e. the .2). `%d` is used as placeholder for integers and `%s` is used as a placeholder for strings. \n",
    "\n",
    "The variable names at the end of the statement in parenthesis are the list of values corresponding to the placeholder (order matters!). The value of `radius` will be inserted at the first placeholder, the value of `height` for the second, and the value of `volume` for the third. Do you see that order matters?\n",
    "\n",
    "Note: Adding `\"\\n\"` to a string will print a newline character, a non-printable character that starts the cursor on a new line. This can be useful if you want to add extra space between text without writing extra `print()` statements."
   ]
  },
  {
   "cell_type": "code",
   "execution_count": 8,
   "metadata": {},
   "outputs": [
    {
     "name": "stdout",
     "output_type": "stream",
     "text": [
      "Standard spacing\n",
      "Adding extra space with the newline character\n",
      "\n",
      "**Next line**\n"
     ]
    }
   ],
   "source": [
    "print(\"Standard spacing\")\n",
    "print(\"Adding extra space with the newline character\\n\")\n",
    "print(\"**Next line**\")"
   ]
  },
  {
   "cell_type": "markdown",
   "metadata": {},
   "source": [
    "##### Input\n",
    "The [`input()`](https://docs.python.org/3/library/functions.html#input) function is used to collect input from the user of our programs via the keyboard. We have already seen the `input()` function in action:"
   ]
  },
  {
   "cell_type": "code",
   "execution_count": 9,
   "metadata": {},
   "outputs": [
    {
     "name": "stdout",
     "output_type": "stream",
     "text": [
      "5\n"
     ]
    }
   ],
   "source": [
    "radius = float(input())"
   ]
  },
  {
   "cell_type": "markdown",
   "metadata": {},
   "source": [
    "This statement forces the program to pause until the user enters a value from the keyboard and hits the return key. `input()` returns a string representation of the text entered by the user (recall a string is a sequence of characters). Since we want to assign a floating point number to the variable `radius` for use in arithmetic computation later, we *type cast* the string entered by the user into a value of type `float`.\n",
    "\n",
    "Notes on input/output:\n",
    "* `input()` should always be used in conjunction with a `print()` statement that displays a prompt, so that the user knows that an input value is expected.\n",
    "* You can actually combine the prompt and the read input statements in one line. Simply place a string inside of the parentheses for `input()`: `radius = float(input(\"Please enter the radius\"))`. In this case, the inner-most function (`input()`) is executed first. Once the user has pressed enter and the value is read in, the value is converted to a float by the type cast.\n",
    "\n",
    "### Getting `help()`\n",
    "If you want more information about how to use a function, such as `print()`, ask Python! Type `help(<identifier name>)` to get more information about a variable, data type, function, etc. "
   ]
  },
  {
   "cell_type": "code",
   "execution_count": 10,
   "metadata": {},
   "outputs": [
    {
     "name": "stdout",
     "output_type": "stream",
     "text": [
      "Help on built-in function print in module builtins:\n",
      "\n",
      "print(...)\n",
      "    print(value, ..., sep=' ', end='\\n', file=sys.stdout, flush=False)\n",
      "    \n",
      "    Prints the values to a stream, or to sys.stdout by default.\n",
      "    Optional keyword arguments:\n",
      "    file:  a file-like object (stream); defaults to the current sys.stdout.\n",
      "    sep:   string inserted between values, default a space.\n",
      "    end:   string appended after the last value, default a newline.\n",
      "    flush: whether to forcibly flush the stream.\n",
      "\n"
     ]
    }
   ],
   "source": [
    "help(print)"
   ]
  },
  {
   "cell_type": "markdown",
   "metadata": {},
   "source": [
    "## Debugging\n",
    "The process of locating and fixing errors in your programs is called *debugging*. There are 3 types of errors that can occur in a program:\n",
    "1. Syntax: Incorrect program structure, e.g. a missing parenthesis: `print(\"hello\"`\n",
    "1. Runtime: Errors that crash your program, e.g. dividing by zero: `5 / 0`\n",
    "1. Logic/semantic: Program does not do what you intend it to do, e.g. producing an incorrect cone volume result"
   ]
  },
  {
   "cell_type": "markdown",
   "metadata": {
    "collapsed": true
   },
   "source": [
    "## TODO\n",
    "1. Test your installation of Anaconda3 and your Python development environment:\n",
    "Following [Lab 0](http://nbviewer.jupyter.org/github/gsprint23/cpts111/blob/master/labs/Lab0.ipynb), you should have downloaded and installed [Anaconda3](https://docs.continuum.io/anaconda/install). This is the Python distribution we are going to use for this class. Follow these steps to run the volume of a cone code from above:\n",
    "    1. Launch the Spyder IDE (integrated development environment).\n",
    "    1. Copy and paste the volume of a cone code into the left panel's text editor. \n",
    "    1. Save the program as cone_volume.py. Press the run button (the green play button) on the toolbar or press F5 on your keyboard to run the program. \n",
    "    1. In the right panel of Spyder, your code should be running in the console, cool!\n",
    "1. Visit the [course schedule](http://www.eecs.wsu.edu/~gsprint/cpts111/schedule.html) and read chapters 1, 2, and 3 in zyBooks. The participation activities in those chapters are due Tuesday 1/16 by midnight.\n",
    "1. No class on Monday! (MLK Day) We do have lab starting next week so please go to your lab sections. See you there!\n",
    "\n",
    "## Next Lesson\n",
    "Arithmetic in Python!"
   ]
  }
 ],
 "metadata": {
  "anaconda-cloud": {},
  "kernelspec": {
   "display_name": "Python 3",
   "language": "python",
   "name": "python3"
  },
  "language_info": {
   "codemirror_mode": {
    "name": "ipython",
    "version": 3
   },
   "file_extension": ".py",
   "mimetype": "text/x-python",
   "name": "python",
   "nbconvert_exporter": "python",
   "pygments_lexer": "ipython3",
   "version": "3.7.1"
  }
 },
 "nbformat": 4,
 "nbformat_minor": 1
}
