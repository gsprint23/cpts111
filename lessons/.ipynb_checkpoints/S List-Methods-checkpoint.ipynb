{
 "cells": [
  {
   "cell_type": "markdown",
   "metadata": {},
   "source": [
    "# [CptS 111 Introduction to Algorithmic Problem Solving](http://piazza.com/wsu/spring2017/cpts111/home)\n",
    "[Washington State University](https://wsu.edu)\n",
    "\n",
    "[Gina Sprint](http://eecs.wsu.edu/~gsprint/)\n",
    "# List Methods\n",
    "\n",
    "Learner objectives for this lesson\n",
    "* Apply list methods\n",
    "* Delete items from a list\n",
    "* Understand the relationship between strings and lists"
   ]
  },
  {
   "cell_type": "markdown",
   "metadata": {},
   "source": [
    "## List Warm-up Problem\n",
    "Write code to do the following:\n",
    "1. Initialize a list of a few of your favorite foods\n",
    "1. Print out the number of items in the list\n",
    "1. Replace the last item in the list with \"candy\"\n",
    "1. Using a loop, print out each food separated by a comma and a space, all on the same line\n",
    "    * Note: do not have an extra comma after the last element!\n",
    "\n",
    "Example output:\n",
    "`pizza, pasta, bread, salad, ice cream`\n",
    "\n",
    "Note: your output **should not** have hard brackets or quotes like the default output from `print(fav_foods)`:\n",
    "\n",
    "`['pizza', 'pasta', 'bread', 'salad', 'ice cream']`"
   ]
  },
  {
   "cell_type": "code",
   "execution_count": 2,
   "metadata": {},
   "outputs": [
    {
     "name": "stdout",
     "output_type": "stream",
     "text": [
      "Number of items in fav_foods: 5\n",
      "['pizza', 'pasta', 'bread', 'salad', 'candy']\n",
      "pizza, pasta, bread, salad, candy\n"
     ]
    }
   ],
   "source": [
    "# 1\n",
    "fav_foods = ['pizza', 'pasta', 'bread', 'salad', 'ice cream']\n",
    "# 2\n",
    "print(\"Number of items in fav_foods:\", len(fav_foods))\n",
    "# 3\n",
    "fav_foods[-1] = \"candy\"\n",
    "print(fav_foods)\n",
    "#4\n",
    "for i in range(len(fav_foods) - 1):\n",
    "    print(fav_foods[i] + \", \", end=\"\")\n",
    "print(fav_foods[-1])"
   ]
  },
  {
   "cell_type": "markdown",
   "metadata": {
    "collapsed": true
   },
   "source": [
    "## List Methods\n",
    "Just like with strings, lists are objects that have methods we can utilize. \n",
    "\n",
    "### `append()`\n",
    "For example, since lists are mutable, there is an `append(<new item>)` method to add an item to the end of a list:"
   ]
  },
  {
   "cell_type": "code",
   "execution_count": 1,
   "metadata": {},
   "outputs": [
    {
     "name": "stdout",
     "output_type": "stream",
     "text": [
      "['Pullman', 'Spokane']\n",
      "['Pullman', 'Spokane', 'Seattle']\n",
      "['Pullman', 'Spokane', 'Seattle', ['Moscow']]\n"
     ]
    }
   ],
   "source": [
    "cities = [\"Pullman\", \"Spokane\"]\n",
    "print(cities)\n",
    "\n",
    "# adds the string as an item\n",
    "cities.append(\"Seattle\")\n",
    "print(cities)\n",
    "\n",
    "# adds the list as an item\n",
    "cities.append([\"Moscow\"])\n",
    "print(cities)"
   ]
  },
  {
   "cell_type": "markdown",
   "metadata": {},
   "source": [
    "As review, how could we achieve the same functionality as `append()` without using `append()`?"
   ]
  },
  {
   "cell_type": "code",
   "execution_count": 2,
   "metadata": {},
   "outputs": [
    {
     "name": "stdout",
     "output_type": "stream",
     "text": [
      "['Pullman', 'Spokane']\n",
      "['Pullman', 'Spokane', 'Seattle']\n"
     ]
    }
   ],
   "source": [
    "cities = [\"Pullman\", \"Spokane\"]\n",
    "print(cities)\n",
    "\n",
    "# adds the strings as an item\n",
    "cities += [\"Seattle\"]\n",
    "print(cities)"
   ]
  },
  {
   "cell_type": "markdown",
   "metadata": {},
   "source": [
    "### `extend()`\n",
    "`extend()` is similar to `append()`; however, `extend()` takes a list as an argument and adds each item to the list:"
   ]
  },
  {
   "cell_type": "code",
   "execution_count": 3,
   "metadata": {},
   "outputs": [
    {
     "name": "stdout",
     "output_type": "stream",
     "text": [
      "['Pullman', 'Spokane']\n",
      "['Pullman', 'Spokane', 'Seattle', \"Couer d'Alene\"]\n"
     ]
    }
   ],
   "source": [
    "cities = [\"Pullman\", \"Spokane\"]\n",
    "print(cities)\n",
    "\n",
    "# adds each string in the list as an item\n",
    "cities.extend([\"Seattle\", \"Couer d'Alene\"])\n",
    "print(cities)"
   ]
  },
  {
   "cell_type": "markdown",
   "metadata": {},
   "source": [
    "What would happen if we used `append()` instead of `extend()` in the above code?"
   ]
  },
  {
   "cell_type": "code",
   "execution_count": 4,
   "metadata": {},
   "outputs": [
    {
     "name": "stdout",
     "output_type": "stream",
     "text": [
      "['Pullman', 'Spokane']\n",
      "['Pullman', 'Spokane', ['Seattle', \"Couer d'Alene\"]]\n"
     ]
    }
   ],
   "source": [
    "cities = [\"Pullman\", \"Spokane\"]\n",
    "print(cities)\n",
    "cities.append([\"Seattle\", \"Couer d'Alene\"])\n",
    "print(cities)"
   ]
  },
  {
   "cell_type": "markdown",
   "metadata": {},
   "source": [
    "`cities` becomes a nested list!"
   ]
  },
  {
   "cell_type": "markdown",
   "metadata": {},
   "source": [
    "### `sort()`\n",
    "Many applications require lists of items to be sorted. In CptS121, you will learn how to write your own sorting algorithms. For now, we will use the `sort()` list method:"
   ]
  },
  {
   "cell_type": "code",
   "execution_count": 6,
   "metadata": {},
   "outputs": [
    {
     "name": "stdout",
     "output_type": "stream",
     "text": [
      "['Pullman', 'Spokane', 'Seattle', \"Couer d'Alene\"]\n",
      "[\"Couer d'Alene\", 'Pullman', 'Seattle', 'Spokane']\n"
     ]
    }
   ],
   "source": [
    "cities = [\"Pullman\", \"Spokane\", \"Seattle\", \"Couer d'Alene\"]\n",
    "print(cities)\n",
    "\n",
    "# ascending order\n",
    "cities.sort()\n",
    "print(cities)"
   ]
  },
  {
   "cell_type": "markdown",
   "metadata": {},
   "source": [
    "How would you sort a list in descending order? Try using `help(cities.sort)` to find out:"
   ]
  },
  {
   "cell_type": "code",
   "execution_count": 7,
   "metadata": {},
   "outputs": [
    {
     "name": "stdout",
     "output_type": "stream",
     "text": [
      "Help on built-in function sort:\n",
      "\n",
      "sort(...) method of builtins.list instance\n",
      "    L.sort(key=None, reverse=False) -> None -- stable sort *IN PLACE*\n",
      "\n"
     ]
    }
   ],
   "source": [
    "help(cities.sort)"
   ]
  },
  {
   "cell_type": "code",
   "execution_count": 8,
   "metadata": {},
   "outputs": [
    {
     "name": "stdout",
     "output_type": "stream",
     "text": [
      "[\"Couer d'Alene\", 'Pullman', 'Seattle', 'Spokane']\n",
      "['Spokane', 'Seattle', 'Pullman', \"Couer d'Alene\"]\n"
     ]
    }
   ],
   "source": [
    "print(cities)\n",
    "cities.sort(reverse=True)\n",
    "print(cities)"
   ]
  },
  {
   "cell_type": "markdown",
   "metadata": {},
   "source": [
    "## Deleting Items in a List\n",
    "Since lists are mutable, we can delete items in a list. \n",
    "\n",
    "### Single Item Deletes\n",
    "We have two list methods to delete a *single* item in a list\n",
    "1. When you know the *index* of the item to delete\n",
    "    * `item_removed = pop(<index>)`\n",
    "1. When you know the *value* of the item to delete\n",
    "    * `remove(<item>)`"
   ]
  },
  {
   "cell_type": "code",
   "execution_count": 9,
   "metadata": {},
   "outputs": [
    {
     "name": "stdout",
     "output_type": "stream",
     "text": [
      "Seattle\n",
      "['Pullman', 'Spokane', \"Couer d'Alene\"]\n",
      "['Pullman', \"Couer d'Alene\"]\n"
     ]
    }
   ],
   "source": [
    "cities = [\"Pullman\", \"Spokane\", \"Seattle\", \"Couer d'Alene\"]\n",
    "\n",
    "# pop returns the item removed\n",
    "city = cities.pop(2)\n",
    "print(city)\n",
    "print(cities)\n",
    "\n",
    "# remove does not return the item removed\n",
    "cities.remove(\"Spokane\")\n",
    "print(cities)"
   ]
  },
  {
   "cell_type": "markdown",
   "metadata": {},
   "source": [
    "### `del` Keyword and Multiple Item Deletes\n",
    "Alternatively, we can delete an object using the `del` reserved keyword:"
   ]
  },
  {
   "cell_type": "code",
   "execution_count": 10,
   "metadata": {},
   "outputs": [
    {
     "name": "stdout",
     "output_type": "stream",
     "text": [
      "['Pullman', 'Spokane', 'Seattle', \"Couer d'Alene\"]\n",
      "['Pullman', 'Seattle', \"Couer d'Alene\"]\n"
     ]
    }
   ],
   "source": [
    "cities = [\"Pullman\", \"Spokane\", \"Seattle\", \"Couer d'Alene\"]\n",
    "print(cities)\n",
    "\n",
    "# del is not a function\n",
    "del cities[1]\n",
    "print(cities)"
   ]
  },
  {
   "cell_type": "markdown",
   "metadata": {},
   "source": [
    "We may want to delete multiple items at a time. We can do this with a slice and `del`:"
   ]
  },
  {
   "cell_type": "code",
   "execution_count": 11,
   "metadata": {},
   "outputs": [
    {
     "name": "stdout",
     "output_type": "stream",
     "text": [
      "['Pullman', 'Spokane', 'Seattle', \"Couer d'Alene\"]\n",
      "[\"Couer d'Alene\"]\n"
     ]
    }
   ],
   "source": [
    "cities = [\"Pullman\", \"Spokane\", \"Seattle\", \"Couer d'Alene\"]\n",
    "print(cities)\n",
    "\n",
    "del cities[0:3]\n",
    "print(cities)"
   ]
  },
  {
   "cell_type": "markdown",
   "metadata": {},
   "source": [
    "### Relationship Between Strings and Lists\n",
    "A list of single character strings is not a string:"
   ]
  },
  {
   "cell_type": "code",
   "execution_count": 12,
   "metadata": {},
   "outputs": [
    {
     "name": "stdout",
     "output_type": "stream",
     "text": [
      "['c', 'p', 't', 's', '1', '1', '1']\n"
     ]
    }
   ],
   "source": [
    "my_list = [\"c\", \"p\", \"t\", \"s\", \"1\", \"1\", \"1\"]\n",
    "print(\"%s\" %(my_list))"
   ]
  },
  {
   "cell_type": "markdown",
   "metadata": {},
   "source": [
    "### `join()` (string method)\n",
    "However, we can turn a list of strings into a string with the `join()` string method. We need to specify a \"delimiter\" string to use to concatenate the individual strings in a list into a single string:"
   ]
  },
  {
   "cell_type": "code",
   "execution_count": 18,
   "metadata": {
    "scrolled": true
   },
   "outputs": [
    {
     "name": "stdout",
     "output_type": "stream",
     "text": [
      "cpts111\n",
      "c:)p:)t:)s:)1:)1:)1\n"
     ]
    }
   ],
   "source": [
    "my_list = [\"c\", \"p\", \"t\", \"s\", \"1\", \"1\", \"1\"]\n",
    "delimiter = '' # empty string\n",
    "my_string = delimiter.join(my_list)\n",
    "print(\"%s\" %(my_string))\n",
    "\n",
    "delimiter = ':)'\n",
    "my_string = delimiter.join(my_list)\n",
    "print(\"%s\" %(my_string))"
   ]
  },
  {
   "cell_type": "markdown",
   "metadata": {},
   "source": [
    "### `list()` (function)\n",
    "To convert the string back into a list, we can type cast the string into a list with `list()`:"
   ]
  },
  {
   "cell_type": "code",
   "execution_count": 19,
   "metadata": {},
   "outputs": [
    {
     "name": "stdout",
     "output_type": "stream",
     "text": [
      "['c', 'p', 't', 's', '1', '1', '1']\n"
     ]
    }
   ],
   "source": [
    "my_string = \"cpts111\"\n",
    "my_list = list(my_string)\n",
    "print(my_list)"
   ]
  },
  {
   "cell_type": "markdown",
   "metadata": {},
   "source": [
    "### `split()` (string method)\n",
    "`split(<string delimiter>)` breaks a string into pieces at each `<string delimiter>`. The pieces are returned as a list: "
   ]
  },
  {
   "cell_type": "code",
   "execution_count": 20,
   "metadata": {},
   "outputs": [
    {
     "name": "stdout",
     "output_type": "stream",
     "text": [
      "['hello', 'how', 'are', 'you']\n"
     ]
    }
   ],
   "source": [
    "sentence = \"hello how are you\"\n",
    "pieces = sentence.split(\" \")\n",
    "print(pieces)"
   ]
  },
  {
   "cell_type": "markdown",
   "metadata": {},
   "source": [
    "## MA18 Practice Problem\n",
    "On a blank sheet of paper, write the following:\n",
    "1. Your full name\n",
    "1. Your TA name\n",
    "1. MA #18\n",
    "\n",
    "In pairs (or individually), solve the following problems. Each student needs to turn in their own paper to get credit for MA18.\n",
    "\n",
    "Write a program that generates 100 numbers between 1 and 500 inclusive and puts them in a list. The program then does the following using the list:\n",
    "* Prints the numbers\n",
    "* Sorts the numbers\n",
    "* Prints the largest and smallest number in the list\n",
    "* Determines the number of times a user-specified number is in the list\n",
    "* Removes all instances of a user-specified number in the list\n",
    "\n",
    "### Step 1\n",
    "Create an empty list to store the 100 numbers."
   ]
  },
  {
   "cell_type": "code",
   "execution_count": 3,
   "metadata": {
    "collapsed": true
   },
   "outputs": [],
   "source": [
    "nums = []"
   ]
  },
  {
   "cell_type": "markdown",
   "metadata": {},
   "source": [
    "### Step 2\n",
    "Write code to generate 100 random numbers between 1 and 200 store them in the list."
   ]
  },
  {
   "cell_type": "code",
   "execution_count": 4,
   "metadata": {
    "collapsed": true
   },
   "outputs": [],
   "source": [
    "import random\n",
    "for i in range(100):\n",
    "    nums.append(random.randint(1, 200))"
   ]
  },
  {
   "cell_type": "markdown",
   "metadata": {},
   "source": [
    "### Step 3\n",
    "Write code to print the list without the brackets. Create a separate function for this since you will be printing the list several times. "
   ]
  },
  {
   "cell_type": "code",
   "execution_count": 5,
   "metadata": {},
   "outputs": [
    {
     "name": "stdout",
     "output_type": "stream",
     "text": [
      "185 196 82 186 6 175 112 10 127 145 110 137 171 64 48 73 15 105 199 91 27 55 21 168 51 30 18 102 81 112 185 173 22 158 138 125 22 32 158 110 24 163 115 28 30 58 194 114 159 36 146 10 32 83 185 17 3 185 63 101 113 70 183 27 80 99 50 104 31 3 3 95 6 40 84 104 158 34 39 111 180 29 67 94 51 186 123 118 30 175 132 1 136 194 101 164 78 137 84 11 \n"
     ]
    }
   ],
   "source": [
    "def print_list(nums):\n",
    "    for num in nums:\n",
    "        print(num, end=\" \")\n",
    "    print()\n",
    "print_list(nums)"
   ]
  },
  {
   "cell_type": "markdown",
   "metadata": {},
   "source": [
    "### Step 4\n",
    "Write code that sorts the numbers in ascending order. Print the list after it is sorted."
   ]
  },
  {
   "cell_type": "code",
   "execution_count": 6,
   "metadata": {},
   "outputs": [
    {
     "name": "stdout",
     "output_type": "stream",
     "text": [
      "1 3 3 3 6 6 10 10 11 15 17 18 21 22 22 24 27 27 28 29 30 30 30 31 32 32 34 36 39 40 48 50 51 51 55 58 63 64 67 70 73 78 80 81 82 83 84 84 91 94 95 99 101 101 102 104 104 105 110 110 111 112 112 113 114 115 118 123 125 127 132 136 137 137 138 145 146 158 158 158 159 163 164 168 171 173 175 175 180 183 185 185 185 185 186 186 194 194 196 199 \n"
     ]
    }
   ],
   "source": [
    "nums.sort()\n",
    "print_list(nums)"
   ]
  },
  {
   "cell_type": "markdown",
   "metadata": {},
   "source": [
    "### Step 5\n",
    "Write code to print the largest and smallest number in the list."
   ]
  },
  {
   "cell_type": "code",
   "execution_count": 7,
   "metadata": {},
   "outputs": [
    {
     "name": "stdout",
     "output_type": "stream",
     "text": [
      "smallest: 1 largest: 199\n"
     ]
    }
   ],
   "source": [
    "print(\"smallest: %d largest: %d\" %(nums[0], nums[-1]))"
   ]
  },
  {
   "cell_type": "markdown",
   "metadata": {},
   "source": [
    "### Step 6\n",
    "Write code that prompts the user for a number between 1 and 200 and prints how many times that number is in the list. If the number is not in the list print the message: \"Sorry, your number is not here!\""
   ]
  },
  {
   "cell_type": "code",
   "execution_count": 8,
   "metadata": {},
   "outputs": [
    {
     "name": "stdout",
     "output_type": "stream",
     "text": [
      "Please enter a number in [1, 200]: 3\n",
      "3 is in the list 3 time(s).\n"
     ]
    },
    {
     "data": {
      "text/plain": [
       "3"
      ]
     },
     "execution_count": 8,
     "metadata": {},
     "output_type": "execute_result"
    }
   ],
   "source": [
    "def count_num(nums):\n",
    "    num_to_find = int(input(\"Please enter a number in [1, 200]: \"))\n",
    "    count = nums.count(num_to_find)\n",
    "    if count == 0:\n",
    "        print(\"Sorry, your number is not here!\")\n",
    "    else:\n",
    "        print(\"%d is in the list %d time(s).\" %(num_to_find, count))\n",
    "    return count\n",
    "\n",
    "count_num(nums)"
   ]
  },
  {
   "cell_type": "markdown",
   "metadata": {},
   "source": [
    "### (Tricky) Step 7\n",
    "Write code that prompts the user for a number between 1 and 500 and removes all instances of that item from the list (if it is in the list). If the number is not in the list print the message: \"Sorry, your number is not here!\""
   ]
  },
  {
   "cell_type": "code",
   "execution_count": 9,
   "metadata": {},
   "outputs": [
    {
     "name": "stdout",
     "output_type": "stream",
     "text": [
      "Please enter a number in [1, 200] to remove: 3\n",
      "1 6 6 10 10 11 15 17 18 21 22 22 24 27 27 28 29 30 30 30 31 32 32 34 36 39 40 48 50 51 51 55 58 63 64 67 70 73 78 80 81 82 83 84 84 91 94 95 99 101 101 102 104 104 105 110 110 111 112 112 113 114 115 118 123 125 127 132 136 137 137 138 145 146 158 158 158 159 163 164 168 171 173 175 175 180 183 185 185 185 185 186 186 194 194 196 199 \n"
     ]
    }
   ],
   "source": [
    "def remove_num(nums):\n",
    "    '''\n",
    "    Precondition: nums is sorted\n",
    "    '''\n",
    "    num_to_remove = int(input(\"Please enter a number in [1, 200] to remove: \"))\n",
    "    if num_to_remove not in nums:\n",
    "        print(\"Sorry, your number is not here!\")\n",
    "    else:\n",
    "        start_index = nums.index(num_to_remove)\n",
    "        count = nums.count(num_to_remove)\n",
    "        del nums[start_index:start_index+count]\n",
    "\n",
    "remove_num(nums)\n",
    "print_list(nums)"
   ]
  },
  {
   "cell_type": "markdown",
   "metadata": {},
   "source": [
    "## TODO\n",
    "1. Work on the Bonus PA and PA6.\n",
    "1. Read the related chapters in the books.\n",
    "\n",
    "## Next Lesson\n",
    "We wrap up lists!"
   ]
  }
 ],
 "metadata": {
  "anaconda-cloud": {},
  "kernelspec": {
   "display_name": "Python 3",
   "language": "python",
   "name": "python3"
  },
  "language_info": {
   "codemirror_mode": {
    "name": "ipython",
    "version": 3
   },
   "file_extension": ".py",
   "mimetype": "text/x-python",
   "name": "python",
   "nbconvert_exporter": "python",
   "pygments_lexer": "ipython3",
   "version": "3.7.1"
  }
 },
 "nbformat": 4,
 "nbformat_minor": 1
}
