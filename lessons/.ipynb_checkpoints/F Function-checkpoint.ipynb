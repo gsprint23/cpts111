{
 "cells": [
  {
   "cell_type": "markdown",
   "metadata": {},
   "source": [
    "# [CptS 111 Introduction to Algorithmic Problem Solving](https://github.com/gsprint23/cpts111)\n",
    "[Washington State University](https://wsu.edu)\n",
    "\n",
    "[Gina Sprint](http://eecs.wsu.edu/~gsprint/)\n",
    "# Functions\n",
    "\n",
    "Learner objectives for this lesson\n",
    "* Call and define functions"
   ]
  },
  {
   "cell_type": "markdown",
   "metadata": {},
   "source": [
    "## Example: Average of 3 GPAs\n",
    "Problem Statement: Write a program that computes your grade point average (gpa) after completion of 3 courses.\n",
    "\n",
    "Inputs:\n",
    "* Grade point and number of credits for course 1\n",
    "* Grade point and number of credits for course 2\n",
    "* Grade point and number of credits for course 3\n",
    "\n",
    "Outputs\n",
    "* Grade point average (GPA)\n",
    "Relevant formula: `GPA = ((grade_point1 * num_credits1) + (grade_point2 * num_credits2) + (grade_point3 * num_credits3)) / total_num_credits`\n",
    "\n",
    "### Algorithm\n",
    "1. Get the grade points earned from each class\n",
    "1. Get the credit hours for each class\n",
    "1. Compute the credits hours earned\n",
    "    * `weighted_credits = (grade_point1 * num_credits1) + (grade_point2 * num_credits2) + (grade_point3 * num_credits3)`\n",
    "1. Compute the total number of credits\n",
    "    * `total_num_credits = num_credits1 + num_credits2 + num_credits3`\n",
    "1. Compute the average of the grade points\n",
    "    * `gpa = weighted_credits / total_num_credits`\n",
    "1. Display the results  \n",
    "\n",
    "### Implementation"
   ]
  },
  {
   "cell_type": "code",
   "execution_count": 1,
   "metadata": {},
   "outputs": [
    {
     "name": "stdout",
     "output_type": "stream",
     "text": [
      "Please enter the grade point for your computer science course: \n",
      "4.0\n",
      "Please enter number of credits for your computer science course: \n",
      "3\n",
      "Please enter the grade point for your math course: \n",
      "3.5\n",
      "Please enter number of credits for your math course: \n",
      "2\n",
      "Please enter the grade point for your karate course: \n",
      "4.0\n",
      "Please enter number of credits for your karate course: \n",
      "1\n",
      "Your GPA is: 3.83\n"
     ]
    }
   ],
   "source": [
    "# get grade point and credit hours for each class\n",
    "print(\"Please enter the grade point for your computer science course: \")\n",
    "gp1 = float(input())\n",
    "print(\"Please enter number of credits for your computer science course: \")\n",
    "num_credits1 = int(input())\n",
    "\n",
    "print(\"Please enter the grade point for your math course: \")\n",
    "gp2 = float(input())\n",
    "print(\"Please enter number of credits for your math course: \")\n",
    "num_credits2 = int(input())\n",
    "\n",
    "print(\"Please enter the grade point for your karate course: \")\n",
    "gp3 = float(input())\n",
    "print(\"Please enter number of credits for your karate course: \")\n",
    "num_credits3 = int(input())\n",
    "\n",
    "# compute the weighted credit hours earned\n",
    "weighted_credits = (num_credits1 * gp1) + (num_credits2 * gp2) + (num_credits3 * gp3)\n",
    "\n",
    "# compute the total number of credits earned\n",
    "total_num_credits = num_credits1 + num_credits2 + num_credits3\n",
    "\n",
    "# copute the average of the grade points\n",
    "gpa = weighted_credits / total_num_credits\n",
    "\n",
    "# display the results to the user\n",
    "print(\"Your GPA is: %.2f\" %(gpa))"
   ]
  },
  {
   "cell_type": "markdown",
   "metadata": {},
   "source": [
    "What do you think of this example? It seems redundant, right? We're using the exact same sequence of commands (`print()` and `input()`) to obtain the three grade points and credits. If we wanted to change the prompt for entering the grade point (or number of credits), we would have to change the prompt in 3 different spots...\n",
    "\n",
    "Is there a better (less redundant, easier to read, more concise) way to approach this problem? Enter: Functions!!"
   ]
  },
  {
   "cell_type": "markdown",
   "metadata": {},
   "source": [
    "## Functions\n",
    "A **function** is a named sequence of statements that performs a computation. You can think of a function as a self-contained \"mini-program\" that solves a problem.\n",
    "\n",
    "General rule-of-thumb: **1 function = 1 task = 1 algorithm**\n",
    "\n",
    "You already have some practical understanding of functions from your mathematical background: $f(x) = x^2 - 4x + 4$. We pass the value of $x$ into a function called \"$f$\" and get a result back. \n",
    "\n",
    "In programming, we say a function *takes an argument* and *returns a result*.\n",
    "\n",
    "### Calling a Function\n",
    "Python functions can accept \"input arguments\"\n",
    "* The inputs to the function\n",
    "\n",
    "Python functions may return results via a reserved keyword `return` statement that specifies the \"output arguments\" (also called \"output parameters\")\n",
    "* The outputs of the function\n",
    "\n",
    "We have already used functions and seen them in action:"
   ]
  },
  {
   "cell_type": "code",
   "execution_count": 3,
   "metadata": {},
   "outputs": [
    {
     "name": "stdout",
     "output_type": "stream",
     "text": [
      "<class 'int'>\n"
     ]
    }
   ],
   "source": [
    "# type() is a function that accepts an argument and returns the data type of the argument\n",
    "# type is the function name\n",
    "# 42 is the argument\n",
    "# data_type stores the return value from type\n",
    "data_type = type(42)\n",
    "print(data_type)"
   ]
  },
  {
   "cell_type": "markdown",
   "metadata": {},
   "source": [
    "Now, we are going to learn how to write our own functions!\n",
    "\n",
    "### Defining a Function\n",
    "A *function definition* specifies the name of the function and the statements to be executed when the function is \"called\". We call a program by its name when we want to run it. A function definition follows the general template:\n",
    "```\n",
    "def <function_name>(input parameters)\n",
    "    '''\n",
    "    docstring\n",
    "    '''\n",
    "    executable statements\n",
    "    ...\n",
    "    return <output parameters>\n",
    "```\n",
    "There are several aspects of a function to note:\n",
    "* `def` is a keyword that let's Python know you are about to declare a function\n",
    "* The function name should follow similar naming conventions and style guidelines as variable names. Note that function names are user-defined identifiers and should not redefine standard-identifiers (e.g. built-in functions) or previously declared user-identifiers (e.g. your own variables you've already declared).\n",
    "* The input parameters represent data coming in to your function. Don't forget the colon after the last paren.\n",
    "* Together, `def`, function name, and input parameters form the *function header*\n",
    "* The remaining portion of the function is called the *function body*. **All statements of the function body should be indented 4 spaces**. Indentation is how Python *groups* the code you've written with the function header to collectively form the *function definition*.\n",
    "* A multi-line comment, called a docstring, immediately follows the function header. This is where you explain what the function does, what inputs it expects, what outputs it produces, what assumptions the function makes, etc. When you type `help(<function_name>)`, the text in the docstring is what shows up (cool!).\n",
    "* Following the docstring are one or more executable statements.\n",
    "* `return` statements specify the output parameters (results) of your function. Although you can have multiple return statements, in this class we will typically only have one (good style usually dictates only having one return statement per function anyways)."
   ]
  },
  {
   "cell_type": "markdown",
   "metadata": {},
   "source": [
    "## GPA Example Revisited: Enter Functions\n",
    "Let's write a function called `get_grade_point()`:"
   ]
  },
  {
   "cell_type": "code",
   "execution_count": 4,
   "metadata": {},
   "outputs": [
    {
     "name": "stdout",
     "output_type": "stream",
     "text": [
      "Help on function get_grade_point in module __main__:\n",
      "\n",
      "get_grade_point(course_name)\n",
      "    docstring for get_grade_point()\n",
      "    \n",
      "    Prompts the user for a grade point based on a course.\n",
      "\n",
      "None\n"
     ]
    }
   ],
   "source": [
    "def get_grade_point(course_name):\n",
    "    '''\n",
    "    docstring for get_grade_point()\n",
    "    \n",
    "    Prompts the user for a grade point based on a course.\n",
    "    '''\n",
    "    print(\"Please enter the grade point for %s: \" %(course_name))\n",
    "    gp = float(input())\n",
    "    return gp\n",
    "\n",
    "print(help(get_grade_point))"
   ]
  },
  {
   "cell_type": "markdown",
   "metadata": {},
   "source": [
    "Now, everytime we want to read in information from the user about the grade point for a course, we can call `get_grade_point()` instead:"
   ]
  },
  {
   "cell_type": "code",
   "execution_count": 5,
   "metadata": {},
   "outputs": [
    {
     "name": "stdout",
     "output_type": "stream",
     "text": [
      "Please enter the grade point for computer science: \n",
      "4.0\n",
      "Please enter number of credits for your computer science course: \n",
      "3\n",
      "Please enter the grade point for math: \n",
      "3.5\n",
      "Please enter number of credits for your math course: \n",
      "2\n",
      "Please enter the grade point for karate: \n",
      "4.0\n",
      "Please enter number of credits for your karate course: \n",
      "1\n",
      "Your GPA is: 3.83\n"
     ]
    }
   ],
   "source": [
    "# get grade point and credit hours for each class\n",
    "gp1 = get_grade_point(\"computer science\")\n",
    "print(\"Please enter number of credits for your computer science course: \")\n",
    "num_credits1 = int(input())\n",
    "\n",
    "gp2 = get_grade_point(\"math\")\n",
    "print(\"Please enter number of credits for your math course: \")\n",
    "num_credits2 = int(input())\n",
    "\n",
    "gp3 = get_grade_point(\"karate\")\n",
    "print(\"Please enter number of credits for your karate course: \")\n",
    "num_credits3 = int(input())\n",
    "\n",
    "# compute the weighted credit hours earned\n",
    "weighted_credits = (num_credits1 * gp1) + (num_credits2 * gp2) + (num_credits3 * gp3)\n",
    "\n",
    "# compute the total number of credits earned\n",
    "total_num_credits = num_credits1 + num_credits2 + num_credits3\n",
    "\n",
    "# compute the average of the grade points\n",
    "gpa = weighted_credits / total_num_credits\n",
    "\n",
    "# display the results to the user\n",
    "print(\"Your GPA is: %.2f\" %(gpa))"
   ]
  },
  {
   "cell_type": "markdown",
   "metadata": {},
   "source": [
    "### Let's write more functions for the other tasks in our program. Remember, 1 function = 1 task = 1 algorithm."
   ]
  },
  {
   "cell_type": "code",
   "execution_count": 6,
   "metadata": {
    "collapsed": true
   },
   "outputs": [],
   "source": [
    "def get_credits(course_name):\n",
    "    '''\n",
    "    Prompts the user for the number of credits for a course.\n",
    "    '''\n",
    "    print(\"Please enter the number of credits for %s: \" %(course_name))\n",
    "    num_credits = int(input())\n",
    "    return num_credits\n",
    "\n",
    "def compute_weighted_credits(gp1, gp2, gp3, num_credits1, num_credits2, num_credits3):\n",
    "    '''\n",
    "    Computes the weighted credits for three courses.\n",
    "    '''\n",
    "    weighted_credits = (num_credits1 * gp1) + (num_credits2 * gp2) + (num_credits3 * gp3)\n",
    "    return weighted_credits\n",
    "\n",
    "def sum_credits(credits1, credits2, credits3):\n",
    "    '''\n",
    "    \n",
    "    '''\n",
    "    total_credits = credits1 + credits2 + credits3\n",
    "    return total_credits\n",
    "\n",
    "def compute_gpa(weighted_credits, total_num_credits):\n",
    "    '''\n",
    "    Averages the weighted credits earned by the total number of credits taken.\n",
    "    '''\n",
    "    gpa = weighted_credits / total_num_credits\n",
    "    return gpa\n",
    "\n",
    "def display_gpa(gpa):\n",
    "    '''\n",
    "    Displays the final gpa to the user.\n",
    "    '''\n",
    "    print(\"Your GPA is: %.2f\" %(gpa))"
   ]
  },
  {
   "cell_type": "markdown",
   "metadata": {},
   "source": [
    "And now, the new and improved program that utilizes functions:"
   ]
  },
  {
   "cell_type": "code",
   "execution_count": 7,
   "metadata": {},
   "outputs": [
    {
     "name": "stdout",
     "output_type": "stream",
     "text": [
      "Please enter the grade point for computer science: \n",
      "4.0\n",
      "Please enter the number of credits for computer science: \n",
      "3\n",
      "Please enter the grade point for math: \n",
      "3.5\n",
      "Please enter the number of credits for math: \n",
      "2\n",
      "Please enter the grade point for karate: \n",
      "4.0\n",
      "Please enter the number of credits for karate: \n",
      "1\n",
      "Your GPA is: 3.83\n"
     ]
    }
   ],
   "source": [
    "# get grade point and credit hours for each class\n",
    "gp1 = get_grade_point(\"computer science\")\n",
    "num_credits1 = get_credits(\"computer science\")\n",
    "\n",
    "gp2 = get_grade_point(\"math\")\n",
    "num_credits2 = get_credits(\"math\")\n",
    "\n",
    "gp3 = get_grade_point(\"karate\")\n",
    "num_credits3 = get_credits(\"karate\")\n",
    "\n",
    "# compute the weighted credit hours earned\n",
    "weighted_credits = compute_weighted_credits(gp1, gp2, gp3, num_credits1, num_credits2, num_credits3)\n",
    "\n",
    "# compute the total number of credits earned\n",
    "total_num_credits = sum_credits(num_credits1, num_credits2, num_credits3)\n",
    "\n",
    "# copute the average of the grade points\n",
    "gpa = compute_gpa(weighted_credits, total_num_credits)\n",
    "\n",
    "# display the results to the user\n",
    "display_gpa(gpa)"
   ]
  },
  {
   "cell_type": "markdown",
   "metadata": {},
   "source": [
    "#### Program Execution Revisited\n",
    "* Python executes code from top to bottom; however, read a program based on it's execution *flow*, not necessarily from top to bottom.\n",
    "* Function definitions do not alter the flow of program execution.\n",
    "    * When Python encounters a function definition, it notes the existence of the function, but does not execute the function\n",
    "* Statements in a function definition are not executed until the function is *called*. \n",
    "    * Calling a function alters the top to bottom flow of program execution\n",
    "* Functions need to be defined *above* any code that calls the function.\n",
    "* When a function finishes executing, the next Python statement after the function call is executed.\n",
    "* Functions can call other functions!"
   ]
  },
  {
   "cell_type": "markdown",
   "metadata": {},
   "source": [
    "## MA5 Practice Problem\n",
    "On a blank sheet of paper, write the following:\n",
    "1. Your full name\n",
    "1. Your TA name\n",
    "1. MA #5\n",
    "\n",
    "In pairs, work on the following problems. Each student needs to turn in their own paper to get credit for MA5.\n",
    "1. Solve practice problems 2 and 3 from L3-2 without using functions.\n",
    "1. Re-solve practice problems 2 and 3 from L3-2 using functions. Define functions for:\n",
    "    1. Getting user input\n",
    "    1. Computing results\n",
    "    1. Display the results"
   ]
  },
  {
   "cell_type": "markdown",
   "metadata": {},
   "source": [
    "### TODO\n",
    "1. PA1 is due Wednesday at midnight.\n",
    "1. For extra practice, re-write the cone_volume.py code to be modular, meaning it uses functions. What would be a logical breakdown of the program into functions? Perhaps a `get_radius()`, `get_height()`, `compute_volume()`, and `display_volume()`.\n",
    "\n",
    "## Next Lesson\n",
    "More functions! Functions that return mutiple values, functions that call other functions, and more."
   ]
  }
 ],
 "metadata": {
  "anaconda-cloud": {},
  "kernelspec": {
   "display_name": "Python 3",
   "language": "python",
   "name": "python3"
  },
  "language_info": {
   "codemirror_mode": {
    "name": "ipython",
    "version": 3
   },
   "file_extension": ".py",
   "mimetype": "text/x-python",
   "name": "python",
   "nbconvert_exporter": "python",
   "pygments_lexer": "ipython3",
   "version": "3.7.1"
  }
 },
 "nbformat": 4,
 "nbformat_minor": 1
}
