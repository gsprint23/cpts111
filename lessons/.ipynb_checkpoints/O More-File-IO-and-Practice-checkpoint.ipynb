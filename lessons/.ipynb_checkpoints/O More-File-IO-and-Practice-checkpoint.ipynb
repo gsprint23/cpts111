{
 "cells": [
  {
   "cell_type": "markdown",
   "metadata": {},
   "source": [
    "# [CptS 111 Introduction to Algorithmic Problem Solving](https://github.com/gsprint23/cpts111)\n",
    "[Washington State University](https://wsu.edu)\n",
    "\n",
    "[Gina Sprint](http://eecs.wsu.edu/~gsprint/)\n",
    "# More File I/O and Practice\n",
    "\n",
    "Learner objectives for this lesson\n",
    "* Understand positioning in a file\n",
    "* Apply `strip()` to strings\n",
    "* Use the `file` keyword of `print()`"
   ]
  },
  {
   "cell_type": "markdown",
   "metadata": {},
   "source": [
    "## The File \"Cursor\"\n",
    "When you open a file for reading (\"r\" mode), the cursor marking the current position at which to read from starts at the beginning of the file (position 0). As `readlines()` is called, the cursor moves through the file. To move the cursor back to the beginning of the file, you can either close the file and re-open it for reading."
   ]
  },
  {
   "cell_type": "code",
   "execution_count": 1,
   "metadata": {},
   "outputs": [
    {
     "name": "stdout",
     "output_type": "stream",
     "text": [
      "File cursor is at the beginning of the file.\n",
      "13.42\n",
      "\n",
      "27.19\n",
      "\n",
      "9.98\n",
      "\n",
      "48.56\n",
      "\n",
      "33.71\n",
      "File cursor is at the beginning of the file.\n",
      "13.42\n",
      "\n"
     ]
    }
   ],
   "source": [
    "in_file = open(\"transactions.txt\", \"r\")\n",
    "\n",
    "print(\"File cursor is at the beginning of the file.\")\n",
    "for line in in_file.readlines():\n",
    "    print(line)\n",
    "\n",
    "in_file.close()\n",
    "in_file = open(\"transactions.txt\", \"r\")\n",
    "\n",
    "print(\"File cursor is at the beginning of the file.\")\n",
    "transaction = in_file.readline()\n",
    "print(transaction)"
   ]
  },
  {
   "cell_type": "markdown",
   "metadata": {},
   "source": [
    "## Removing Leading and Trailing Whitespace Characters\n",
    "We can remove whitespace characters (like `\\n`) with a call to a string function `strip()`:"
   ]
  },
  {
   "cell_type": "code",
   "execution_count": 9,
   "metadata": {},
   "outputs": [
    {
     "name": "stdout",
     "output_type": "stream",
     "text": [
      "First line:  '13.42\\n'\n",
      "First line stripping leading/trailing whitespace characters:  '13.42'\n"
     ]
    }
   ],
   "source": [
    "in_file = open(\"transactions.txt\", \"r\")\n",
    "\n",
    "# read data from the file advances the cursor by a certain number of bytes, \n",
    "# depending on the number of characters in the line\n",
    "transaction = in_file.readline()\n",
    "\n",
    "# repr() displays all characters in a string. we use it see the newline character as \\n\n",
    "print(\"First line: \", repr(transaction))\n",
    "in_file.close()\n",
    "print(\"First line stripping leading/trailing whitespace characters: \", repr(transaction.strip()))"
   ]
  },
  {
   "cell_type": "markdown",
   "metadata": {},
   "source": [
    "## Revisiting `print()`\n",
    "There are several ways to print strings with the `print()` function. It is helpful to be aware of other printing approaches, especially when you want to format output a particular way. Check out these different ways to print:"
   ]
  },
  {
   "cell_type": "code",
   "execution_count": 6,
   "metadata": {},
   "outputs": [
    {
     "name": "stdout",
     "output_type": "stream",
     "text": [
      "Integer: 7, Float: 8.489890, Float with 1 decimal: 3.1, String: :)\n",
      "4 5.5 :P 8\n",
      "A comma, separated, list\n",
      "A string without the added newline characterThis sentence runs into the previous!\n",
      "An alternative form of placholders 10.0. You can also use keywords cpts111\n"
     ]
    }
   ],
   "source": [
    "# format string and placeholders\n",
    "print(\"Integer: %d, Float: %f, Float with 1 decimal: %.1f, String: %s\" %(7, 8.4898899, 3.14, \":)\"))\n",
    "\n",
    "# arguments displayed separated by spaces\n",
    "print(4, 5.5, \":P\", 8)\n",
    "# specifying the delimiter between arguments (a comma and a space)\n",
    "print(\"A comma\", \"separated\", \"list\", sep=\", \")\n",
    "\n",
    "# specifying the string concatenated to the end\n",
    "print(\"A string without the added newline character\", end=\"\")\n",
    "print(\"This sentence runs into the previous\", end=\"!\\n\")\n",
    "\n",
    "# https://docs.python.org/3/library/string.html\n",
    "print(\"An {} form of placholders {:.1f}. You can also use keywords {name}\".format(\"alternative\", 9.99, name=\"cpts111\"))\n",
    "\n",
    "# alternative way to write to a file using print() instead of write()\n",
    "outfile = open(\"out_demo.txt\", \"w\")\n",
    "print(\"Writing this output via print()\", file=outfile)\n",
    "outfile.close()"
   ]
  },
  {
   "cell_type": "markdown",
   "metadata": {
    "collapsed": true
   },
   "source": [
    "## Common Errors when Working with Files\n",
    "* Using the wrong file handle to refer to a file\n",
    "* Opening a nonexistent file for reading\n",
    "* Using a file object whose cursor is at the end of the file\n",
    "* Opening a file for reading or writing without the appropriate access rights\n",
    "* Opening a file for writing when no disk space is available\n",
    "* Opening a file for writing (\"w\") when the users wants to preserve the previous contents of the file (\"w\" discards all contents of file)\n",
    "    * Use (\"a\") to append instead"
   ]
  },
  {
   "cell_type": "markdown",
   "metadata": {},
   "source": [
    "## Practice Problem\n",
    "For the following problems, we will need to download a file: [words.txt](http://thinkpython2.com/code/words.txt). This file contains 113,809 official crossword words, one per line. Using words.txt, write a program with the following functionality:\n",
    "1. A function called `open_input_file()` that opens words.txt for reading and returns the file object associated with words.txt\n",
    "1. A function called `close_file()` that accepts the file object as an argument and closes the file\n",
    "1. A function called `first_five_words()` that displays the first 5 words of the file. Display the words one on each line, without an extra newline between the words like:\n",
    "```\n",
    "aa\n",
    "aah\n",
    "aahed\n",
    "aahing\n",
    "aahs\n",
    "```"
   ]
  },
  {
   "cell_type": "code",
   "execution_count": 16,
   "metadata": {},
   "outputs": [
    {
     "name": "stdout",
     "output_type": "stream",
     "text": [
      "aa\n",
      "aah\n",
      "aahed\n",
      "aahing\n",
      "aahs\n"
     ]
    }
   ],
   "source": [
    "def open_input_file(fname):\n",
    "    '''\n",
    "    \n",
    "    '''\n",
    "    in_file = open(fname, \"r\")\n",
    "    return in_file\n",
    "\n",
    "def close_file(file_2_close):\n",
    "    '''\n",
    "    \n",
    "    '''\n",
    "    file_2_close.close()\n",
    "    \n",
    "def first_five_words(in_file):\n",
    "    '''\n",
    "    \n",
    "    '''\n",
    "    for i in range(5):\n",
    "        print(in_file.readline(), end=\"\")\n",
    "\n",
    "def main():\n",
    "    '''\n",
    "    \n",
    "    '''\n",
    "    fin = open_input_file(\"words.txt\")\n",
    "    first_five_words(fin)\n",
    "    close_file(fin)\n",
    "    \n",
    "main()"
   ]
  },
  {
   "cell_type": "markdown",
   "metadata": {},
   "source": [
    "## TODO\n",
    "1. Finish PA4.\n",
    "1. Start PA5.\n",
    "\n",
    "## Next Lesson\n",
    "1. We learn more about Strings."
   ]
  }
 ],
 "metadata": {
  "anaconda-cloud": {},
  "kernelspec": {
   "display_name": "Python 3",
   "language": "python",
   "name": "python3"
  },
  "language_info": {
   "codemirror_mode": {
    "name": "ipython",
    "version": 3
   },
   "file_extension": ".py",
   "mimetype": "text/x-python",
   "name": "python",
   "nbconvert_exporter": "python",
   "pygments_lexer": "ipython3",
   "version": "3.7.1"
  }
 },
 "nbformat": 4,
 "nbformat_minor": 1
}
