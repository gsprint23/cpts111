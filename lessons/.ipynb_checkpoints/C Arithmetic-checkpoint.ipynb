{
 "cells": [
  {
   "cell_type": "markdown",
   "metadata": {},
   "source": [
    "# [CptS 111 Introduction to Algorithmic Problem Solving](https://github.com/gsprint23/cpts111)\n",
    "[Washington State University](https://wsu.edu)\n",
    "\n",
    "[Gina Sprint](http://eecs.wsu.edu/~gsprint/)\n",
    "# Arithmetic\n",
    "\n",
    "Learner objectives for this lesson\n",
    "* Apply arithmetic operators in multiple operator expressions\n",
    "* Understand type conversion\n",
    "* Apply the parentheses and operator precedence when evaluating multiple operator expressions\n",
    "* Understand the difference between `int()` and `round()`\n",
    "* Use `print()` to format floating point numbers"
   ]
  },
  {
   "cell_type": "markdown",
   "metadata": {
    "collapsed": true
   },
   "source": [
    "## Arithmetic Expressions\n",
    "Most programming problems require arithmetic expressions as part of solution; including problems related to:\n",
    "* Mechanics\n",
    "* Kinematics\n",
    "* Materials science\n",
    "* Electronics\n",
    "* Many others\n",
    "\n",
    "Form: `operand1 operator operand2`\n",
    "* i.e. `x + y`\n",
    "\n",
    "Note: the type of result dependent on operand types\n",
    "\n",
    "### Arithmetic Operators in Python\n",
    "|Operator|Representation|Example|\n",
    "|----------|-----|-----|\n",
    "|+|Addition|10 + 5 = 15|\n",
    "|||1.55 + 13.3 = 14.85|\n",
    "|||3 + 100.7 = 103.7|\n",
    "|-|Subtraction|10 - 5 = 5|\n",
    "|||5.0 - 10.0 = -5.0|\n",
    "|||10 - 5.0 = 5.0|\n",
    "|\\*|Multiplication|1 * 5 = 5|\n",
    "|||1.000 * 10.0 = 10.0|\n",
    "|||5 * 5.0 = 25.0|\n",
    "|/|Floating Point Division|2 / 3 = 0.66|\n",
    "|||10.0 / 4.0 = 2.5|\n",
    "|||10 / 3.0 = 3.33|\n",
    "|//|Integer Division|2 // 3 = 0|\n",
    "|||10.0 // 4.0 = 2.0|\n",
    "|||10 // 3.0 = 3.0|\n",
    "|%|Modulus (AKA Remainder)|5 % 2 = 1|\n",
    "|||2 % 5 = 2|\n",
    "|||6 % 0 = undefined|\n",
    "|||6.0 % 3 = 0.0|\n",
    "|\\*\\*|Exponentiation|2 \\*\\* 3 = 8|\n",
    "|||2 \\*\\* 3 \\*\\* 2 = 512|\n",
    "|||4 \\*\\* (2 / 4) = 2.0|\n",
    "\n",
    "Note: The result of a modulus operation is the same as the remainder from integer division. Remember long division?\n",
    "![](https://raw.githubusercontent.com/gsprint23/cpts111/master/lessons/figures/long_division.gif)\n",
    "(Image from https://dj1hlxw0wr920.cloudfront.net/userfiles/wyzfiles/b410fcc6-7a7b-45a0-81b9-354423866db9.gif)\n",
    "\n",
    "In the above example, 128 // 5 is 25 and 128 % 5 is 3 (the remainder).\n",
    "\n",
    "Note: Exponentiation groups from right to left."
   ]
  },
  {
   "cell_type": "code",
   "execution_count": 1,
   "metadata": {},
   "outputs": [
    {
     "name": "stdout",
     "output_type": "stream",
     "text": [
      "512\n",
      "4.0\n",
      "2.0\n"
     ]
    }
   ],
   "source": [
    "print(2 ** 3 ** 2) # move from right to left for exponentiation\n",
    "print(4 ** 2 / 4) # exponentiation has higher precedence than division\n",
    "print(4 ** (2 / 4)) # square root"
   ]
  },
  {
   "cell_type": "markdown",
   "metadata": {},
   "source": [
    "### Mixed-Type Expressions\n",
    "An expression with different *types of operands* (e.g. an integer value and a double value).\n",
    "\n",
    "The result is always the more precise data type. For example:\n",
    "\n",
    "10 (an `int`) + 25.5 (a `float`) = 35.5 (a `float`)\n",
    "\n",
    "### Mixed-Type Assignment Statements\n",
    "* Evaluated from right-to-left\n",
    "* Expression is first evaluated (what's on the right hand side) and then assigned to variable (what's on left hand side)\n",
    "\n",
    "Examples:"
   ]
  },
  {
   "cell_type": "code",
   "execution_count": 2,
   "metadata": {},
   "outputs": [
    {
     "name": "stdout",
     "output_type": "stream",
     "text": [
      "47 <class 'int'>\n",
      "10.5 <class 'float'>\n",
      "10 <class 'int'>\n"
     ]
    }
   ],
   "source": [
    "result = 0\n",
    "op1_int = 5\n",
    "op2_int = 42\n",
    "op1_float = 5.5\n",
    "\n",
    "# integer expression, integer assignment, result = 47\n",
    "result = op1_int + op2_int\n",
    "print(result, type(result))\n",
    "\n",
    "# mixed expression, float assignment result = 10.5\n",
    "result = op1_int + op1_float;\n",
    "print(result, type(result))\n",
    "\n",
    "# mixed expression, integer assignment, result = 10 (truncation occurs)\n",
    "result = int(op1_int + op1_float)\n",
    "print(result, type(result))"
   ]
  },
  {
   "cell_type": "markdown",
   "metadata": {},
   "source": [
    "## Changing Type\n",
    "We have already seen type conversions to change a value of certain a data type into another data type\n",
    "\n",
    "Two kinds of type conversions (also called casts) exist:\n",
    "1. Implicit\n",
    "1. Explicit\n",
    "\n",
    "Implicit type conversion example:"
   ]
  },
  {
   "cell_type": "code",
   "execution_count": 3,
   "metadata": {},
   "outputs": [
    {
     "name": "stdout",
     "output_type": "stream",
     "text": [
      "12 <class 'int'>\n"
     ]
    }
   ],
   "source": [
    "num1 = 12 # int\n",
    "num2 = 0.0 # float\n",
    "num2 = num1 # num2 is now an int\n",
    "print(num2, type(num2))"
   ]
  },
  {
   "cell_type": "markdown",
   "metadata": {},
   "source": [
    "Explicit type conversion example:"
   ]
  },
  {
   "cell_type": "code",
   "execution_count": 4,
   "metadata": {},
   "outputs": [
    {
     "name": "stdout",
     "output_type": "stream",
     "text": [
      "1 <class 'int'>\n"
     ]
    }
   ],
   "source": [
    "num1 = 1.7 # float\n",
    "num1 = int(num1) # 1.7 explicitly casted to type int, 1\n",
    "print(num1, type(num1))"
   ]
  },
  {
   "cell_type": "markdown",
   "metadata": {},
   "source": [
    "Note: `int()` truncates the fractional part of a floating point number. If you want to round the float instead, use `round()`. `round()` allows you to round a float to as many decimal places as you like: `round(<float>, n)` where `n` = number of decimal places. If you omit `n`, then `round(<float>)` returns a rounded integer:"
   ]
  },
  {
   "cell_type": "code",
   "execution_count": 5,
   "metadata": {},
   "outputs": [
    {
     "name": "stdout",
     "output_type": "stream",
     "text": [
      "5\n",
      "6\n",
      "5.9\n"
     ]
    }
   ],
   "source": [
    "x = 5.87\n",
    "print(int(x)) # truncates\n",
    "print(round(x)) # rounds to nearest integer\n",
    "print(round(x, 1)) # rounds to one decimal place"
   ]
  },
  {
   "cell_type": "markdown",
   "metadata": {},
   "source": [
    "## Multiple Operator Expressions\n",
    "Arithmetic expressions in Python can have multiple operators. We saw this in our volume of a cone example.\n",
    "* May contain unary and binary operators\n",
    "* Unary operators consists of one operand\n",
    "* Binary operators require two operands\n",
    "\n",
    "Example:"
   ]
  },
  {
   "cell_type": "code",
   "execution_count": 6,
   "metadata": {},
   "outputs": [
    {
     "name": "stdout",
     "output_type": "stream",
     "text": [
      "-2.5\n"
     ]
    }
   ],
   "source": [
    "x = 5\n",
    "# -x applies the unary sign operator for negation\n",
    "y = -x + x * x / 10 # what is this result? run the code to check your result\n",
    "print(y)"
   ]
  },
  {
   "cell_type": "markdown",
   "metadata": {},
   "source": [
    "## Operator Precedence\n",
    "How is `x – y / z` evaluated?\n",
    "1. `(x – y) / z` ?\n",
    "1. `x – (y / z)` ?\n",
    "\n",
    "It is important to understand operator precedence rules:\n",
    "* Subexpressions in parentheses are evaluated first\n",
    "* Evaluation proceeds left to right\n",
    "* In cases where no parentheses are used, \\*, /, //,and % take precedence over + and –\n",
    "\n",
    "So `x – y / z` is evaluated as `x – (y / z)`, because / takes precedence over –\n",
    "\n",
    "Note: The unary operators + and – are used to indicate the sign of a number (e.g., +5, -3.0). They take precedence over all binary operators, and are evaluated right to left.\n",
    "\n",
    "Example: `-3 + 5 * 4` would be evaluated as `(-3) + (5 * 4) = 17`.\n",
    "Recommendation: Liberally use parentheses to avoid confusion and unexpected results!\n",
    "\n",
    "Here is another precedence example (from Hanly and Koffman, page 80):\n",
    "![](https://raw.githubusercontent.com/gsprint23/cpts111/master/lessons/figures/precedence_example.png)\n",
    "\n",
    "## Formatting Numbers\n",
    "Python defines \"default\" output style for each data type\n",
    "* No leading blanks for `int` and `float`\n",
    "* `float` displayed with digits to right of decimal point\n",
    "\n",
    "You can override these defaults by specifying custom format strings to `print()` function. For float output, format string is of form `%n.mf`, where `n` is total width (number of columns) of formatted number, and `m` is the number of digits to the right of decimal point to display. It is possible to omit `n`. In that case, no leading spaces are printed. `m` can still specify the number of decimal places (e.g., `%.2f`).\n"
   ]
  },
  {
   "cell_type": "code",
   "execution_count": 7,
   "metadata": {},
   "outputs": [
    {
     "name": "stdout",
     "output_type": "stream",
     "text": [
      "x is  3. y is  2.2.\n"
     ]
    }
   ],
   "source": [
    "x = 3\n",
    "y = 2.17\n",
    "# outputs 2 spaces before the 3 and 2 spaces before the 2.2\n",
    "print(\"x is%3d. y is%5.1f.\" %(x, y))"
   ]
  },
  {
   "cell_type": "markdown",
   "metadata": {},
   "source": [
    "You try it! Consider the following variables:\n",
    "```\n",
    "a = 504\n",
    "b = 302.558\n",
    "c = -12.31\n",
    "```\n",
    "Write a Python statement that will display the following line (@ is used to denote a blank):\n",
    "@@504@@@@@302.56@@@@-12.3"
   ]
  },
  {
   "cell_type": "code",
   "execution_count": 8,
   "metadata": {},
   "outputs": [
    {
     "name": "stdout",
     "output_type": "stream",
     "text": [
      "  504     302.56    -12.3\n"
     ]
    }
   ],
   "source": [
    "a = 504\n",
    "b = 302.558\n",
    "c = -12.31\n",
    "print(\"%5d%11.2f%9.1f\" %(a, b, c))"
   ]
  },
  {
   "cell_type": "markdown",
   "metadata": {},
   "source": [
    "## TODO\n",
    "1. Get started on PA1.\n",
    "1. Bring your laptop to next class, we will be working *lots* of problems.\n",
    "\n",
    "## Next Lesson\n",
    "Practice, practice, practice."
   ]
  }
 ],
 "metadata": {
  "anaconda-cloud": {},
  "kernelspec": {
   "display_name": "Python 3",
   "language": "python",
   "name": "python3"
  },
  "language_info": {
   "codemirror_mode": {
    "name": "ipython",
    "version": 3
   },
   "file_extension": ".py",
   "mimetype": "text/x-python",
   "name": "python",
   "nbconvert_exporter": "python",
   "pygments_lexer": "ipython3",
   "version": "3.7.1"
  }
 },
 "nbformat": 4,
 "nbformat_minor": 1
}
