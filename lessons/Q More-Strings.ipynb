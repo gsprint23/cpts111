{
 "cells": [
  {
   "cell_type": "markdown",
   "metadata": {},
   "source": [
    "# [CptS 111 Introduction to Algorithmic Problem Solving](https://github.com/gsprint23/cpts111)\n",
    "[Washington State University](https://wsu.edu)\n",
    "\n",
    "[Gina Sprint](http://eecs.wsu.edu/~gsprint/)\n",
    "# More Strings\n",
    "\n",
    "Learner objectives for this lesson\n",
    "* Learn about searching\n",
    "* Compare strings for equality\n",
    "* Apply string methods"
   ]
  },
  {
   "cell_type": "markdown",
   "metadata": {},
   "source": [
    "## String Comparison\n",
    "Often we need to compare 2 strings in order to determine if the strings are equal or not (e.g. a 20 questions game or a hang man game). We can use string comparison operators to do this:\n",
    "* == (equality)\n",
    "* != (not equal)\n",
    "* < > (less than or greater than)\n",
    "\n",
    "Note: String comparisons are performed by comparing character [Unicode values](http://dev.networkerror.org/utf8/?start=33&end=133&cols=4&search=&show_uni_int=on&show_uni_hex=on&show_html_ent=on&show_raw_hex=on&show_raw_bin=on), index by index."
   ]
  },
  {
   "cell_type": "code",
   "execution_count": 11,
   "metadata": {},
   "outputs": [
    {
     "name": "stdout",
     "output_type": "stream",
     "text": [
      "True\n",
      "False\n",
      "False\n",
      "True\n"
     ]
    }
   ],
   "source": [
    "print(\"cpts\" == \"cpts\")\n",
    "print(\"cpts\" == \"CptS\")\n",
    "print(\"cpts\" < \"CptS\")\n",
    "print(\"cpts\" > \"CptS\")"
   ]
  },
  {
   "cell_type": "markdown",
   "metadata": {
    "collapsed": true
   },
   "source": [
    "## Searching a String\n",
    "Supposed we want to determine if a string contains a certain character, such as an \"a\". How could we solve this problem?"
   ]
  },
  {
   "cell_type": "code",
   "execution_count": 15,
   "metadata": {},
   "outputs": [
    {
     "name": "stdout",
     "output_type": "stream",
     "text": [
      "True\n",
      "True\n",
      "False\n",
      "False\n"
     ]
    }
   ],
   "source": [
    "def find_character(string_to_search, char_to_find):\n",
    "    '''\n",
    "    \n",
    "    '''\n",
    "    found = False\n",
    "    \n",
    "    for character in string_to_search:\n",
    "        if character == char_to_find:\n",
    "            found = True\n",
    "            break\n",
    "    return found\n",
    "\n",
    "def find_character_alternative(string_to_search, char_to_find):\n",
    "    '''\n",
    "    \n",
    "    '''\n",
    "    return char_to_find in string_to_search\n",
    "\n",
    "word = \"cpts111!\"\n",
    "print(find_character(word, \"!\"))\n",
    "print(find_character(word, \"!\"))\n",
    "\n",
    "print(find_character(word, \"T\"))\n",
    "print(find_character_alternative(word, \"T\"))"
   ]
  },
  {
   "cell_type": "markdown",
   "metadata": {},
   "source": [
    "Suppose we want to return the index at which the character is located, and -1 if the character is not found? How could we modify our solution to do this?"
   ]
  },
  {
   "cell_type": "code",
   "execution_count": 14,
   "metadata": {},
   "outputs": [
    {
     "name": "stdout",
     "output_type": "stream",
     "text": [
      "7\n",
      "-1\n"
     ]
    }
   ],
   "source": [
    "def find_index(word, letter):\n",
    "    '''\n",
    "    \n",
    "    '''\n",
    "    i = 0\n",
    "    while i < len(word):\n",
    "        if word[i] == letter:\n",
    "            return i\n",
    "        i += 1\n",
    "    return -1\n",
    "\n",
    "print(find_index(word, \"!\"))\n",
    "print(find_index(word, \"T\"))"
   ]
  },
  {
   "cell_type": "markdown",
   "metadata": {},
   "source": [
    "## String Methods\n",
    "A function that is associated with an object is called a *method*. To call a method, we use the form `<object>.<method name>()`. We have been using methods when we interact with file objects. Recall:\n",
    "\n",
    "```\n",
    "file_object = open(\"file.txt\", \"r\")\n",
    "line = file_object.readline()\n",
    "file_object.close()\n",
    "```\n",
    "\n",
    "There are several string methods that provide useful string operations. To use a string object method, we use the form `<string variable>.<method name>()`. For example, we have been using the string method `strip()`:"
   ]
  },
  {
   "cell_type": "code",
   "execution_count": 4,
   "metadata": {},
   "outputs": [
    {
     "name": "stdout",
     "output_type": "stream",
     "text": [
      "python\n"
     ]
    }
   ],
   "source": [
    "my_string = \"           python           \"\n",
    "my_string = my_string.strip()\n",
    "print(my_string)"
   ]
  },
  {
   "cell_type": "markdown",
   "metadata": {},
   "source": [
    "As another example, the `upper()` method converts each character in the string to the left of the `.` to upper case and returns the new upper case string:"
   ]
  },
  {
   "cell_type": "code",
   "execution_count": 4,
   "metadata": {},
   "outputs": [
    {
     "name": "stdout",
     "output_type": "stream",
     "text": [
      "PYTHON\n"
     ]
    }
   ],
   "source": [
    "my_string = \"python\"\n",
    "upper_case = my_string.upper()\n",
    "print(upper_case)"
   ]
  },
  {
   "cell_type": "markdown",
   "metadata": {},
   "source": [
    "Useful string method functions include (but are not limited to):\n",
    "* `upper()`: returns the string in uppercase\n",
    "* `lower()`: returns the string in lowercase\n",
    "* `find(<character to find>)`: returns the index of `<character to find>` if `<character to find>` is in the string\n",
    "* `replace(<substring to replace>, <string to replace with>)`: returns a string with all occurrences of `<substring to replace>` replaced with `<string to replace with>`\n",
    "\n",
    "Read more about string methods in the [Python documentation](https://docs.python.org/3.1/library/stdtypes.html#string-methods)\n",
    "\n",
    "Examples:"
   ]
  },
  {
   "cell_type": "code",
   "execution_count": 4,
   "metadata": {},
   "outputs": [
    {
     "name": "stdout",
     "output_type": "stream",
     "text": [
      "2\n",
      "hello\n"
     ]
    }
   ],
   "source": [
    "my_string = \"hello\"\n",
    "print(my_string.find(\"l\"))\n",
    "new_string = my_string.replace(\"l\", \"L\")\n",
    "print(my_string)"
   ]
  },
  {
   "cell_type": "markdown",
   "metadata": {},
   "source": [
    "## Practice Problems\n",
    "\n",
    "### Problem \\#1\n",
    "Write a function called `my_str_len()` that accepts a string as an argument and returns the number of characters in the string argument. Your function may not make use of the `len()` built-in function. Think loops!\n"
   ]
  },
  {
   "cell_type": "code",
   "execution_count": 9,
   "metadata": {},
   "outputs": [
    {
     "name": "stdout",
     "output_type": "stream",
     "text": [
      "5\n"
     ]
    }
   ],
   "source": [
    "def my_str_len(word):\n",
    "    '''\n",
    "    \n",
    "    '''\n",
    "    count = 0\n",
    "    for letter in word:\n",
    "        count += 1\n",
    "    return count\n",
    "\n",
    "print(my_str_len(\"hello\"))"
   ]
  },
  {
   "cell_type": "markdown",
   "metadata": {},
   "source": [
    "### Problem \\#2\n",
    "Write a function called `reverse_string()` that accepts a string argument (`word`) and returns the reverse of `word`."
   ]
  },
  {
   "cell_type": "code",
   "execution_count": 10,
   "metadata": {},
   "outputs": [
    {
     "name": "stdout",
     "output_type": "stream",
     "text": [
      "olleh\n",
      "mada mi madam\n",
      "amanap lanac a nalp a nam a\n"
     ]
    }
   ],
   "source": [
    "def reverse_string(word):\n",
    "    '''\n",
    "    \n",
    "    '''\n",
    "    reverse = \"\"\n",
    "    for i in range(len(word) - 1, -1, -1):\n",
    "        reverse += word[i]\n",
    "    return reverse\n",
    "\n",
    "print(reverse_string(\"hello\"))\n",
    "# palindromes (strings that are the same forward as backward)\n",
    "print(reverse_string(\"madam im adam\"))\n",
    "print(reverse_string(\"a man a plan a canal panama\"))"
   ]
  },
  {
   "cell_type": "markdown",
   "metadata": {},
   "source": [
    "### Problem \\#3\n",
    "Write a predicate function called `is_reverse()` that accepts two string arguments (`word1` and `word2`) and returns whether or not `word2` is the reverse of `word1`."
   ]
  },
  {
   "cell_type": "code",
   "execution_count": 12,
   "metadata": {},
   "outputs": [
    {
     "name": "stdout",
     "output_type": "stream",
     "text": [
      "True\n",
      "False\n"
     ]
    }
   ],
   "source": [
    "def is_reverse_in_place(word1, word2):\n",
    "    '''\n",
    "    \n",
    "    '''\n",
    "    i = 0\n",
    "    j = len(word2) - 1\n",
    "    \n",
    "    if len(word1) != len(word2):\n",
    "        return False\n",
    "    \n",
    "    while i < len(word1):\n",
    "        if word1[i] != word2[j]:\n",
    "            return False\n",
    "        i += 1\n",
    "        j -= 1\n",
    "        \n",
    "    return True\n",
    "\n",
    "print(is_reverse(\"hello\", \"olleh\"))\n",
    "print(is_reverse(\"hello\", \"olelh\"))"
   ]
  },
  {
   "cell_type": "markdown",
   "metadata": {},
   "source": [
    "## TODO\n",
    "1. Work on PA5\n",
    "1. Study for midterm #2\n",
    "\n",
    "## Next Lesson\n",
    "1. We review for the midterm"
   ]
  }
 ],
 "metadata": {
  "anaconda-cloud": {},
  "kernelspec": {
   "display_name": "Python 3",
   "language": "python",
   "name": "python3"
  },
  "language_info": {
   "codemirror_mode": {
    "name": "ipython",
    "version": 3
   },
   "file_extension": ".py",
   "mimetype": "text/x-python",
   "name": "python",
   "nbconvert_exporter": "python",
   "pygments_lexer": "ipython3",
   "version": "3.7.1"
  }
 },
 "nbformat": 4,
 "nbformat_minor": 1
}
