{
 "cells": [
  {
   "cell_type": "markdown",
   "metadata": {},
   "source": [
    "# [CptS 111 Introduction to Algorithmic Problem Solving](https://github.com/gsprint23/cpts111)\n",
    "[Washington State University](https://wsu.edu)\n",
    "\n",
    "[Gina Sprint](http://eecs.wsu.edu/~gsprint/)\n",
    "# Strings\n",
    "\n",
    "Learner objectives for this lesson\n",
    "* Learn about string indexing\n",
    "* Iterate through characters in a string using loops\n",
    "* Learn about string slicing"
   ]
  },
  {
   "cell_type": "markdown",
   "metadata": {
    "collapsed": true
   },
   "source": [
    "## Review of Strings\n",
    "A long time ago, we learned a string is a *sequence of characters*. We learned how to use strings in print statements, how to assign a string to a variable, how to typecast to a string using `str()`."
   ]
  },
  {
   "cell_type": "code",
   "execution_count": 14,
   "metadata": {},
   "outputs": [
    {
     "name": "stdout",
     "output_type": "stream",
     "text": [
      "PYTHON\n",
      "PYTHON\n",
      "PYTHON 100.0\n"
     ]
    }
   ],
   "source": [
    "print(\"PYTHON\")\n",
    "my_string = \"PYTHON\"\n",
    "print(my_string)\n",
    "print(\"%s %s\" %(my_string, str(100.0)))"
   ]
  },
  {
   "cell_type": "markdown",
   "metadata": {},
   "source": [
    "### String Concatenation\n",
    "We also learned how to make new strings using string concatenation (the `+` operator): `new_string = old_string1 + old_string2`:"
   ]
  },
  {
   "cell_type": "code",
   "execution_count": 7,
   "metadata": {},
   "outputs": [
    {
     "name": "stdout",
     "output_type": "stream",
     "text": [
      "cpts111 uses PYTHON!\n"
     ]
    }
   ],
   "source": [
    "new_string = \"cpts\" + \"111\" + \" uses \" + my_string + \"!\"\n",
    "print(new_string)"
   ]
  },
  {
   "cell_type": "markdown",
   "metadata": {},
   "source": [
    "### Strings and `for` Loops\n",
    "More recently, we learned about sequences in the context of `for` loops:\n",
    "\n",
    "```for <item> in <sequence>:\n",
    "    <body>\n",
    "```\n",
    "\n",
    "We can also use `for` loops to iterate through each character in a string:"
   ]
  },
  {
   "cell_type": "code",
   "execution_count": 8,
   "metadata": {},
   "outputs": [
    {
     "name": "stdout",
     "output_type": "stream",
     "text": [
      "P Y T H O N "
     ]
    }
   ],
   "source": [
    "for character in \"PYTHON\":\n",
    "    print(character, end=\" \")"
   ]
  },
  {
   "cell_type": "markdown",
   "metadata": {},
   "source": [
    "We can do this because the string \"PYTHON\" is a sequence of characters, where the first character (\"P\") is the located at the first index, index 0. This is called 0-based indexing."
   ]
  },
  {
   "cell_type": "markdown",
   "metadata": {},
   "source": [
    "## String Indexing\n",
    "Logically, the string `\"PYTHON\"` is organized as follows:\n",
    "\n",
    "|Index:|0|1|2|3|4|5|\n",
    "|-|-|-|-|-|-|-|\n",
    "|Character:|P|Y|T|H|O|N|\n",
    "\n",
    "In general, a string that has `n` characters has valid indices of 0, 1, ..., `n` - 1.\n",
    "\n",
    "We can access a single character in the string using indexing notation: `[<index>]` (hard brackets):"
   ]
  },
  {
   "cell_type": "code",
   "execution_count": 9,
   "metadata": {},
   "outputs": [
    {
     "name": "stdout",
     "output_type": "stream",
     "text": [
      "P\n",
      "N\n"
     ]
    }
   ],
   "source": [
    "my_string = \"PYTHON\"\n",
    "\n",
    "print(my_string[0])\n",
    "print(my_string[5])"
   ]
  },
  {
   "cell_type": "markdown",
   "metadata": {},
   "source": [
    "What happens if we try to index beyond `n` - 1?"
   ]
  },
  {
   "cell_type": "code",
   "execution_count": 10,
   "metadata": {},
   "outputs": [
    {
     "ename": "IndexError",
     "evalue": "string index out of range",
     "output_type": "error",
     "traceback": [
      "\u001b[1;31m--------------\u001b[0m",
      "\u001b[1;31mIndexError\u001b[0mTraceback (most recent call last)",
      "\u001b[1;32m<ipython-input-10-c91c2d83a967>\u001b[0m in \u001b[0;36m<module>\u001b[1;34m()\u001b[0m\n\u001b[1;32m----> 1\u001b[1;33m \u001b[0mprint\u001b[0m\u001b[1;33m(\u001b[0m\u001b[0mmy_string\u001b[0m\u001b[1;33m[\u001b[0m\u001b[1;36m6\u001b[0m\u001b[1;33m]\u001b[0m\u001b[1;33m)\u001b[0m\u001b[1;33m\u001b[0m\u001b[0m\n\u001b[0m",
      "\u001b[1;31mIndexError\u001b[0m: string index out of range"
     ]
    }
   ],
   "source": [
    "print(my_string[6])"
   ]
  },
  {
   "cell_type": "markdown",
   "metadata": {},
   "source": [
    "Your program will crash! Python will tell you why though: \"IndexError: string index out of range\".\n",
    "\n",
    "We can also index into a string to get single characters by using a variable:"
   ]
  },
  {
   "cell_type": "code",
   "execution_count": 6,
   "metadata": {},
   "outputs": [
    {
     "name": "stdout",
     "output_type": "stream",
     "text": [
      "T\n",
      "Y\n"
     ]
    }
   ],
   "source": [
    "i = 2\n",
    "print(my_string[i])\n",
    "print(my_string[i - 1])"
   ]
  },
  {
   "cell_type": "markdown",
   "metadata": {},
   "source": [
    "## String Length\n",
    "We can find out the length of a string, meaning the number of characters in the string, by calling the built-in string `len(<string>)` function:"
   ]
  },
  {
   "cell_type": "code",
   "execution_count": 3,
   "metadata": {},
   "outputs": [
    {
     "name": "stdout",
     "output_type": "stream",
     "text": [
      "The length of PYTHON is: 6\n"
     ]
    }
   ],
   "source": [
    "length = len(my_string)\n",
    "print(\"The length of %s is: %d\" %(my_string, length))"
   ]
  },
  {
   "cell_type": "markdown",
   "metadata": {},
   "source": [
    "Note: `len()` can also be useful for determining the valid index range of a string (length of the string - 1):"
   ]
  },
  {
   "cell_type": "code",
   "execution_count": 5,
   "metadata": {},
   "outputs": [
    {
     "name": "stdout",
     "output_type": "stream",
     "text": [
      "N\n"
     ]
    }
   ],
   "source": [
    "str_len = len(my_string)\n",
    "print(my_string[str_len - 1])"
   ]
  },
  {
   "cell_type": "markdown",
   "metadata": {},
   "source": [
    "### The Empty String\n",
    "We can have an empty string (`\"\"`), a string with no characters."
   ]
  },
  {
   "cell_type": "code",
   "execution_count": 2,
   "metadata": {
    "collapsed": true
   },
   "outputs": [],
   "source": [
    "empty_string = \"\"\n",
    "print(empty_string, end=\"\")"
   ]
  },
  {
   "cell_type": "markdown",
   "metadata": {},
   "source": [
    "## Strings and `while` Loops\n",
    "Now, we can use a `while` loop and the built-in `len()` function to display individual characters of a string, similar to how we used a `for` loop above. Our loop control variable wil be a variable (`i`) used to index into the string: "
   ]
  },
  {
   "cell_type": "code",
   "execution_count": 11,
   "metadata": {},
   "outputs": [
    {
     "name": "stdout",
     "output_type": "stream",
     "text": [
      "P Y T H O N "
     ]
    }
   ],
   "source": [
    "i = 0\n",
    "\n",
    "while i < len(my_string):\n",
    "    print(my_string[i], end=\" \")\n",
    "    i += 1"
   ]
  },
  {
   "cell_type": "markdown",
   "metadata": {},
   "source": [
    "Using the `len()` function. We do not need to know in advance how many characters are in `my_string` to walk through each character and print it. "
   ]
  },
  {
   "cell_type": "markdown",
   "metadata": {},
   "source": [
    "## String Slicing\n",
    "We can use the `:` operator to select a *slice* of a string: `<string variable>[start_index:end_index + 1]`\n",
    "\n",
    "For example:"
   ]
  },
  {
   "cell_type": "code",
   "execution_count": 6,
   "metadata": {},
   "outputs": [
    {
     "name": "stdout",
     "output_type": "stream",
     "text": [
      "YT\n",
      "111\n"
     ]
    }
   ],
   "source": [
    "# Get the YT of PYTHON\n",
    "print(my_string[1:3])\n",
    "\n",
    "course = \"CptS111\"\n",
    "\n",
    "# get a slice of the 111\n",
    "course_num = course[4:7]\n",
    "print(course_num)"
   ]
  },
  {
   "cell_type": "markdown",
   "metadata": {},
   "source": [
    "Omitting the start index implies a 0 for a start index and omitting an end index implies a `len(<string variable>)` for an end index:"
   ]
  },
  {
   "cell_type": "code",
   "execution_count": 8,
   "metadata": {},
   "outputs": [
    {
     "name": "stdout",
     "output_type": "stream",
     "text": [
      "PY\n",
      "PY\n",
      "THON\n",
      "THON\n"
     ]
    }
   ],
   "source": [
    "# these two are the same\n",
    "print(my_string[0:2])\n",
    "print(my_string[:2])\n",
    "\n",
    "# these two are the same\n",
    "print(my_string[2:len(my_string)])\n",
    "print(my_string[2:])"
   ]
  },
  {
   "cell_type": "markdown",
   "metadata": {},
   "source": [
    "Note: We can also use negative indices! The last index of a string is -1, the second to last index is -2, and so on, until the first index is `-len(<string variable>)`\n",
    "\n",
    "|Index:|0|1|2|3|4|5|\n",
    "|-|-|-|-|-|-|-|\n",
    "|Character:|P|Y|T|H|O|N|\n",
    "|Index:|-6|-5|-4|-3|-2|-1|"
   ]
  },
  {
   "cell_type": "code",
   "execution_count": 10,
   "metadata": {},
   "outputs": [
    {
     "name": "stdout",
     "output_type": "stream",
     "text": [
      "N\n",
      "P\n"
     ]
    }
   ],
   "source": [
    "print(my_string[-1])\n",
    "print(my_string[-6])"
   ]
  },
  {
   "cell_type": "markdown",
   "metadata": {},
   "source": [
    "## Immutability of Strings\n",
    "Strings are *immutable*, meaning they can't be changed. This means we cannot re-assign a character of a string:"
   ]
  },
  {
   "cell_type": "code",
   "execution_count": 12,
   "metadata": {},
   "outputs": [
    {
     "ename": "TypeError",
     "evalue": "'str' object does not support item assignment",
     "output_type": "error",
     "traceback": [
      "\u001b[1;31m--------------\u001b[0m",
      "\u001b[1;31mTypeError\u001b[0mTraceback (most recent call last)",
      "\u001b[1;32m<ipython-input-12-12bd1ac7aa74>\u001b[0m in \u001b[0;36m<module>\u001b[1;34m()\u001b[0m\n\u001b[0;32m      1\u001b[0m \u001b[1;31m# crashes because strings are immutable\u001b[0m\u001b[1;33m\u001b[0m\u001b[1;33m\u001b[0m\u001b[0m\n\u001b[1;32m----> 2\u001b[1;33m \u001b[0mmy_string\u001b[0m\u001b[1;33m[\u001b[0m\u001b[1;36m0\u001b[0m\u001b[1;33m]\u001b[0m \u001b[1;33m=\u001b[0m \u001b[1;34m\"p\"\u001b[0m\u001b[1;33m\u001b[0m\u001b[0m\n\u001b[0m",
      "\u001b[1;31mTypeError\u001b[0m: 'str' object does not support item assignment"
     ]
    }
   ],
   "source": [
    "# crashes because strings are immutable\n",
    "my_string[0] = \"p\""
   ]
  },
  {
   "cell_type": "markdown",
   "metadata": {},
   "source": [
    "To \"change\" a string (remember strings are immutable), we can make a new string that is a variant of the old string:"
   ]
  },
  {
   "cell_type": "code",
   "execution_count": 13,
   "metadata": {},
   "outputs": [
    {
     "name": "stdout",
     "output_type": "stream",
     "text": [
      "pYTHON\n"
     ]
    }
   ],
   "source": [
    "new_string = \"p\" + my_string[1:]\n",
    "print(new_string)"
   ]
  },
  {
   "cell_type": "markdown",
   "metadata": {},
   "source": [
    "## Practice Problem"
   ]
  },
  {
   "cell_type": "code",
   "execution_count": 2,
   "metadata": {
    "collapsed": true
   },
   "outputs": [],
   "source": [
    "holiday = \"easter\""
   ]
  },
  {
   "cell_type": "markdown",
   "metadata": {},
   "source": [
    "Given the above string declaration, answer the following questions:\n",
    "1. What are the valid indices of `holiday`?\n",
    "1. Write code to print the number of characters in `holiday`\n",
    "1. Write code to print the \"a\"\n",
    "1. Write code to print \"ter\"\n",
    "1. Write code to assign \"easter is April 16th\" to a new string using `holiday`\n",
    "1. Write code to assign \"Easter\" to a new string using `holiday`"
   ]
  },
  {
   "cell_type": "markdown",
   "metadata": {},
   "source": [
    "## TODO\n",
    "1. Read Chapter 8 and Chapter 9\n",
    "1. Work on PA5\n",
    "\n",
    "## Next Lesson\n",
    "1. More about Strings\n",
    "1. String methods"
   ]
  }
 ],
 "metadata": {
  "anaconda-cloud": {},
  "kernelspec": {
   "display_name": "Python 3",
   "language": "python",
   "name": "python3"
  },
  "language_info": {
   "codemirror_mode": {
    "name": "ipython",
    "version": 3
   },
   "file_extension": ".py",
   "mimetype": "text/x-python",
   "name": "python",
   "nbconvert_exporter": "python",
   "pygments_lexer": "ipython3",
   "version": "3.7.1"
  }
 },
 "nbformat": 4,
 "nbformat_minor": 1
}
