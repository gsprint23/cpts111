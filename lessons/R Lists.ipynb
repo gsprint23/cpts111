{
 "cells": [
  {
   "cell_type": "markdown",
   "metadata": {},
   "source": [
    "# [CptS 111 Introduction to Algorithmic Problem Solving](https://github.com/gsprint23/cpts111v)\n",
    "[Washington State University](https://wsu.edu)\n",
    "\n",
    "[Gina Sprint](http://eecs.wsu.edu/~gsprint/)\n",
    "# Lists\n",
    "\n",
    "Learner objectives for this lesson\n",
    "* Understand what a list is\n",
    "* Declare lists\n",
    "* Apply list indexing, slicing, concatenation, and repetition\n",
    "* Apply list iteration techniques"
   ]
  },
  {
   "cell_type": "markdown",
   "metadata": {
    "collapsed": true
   },
   "source": [
    "## Review of Strings\n",
    "Recall a string is a *sequence of characters*. In Python, we can have sequences of items other than characters. For example, we can have sequences of:\n",
    "* Numbers\n",
    "    * Integers\n",
    "    * Floats\n",
    "* Objects\n",
    "    * Strings\n",
    "    * Files\n",
    "    * Turtles\n",
    "    * Our own objects we define ourselves (to be learned later, stay tuned!)"
   ]
  },
  {
   "cell_type": "markdown",
   "metadata": {},
   "source": [
    "## Lists\n",
    "A list is a *sequence of items*. In a string, the items are characters. In a list, they can be any type. Items in a list are also called *elements*.\n",
    "\n",
    "We declare a sequence of items as a list with hard brackets: `[<comma separated list items>]`"
   ]
  },
  {
   "cell_type": "code",
   "execution_count": 3,
   "metadata": {},
   "outputs": [
    {
     "name": "stdout",
     "output_type": "stream",
     "text": [
      "[0, 1, 10, 20]\n",
      "[0.2, 0.4, 0.6, 1.0]\n",
      "[0, 0.0, 1, 1.0, -2]\n",
      "['cat', 'dog', 'bird']\n"
     ]
    }
   ],
   "source": [
    "list_ints = [0, 1, 10, 20]\n",
    "print(list_ints)\n",
    "\n",
    "list_floats = [0.2, 0.4, 0.6, 1.0]\n",
    "print(list_floats)\n",
    "\n",
    "# types can be mixed in a list\n",
    "list_numbers = [0, 0.0, 1, 1.0, -2]\n",
    "print(list_numbers)\n",
    "\n",
    "list_strings = [\"cat\", \"dog\", \"bird\"]\n",
    "print(list_strings)"
   ]
  },
  {
   "cell_type": "markdown",
   "metadata": {},
   "source": [
    "Note: the data types in a list need not all be the same.\n",
    "\n",
    "### List Indexing\n",
    "Just like with strings, list indices are 0-based. We can index into a list to access a list item just like how we indexed into a string to get an individual character:"
   ]
  },
  {
   "cell_type": "code",
   "execution_count": 4,
   "metadata": {},
   "outputs": [
    {
     "name": "stdout",
     "output_type": "stream",
     "text": [
      "0\n"
     ]
    }
   ],
   "source": [
    "print(list_ints[0])"
   ]
  },
  {
   "cell_type": "markdown",
   "metadata": {},
   "source": [
    "### List Length\n",
    "We can also use then `len()` function to determine the number of items in a list:"
   ]
  },
  {
   "cell_type": "code",
   "execution_count": 5,
   "metadata": {},
   "outputs": [
    {
     "name": "stdout",
     "output_type": "stream",
     "text": [
      "3\n",
      "bird\n"
     ]
    }
   ],
   "source": [
    "print(len(list_strings))\n",
    "print(list_strings[len(list_strings) - 1])"
   ]
  },
  {
   "cell_type": "markdown",
   "metadata": {},
   "source": [
    "### The Empty List\n",
    "Just like how we can have an empty string (`\"\"`), a string with no characters, we can have an empty list (`[]`). An empty list has no items."
   ]
  },
  {
   "cell_type": "code",
   "execution_count": 10,
   "metadata": {},
   "outputs": [
    {
     "name": "stdout",
     "output_type": "stream",
     "text": [
      "0\n"
     ]
    }
   ],
   "source": [
    "empty_list = []\n",
    "print(len(empty_list))"
   ]
  },
  {
   "cell_type": "markdown",
   "metadata": {},
   "source": [
    "### Nested Lists\n",
    "We can have lists of lists!"
   ]
  },
  {
   "cell_type": "code",
   "execution_count": 4,
   "metadata": {},
   "outputs": [
    {
     "name": "stdout",
     "output_type": "stream",
     "text": [
      "[[0, 1], [2], [3], [4, 5]]\n"
     ]
    }
   ],
   "source": [
    "nested_list = [[0, 1], [2], [3], [4, 5], []]\n",
    "print(nested_list)"
   ]
  },
  {
   "cell_type": "markdown",
   "metadata": {},
   "source": [
    "Note: the sub-lists can be of unequal lengths.\n",
    "\n",
    "Now, consider the following nested list:\n",
    "\n",
    "`matrix = [[1, 2, 3], [4, 5, 6], [7, 8, 9]]`\n",
    "\n",
    "Logically, `matrix` looks like the following:\n",
    "\n",
    "|Column Index:||||\n",
    "|-|-|-|-|\n",
    "||**0**|**1**|**2**|\n",
    "|**Row Index**||||\n",
    "|**0:**|1|2|3|\n",
    "|**1:**|4|5|6|\n",
    "|**2:**|7|8|9|\n",
    "\n",
    "To access an item in a 2-dimensional nested list, we index into the `<nested list variable>` twice: `<nested list variable>[row_index][column_index]` by row first then column. For example: "
   ]
  },
  {
   "cell_type": "code",
   "execution_count": 6,
   "metadata": {},
   "outputs": [
    {
     "name": "stdout",
     "output_type": "stream",
     "text": [
      "[[1, 2, 3], [4, 5, 6], [7, 8, 9]]\n",
      "1\n",
      "9\n",
      "8\n"
     ]
    }
   ],
   "source": [
    "matrix = [[1, 2, 3], [4, 5, 6], [7, 8, 9]]\n",
    "print(matrix)\n",
    "# the first element in the first list\n",
    "print(matrix[0][0])\n",
    "# the last element in the last list\n",
    "print(matrix[2][2])\n",
    "# the middle element in the last list (8)\n",
    "print(matrix[2][1])"
   ]
  },
  {
   "cell_type": "markdown",
   "metadata": {},
   "source": [
    "### Lists are Mutable\n",
    "Unlike strings, we can change the items in a list:"
   ]
  },
  {
   "cell_type": "code",
   "execution_count": 8,
   "metadata": {},
   "outputs": [
    {
     "name": "stdout",
     "output_type": "stream",
     "text": [
      "['Sloan', 'EME', 'Dana', 'ETRL']\n",
      "['Sloan', 'EME', 'Carpenter', 'ETRL']\n"
     ]
    }
   ],
   "source": [
    "buildings = [\"Sloan\", \"EME\", \"Dana\", \"ETRL\"]\n",
    "print(buildings)\n",
    "\n",
    "# modify the list\n",
    "buildings[2] = \"Carpenter\"\n",
    "print(buildings)"
   ]
  },
  {
   "cell_type": "markdown",
   "metadata": {},
   "source": [
    "Note: We still cannot change a string. Strings are immutable!"
   ]
  },
  {
   "cell_type": "markdown",
   "metadata": {},
   "source": [
    "## Looping Through List Items\n",
    "Just like with strings, we can use the `in` operator or indices to iterate through items in a list:"
   ]
  },
  {
   "cell_type": "code",
   "execution_count": 6,
   "metadata": {},
   "outputs": [
    {
     "name": "stdout",
     "output_type": "stream",
     "text": [
      "twix\n",
      "reeses\n",
      "oreos\n",
      "snickers\n",
      "twix\n",
      "reeses\n",
      "oreos\n",
      "snickers\n",
      "twix\n",
      "reeses\n",
      "oreos\n",
      "snickers\n"
     ]
    }
   ],
   "source": [
    "candies = [\"twix\", \"reeses\", \"oreos\", \"snickers\"]\n",
    "\n",
    "for candy in candies:\n",
    "    print(candy)\n",
    "    \n",
    "i = 0\n",
    "while i < len(candies):\n",
    "    print(candies[i])\n",
    "    i += 1\n",
    "    \n",
    "i = 0\n",
    "for i in range(len(candies)):\n",
    "    print(candies[i])"
   ]
  },
  {
   "cell_type": "markdown",
   "metadata": {},
   "source": [
    "## List Operators\n",
    "### List Concatenation\n",
    "Just like with strings, we can use the concatenation `+` operator to add lists together:"
   ]
  },
  {
   "cell_type": "code",
   "execution_count": 23,
   "metadata": {},
   "outputs": [
    {
     "name": "stdout",
     "output_type": "stream",
     "text": [
      "['twix', 'reeses', 'oreos', 'peach rings']\n",
      "['twix', 'reeses', 'oreos', 'peach rings', 'm&ms', 'starburst']\n"
     ]
    }
   ],
   "source": [
    "candies = [\"twix\", \"reeses\", \"oreos\", \"peach rings\"]\n",
    "\n",
    "print(candies)\n",
    "candies += [\"m&ms\", \"starburst\"]\n",
    "print(candies)"
   ]
  },
  {
   "cell_type": "markdown",
   "metadata": {},
   "source": [
    "### List Repetition\n",
    "Just like with strings, we can repeat items in a list with the repetition `*` operator:"
   ]
  },
  {
   "cell_type": "code",
   "execution_count": 24,
   "metadata": {},
   "outputs": [
    {
     "name": "stdout",
     "output_type": "stream",
     "text": [
      "['twix', 'twix', 'twix', 'twix', 'twix']\n",
      "['twix', 'twix', 'twix', 'twix', 'twix', 'peach rings', 'peach rings', 'peach rings']\n"
     ]
    }
   ],
   "source": [
    "bag_o_candies = 5 * [\"twix\"]\n",
    "print(bag_o_candies)\n",
    "\n",
    "bag_o_candies += 3 * [\"peach rings\"]\n",
    "print(bag_o_candies)"
   ]
  },
  {
   "cell_type": "markdown",
   "metadata": {},
   "source": [
    "### List Slicing\n",
    "Just like with strings, we can use the slice operator `:` with lists:"
   ]
  },
  {
   "cell_type": "code",
   "execution_count": 8,
   "metadata": {},
   "outputs": [
    {
     "name": "stdout",
     "output_type": "stream",
     "text": [
      "['reeses', 'oreos']\n",
      "['twix', 'reeses', 'oreos', 'snickers']\n",
      "False\n",
      "True\n"
     ]
    }
   ],
   "source": [
    "print(candies[1:3])\n",
    "# returns a copy\n",
    "print(candies[:])"
   ]
  },
  {
   "cell_type": "markdown",
   "metadata": {},
   "source": [
    "However, since lists are mutable, we can now change multiple items in a list at a time using slices:"
   ]
  },
  {
   "cell_type": "code",
   "execution_count": 22,
   "metadata": {},
   "outputs": [
    {
     "name": "stdout",
     "output_type": "stream",
     "text": [
      "['twix', 'reeses', 'oreos', 'peach rings']\n",
      "['twix', 'reeses', 'oreos', 'butterfinger', 'heath', 'swedish fish']\n",
      "['carmello', 'airheads', 'oreos', 'butterfinger', 'heath', 'swedish fish']\n"
     ]
    }
   ],
   "source": [
    "candies = [\"twix\", \"reeses\", \"oreos\", \"peach rings\"]\n",
    "print(candies)\n",
    "candies[3:] = [\"butterfinger\", \"heath\", \"swedish fish\"]\n",
    "print(candies)\n",
    "candies[0:2] = [\"carmello\", \"airheads\"]\n",
    "print(candies)"
   ]
  },
  {
   "cell_type": "markdown",
   "metadata": {},
   "source": [
    "## Tuples\n",
    "Tuples are immutable lists. They are declared as a comma separated list, with or without parentheses:"
   ]
  },
  {
   "cell_type": "code",
   "execution_count": 2,
   "metadata": {},
   "outputs": [
    {
     "name": "stdout",
     "output_type": "stream",
     "text": [
      "('x', 'y', 'z')\n",
      "<class 'tuple'>\n",
      "(1,)\n",
      "a\n",
      "<class 'str'>\n",
      "()\n",
      "<class 'tuple'>\n"
     ]
    }
   ],
   "source": [
    "my_tuple = \"x\", \"y\", \"z\"\n",
    "print(my_tuple)\n",
    "print(type(my_tuple))\n",
    "\n",
    "# need a comma after a single element initialization\n",
    "my_tuple2 = (1, )\n",
    "print(my_tuple2)\n",
    "\n",
    "# need a comma after a single element initialization\n",
    "not_a_tuple = (\"a\")\n",
    "print(not_a_tuple)\n",
    "print(type(not_a_tuple))\n",
    "\n",
    "# creating an empty tuple\n",
    "empty_tuple = tuple()\n",
    "print(empty_tuple)\n",
    "print(type(empty_tuple))"
   ]
  },
  {
   "cell_type": "markdown",
   "metadata": {},
   "source": [
    "Tuple indexing and slicing works the same as for lists:"
   ]
  },
  {
   "cell_type": "code",
   "execution_count": 3,
   "metadata": {},
   "outputs": [
    {
     "name": "stdout",
     "output_type": "stream",
     "text": [
      "y\n",
      "('x', 'y')\n"
     ]
    }
   ],
   "source": [
    "my_tuple = (\"x\", \"y\", \"z\")\n",
    "print(my_tuple[1])\n",
    "print(my_tuple[0:2])"
   ]
  },
  {
   "cell_type": "markdown",
   "metadata": {},
   "source": [
    "HOWEVER, tuples are immutable, so you cannot modify them. The follow code demonstrates the immutability of tuples:"
   ]
  },
  {
   "cell_type": "code",
   "execution_count": 4,
   "metadata": {},
   "outputs": [
    {
     "ename": "TypeError",
     "evalue": "'tuple' object does not support item assignment",
     "output_type": "error",
     "traceback": [
      "\u001b[1;31m---------------------------------------------------------------------------\u001b[0m",
      "\u001b[1;31mTypeError\u001b[0m                                 Traceback (most recent call last)",
      "\u001b[1;32m<ipython-input-4-dfbe487f882d>\u001b[0m in \u001b[0;36m<module>\u001b[1;34m()\u001b[0m\n\u001b[0;32m      1\u001b[0m \u001b[0mmy_tuple\u001b[0m \u001b[1;33m=\u001b[0m \u001b[1;33m(\u001b[0m\u001b[1;34m\"x\"\u001b[0m\u001b[1;33m,\u001b[0m \u001b[1;34m\"y\"\u001b[0m\u001b[1;33m,\u001b[0m \u001b[1;34m\"z\"\u001b[0m\u001b[1;33m)\u001b[0m\u001b[1;33m\u001b[0m\u001b[0m\n\u001b[0;32m      2\u001b[0m \u001b[1;31m# crashes! tuples are immutable, you cannot change them\u001b[0m\u001b[1;33m\u001b[0m\u001b[1;33m\u001b[0m\u001b[0m\n\u001b[1;32m----> 3\u001b[1;33m \u001b[0mmy_tuple\u001b[0m\u001b[1;33m[\u001b[0m\u001b[1;36m2\u001b[0m\u001b[1;33m]\u001b[0m \u001b[1;33m=\u001b[0m \u001b[1;34m\"a\"\u001b[0m\u001b[1;33m\u001b[0m\u001b[0m\n\u001b[0m",
      "\u001b[1;31mTypeError\u001b[0m: 'tuple' object does not support item assignment"
     ]
    }
   ],
   "source": [
    "my_tuple = (\"x\", \"y\", \"z\")\n",
    "# crashes! tuples are immutable, you cannot change them\n",
    "my_tuple[2] = \"a\""
   ]
  },
  {
   "cell_type": "markdown",
   "metadata": {},
   "source": [
    "## TODO\n",
    "1. Take a look at PA6, it is posted!\n",
    "1. Read Chapter 11 in zyBooks and Chapter 10 in the optional textbook.\n",
    "\n",
    "## Next Lesson\n",
    "1. List methods\n",
    "1. Deleting items in a list\n",
    "1. Other list goodies!"
   ]
  }
 ],
 "metadata": {
  "anaconda-cloud": {},
  "kernelspec": {
   "display_name": "Python 3",
   "language": "python",
   "name": "python3"
  },
  "language_info": {
   "codemirror_mode": {
    "name": "ipython",
    "version": 3
   },
   "file_extension": ".py",
   "mimetype": "text/x-python",
   "name": "python",
   "nbconvert_exporter": "python",
   "pygments_lexer": "ipython3",
   "version": "3.7.1"
  }
 },
 "nbformat": 4,
 "nbformat_minor": 1
}
