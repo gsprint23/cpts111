{
 "cells": [
  {
   "cell_type": "markdown",
   "metadata": {},
   "source": [
    "# [CptS 111 Introduction to Algorithmic Problem Solving](https://github.com/gsprint23/cpts111)\n",
    "[Washington State University](https://wsu.edu)\n",
    "\n",
    "[Gina Sprint](http://eecs.wsu.edu/~gsprint/)\n",
    "# I If Statements\n",
    "\n",
    "Learner objectives for this lesson\n",
    "* Understand what a Boolean condition is\n",
    "* Apply relational operators (<, >, <=, >=, ==, !=)\n",
    "* Apply logical operators (and, or, not)\n",
    "* Apply Boolean types\n",
    "* Define and call predicate functions\n",
    "* Understand `if` statements"
   ]
  },
  {
   "cell_type": "markdown",
   "metadata": {
    "collapsed": true
   },
   "source": [
    "Algorithms are composed of three different kinds of statements:\n",
    "1. Sequence: the ability to execute a series of instructions, one after the other.\n",
    "1. Conditional: the ability to execute an instruction contingent upon some condition.\n",
    "1. Iteration: the ability to execute one or more instructions repeatedly.\n",
    "\n",
    "If statements are conditionals: the ability to **execute some code IF some condition is true**. \n",
    "\n",
    "## Boolean Conditions\n",
    "Conditional statements rely on a Boolean condition, which evaluates to either true or false\n",
    "In Python, the true and false values are actually represented by the reserved keywords `True` and `False`. Numerical values also have a \"True\" and \"False\" meaning:\n",
    "* False: 0\n",
    "* True: any number except 0 (usually 1)\n",
    "\n",
    "### Relational Operators\n",
    "Relational operators are used to build Boolean conditions:\n",
    "* < (less than)\n",
    "* \\> (greater than)\n",
    "* <= (less than or equal to)\n",
    "* \\>= (greater than or equal to)\n",
    "* == (equal to)\n",
    "* != (not equal to)"
   ]
  },
  {
   "cell_type": "code",
   "execution_count": 2,
   "metadata": {
    "scrolled": true
   },
   "outputs": [
    {
     "name": "stdout",
     "output_type": "stream",
     "text": [
      "False\n",
      "False\n",
      "True\n",
      "True\n",
      "100\n",
      "False\n",
      "True\n",
      "True\n"
     ]
    }
   ],
   "source": [
    "x = 3\n",
    "y = 4\n",
    "max_val = 100\n",
    "min_val = 0\n",
    "\n",
    "print(x <= 0)\n",
    "print(x == y)\n",
    "print(max_val >= min_val)\n",
    "print(max_val != False)\n",
    "print(max_val) # since this is 100, which is not 0, this is essential \"True\"\n",
    "print(min_val != 0)\n",
    "print(max_val == 99 + 1)\n",
    "print(min_val - 50 < 0)"
   ]
  },
  {
   "cell_type": "markdown",
   "metadata": {},
   "source": [
    "### Logical Operators\n",
    "We can combine relational operators with logical operators to construct general Boolean expressions in Python:\n",
    "* `and`\n",
    "* `or`\n",
    "* `not`\n",
    "\n",
    "Truth table\n",
    "\n",
    "|P|Q|not P|P and Q|P or Q|\n",
    "|-|-|-|-|-|\n",
    "|0|0|1|0|0|\n",
    "|0|1|1|0|1|\n",
    "|1|0|0|0|1|\n",
    "|1|1|0|1|1|\n"
   ]
  },
  {
   "cell_type": "code",
   "execution_count": 3,
   "metadata": {},
   "outputs": [
    {
     "name": "stdout",
     "output_type": "stream",
     "text": [
      "True\n",
      "True\n"
     ]
    }
   ],
   "source": [
    "temp = 50\n",
    "max_temp = 90\n",
    "precip = 2.0\n",
    "num_votes = 20\n",
    "votes_needed = 20\n",
    "elected = 0\n",
    "\n",
    "print((temp < max_temp) and (precip > 0))\n",
    "print((num_votes >= votes_needed or (not elected)))"
   ]
  },
  {
   "cell_type": "markdown",
   "metadata": {},
   "source": [
    "### Operator Precedence\n",
    "Just like numeric operators (+, -, /, //, %, \\*), logical operators have precedence rules that determine order of evaluation\n",
    "From highest to lowest, the precedences are as follows: \n",
    "[Most are left-to-right; but not exponentiation and assignment]\n",
    "\n",
    "|Operator|Precedence|\n",
    "|--------------|---------|\n",
    "|() (parentheses)|(highest)|\n",
    "|function calls||\n",
    "|**||\n",
    "|+, - (unary operators)||\n",
    "|\\*, /, //, %||\n",
    "|+, -||\n",
    "|**<, <=, >=, >**, **==, !=**||\n",
    "|**not**||\n",
    "|**and**||\n",
    "|**or**||\n",
    "|= (assignment)|(lowest)|\n",
    "\n",
    "An example: "
   ]
  },
  {
   "cell_type": "code",
   "execution_count": 4,
   "metadata": {},
   "outputs": [
    {
     "name": "stdout",
     "output_type": "stream",
     "text": [
      "True\n"
     ]
    }
   ],
   "source": [
    "flag = 0\n",
    "y = 4.0\n",
    "z = 2.0\n",
    "x = 3.0\n",
    "\n",
    "print(not flag or (y + z >= x - z))"
   ]
  },
  {
   "cell_type": "markdown",
   "metadata": {},
   "source": [
    "### Short Circuit Evaluation\n",
    "Notice that, in case of `and`, if the first part of expression is false, the entire expression must be false\n",
    "* Example: `(5 < 3) and (4 > 3)`\n",
    "\n",
    "Likewise, in case of `or`, if the first part of expression is true, the entire expression must be true\n",
    "* Example: `(4 > 2) or (2 > 3)`\n",
    "\n",
    "In these two cases, Python short-circuits evaluation: Evaluation stops after first part of expression is evaluated\n",
    "\n",
    "### Complement (`not`)\n",
    "The complement of a condition can be obtained by applying the `not` operator\n",
    "* Example: The complement of `temp > 32` is `not (temp > 32)`, which can also be written as `temp <= 32`\n",
    "* Example: The complement of `temp == 32` is `not (temp == 32)`, which can also be written as `(temp != 32)`\n",
    "\n",
    "Apply **DeMorgan's Laws** to complement compound logical expressions:\n",
    "* Complement of `X and Y` is `not X or not Y`\n",
    "* Complement of `X or Y` is `not X and not Y`\n",
    "\n",
    "Example: `(temp > 32) and (num_clouds == 0 or num_clouds == 1)` is true when the temperature is above freezing and the number of clouds in the sky is 0 or 1. By applying DeMorgan's Laws, the complement of this statement is:\n",
    "`(temp <= 32) or (num_clouds != 0 and num_clouds != 1)` which is true when the temperature is at or below freezing, and there is more than 1 cloud in the sky.\n"
   ]
  },
  {
   "cell_type": "markdown",
   "metadata": {},
   "source": [
    "## Logical Assignment\n",
    "In addition to integers, floats, and strings, there is a data type called `Boolean`. We can store `True` or `False` in a Boolean type:"
   ]
  },
  {
   "cell_type": "code",
   "execution_count": 2,
   "metadata": {},
   "outputs": [
    {
     "name": "stdout",
     "output_type": "stream",
     "text": [
      "True 1\n"
     ]
    }
   ],
   "source": [
    "boolean_condition = True\n",
    "print(\"%s %d\" %(boolean_condition, boolean_condition))"
   ]
  },
  {
   "cell_type": "markdown",
   "metadata": {},
   "source": [
    "## `if` Statements\n",
    "Algorithms are composed of three different kinds of statements:\n",
    "1. Sequence: the ability to execute a series of instructions, one after the other.\n",
    "1. Conditional: the ability to execute an instruction contingent upon some condition.\n",
    "1. Iteration: the ability to execute one or more instructions repeatedly.\n",
    "\n",
    "If statements are conditionals: the ability to **execute some code IF some condition is true**. \n",
    " \n",
    "The if statement supports conditional execution in Python:\n",
    "```\n",
    "if <test>:\n",
    "    <body>\n",
    "```\n",
    "\n",
    "`<test>` must be an expression that can be evaluated to either `True` or `False` (non-zero or zero), i.e. `<test>` is a **Boolean condition**\n",
    "`<body>` is one or more Python statements that are **indented** 4 spaces (or one tab, depending on your text editor)"
   ]
  },
  {
   "cell_type": "code",
   "execution_count": 1,
   "metadata": {},
   "outputs": [
    {
     "name": "stdout",
     "output_type": "stream",
     "text": [
      "x is 5!!\n"
     ]
    }
   ],
   "source": [
    "x = 5\n",
    "\n",
    "if x == 5:\n",
    "    print(\"x is 5!!\")\n",
    "    \n",
    "if x == 7:\n",
    "    print(\"x is 7!!\")"
   ]
  },
  {
   "cell_type": "markdown",
   "metadata": {},
   "source": [
    "Python also defines an `if`-`else` statement:\n",
    "```\n",
    "if <test>:\n",
    "    <body-if-test-is-true>\n",
    "else:\n",
    "    <body-if-test-is-false>\n",
    "```\n",
    "\n",
    "**Only one of the two `<body>` blocks can be executed each time through this code**. In other words, they are \"mutually exclusive\".\n",
    "\n",
    "Note: the `else` has no `<test>` condition. The `else` body executes when the complement of `<test>` is True (i.e. `<test>` is False)."
   ]
  },
  {
   "cell_type": "code",
   "execution_count": 2,
   "metadata": {},
   "outputs": [
    {
     "name": "stdout",
     "output_type": "stream",
     "text": [
      "Brrrrr...\n"
     ]
    }
   ],
   "source": [
    "temperature = 10\n",
    "\n",
    "if temperature > 32:\n",
    "    print(\"It is warm out!\")\n",
    "else: # temperature <= 32\n",
    "    print(\"Brrrrr...\")"
   ]
  },
  {
   "cell_type": "code",
   "execution_count": 3,
   "metadata": {},
   "outputs": [
    {
     "name": "stdout",
     "output_type": "stream",
     "text": [
      "X: -1\n"
     ]
    }
   ],
   "source": [
    "x = y = z = 0\n",
    "y = y + 4\n",
    "z = z * x\n",
    "\n",
    "if z > y:  \n",
    "    print(\"Z: %d\" %(z + 1))\n",
    "else: # z <= y\n",
    "    print(\"X: %d\" %(x - 1))"
   ]
  },
  {
   "cell_type": "markdown",
   "metadata": {},
   "source": [
    "## Predicate Functions\n",
    "We can also write functions that return Booleans. Such a function is called a *predicate function*. For example, consider the following function that accepts a number as an argument and returns true or false based on whether or not the value is even:"
   ]
  },
  {
   "cell_type": "code",
   "execution_count": 14,
   "metadata": {},
   "outputs": [
    {
     "name": "stdout",
     "output_type": "stream",
     "text": [
      "False\n"
     ]
    }
   ],
   "source": [
    "def is_even(x):\n",
    "    '''\n",
    "    \n",
    "    '''\n",
    "    return x % 2 == 0\n",
    "\n",
    "print(is_even(7))"
   ]
  },
  {
   "cell_type": "markdown",
   "metadata": {},
   "source": [
    "Let's rewrite `is_even()` to use `if-else` statements:"
   ]
  },
  {
   "cell_type": "code",
   "execution_count": 4,
   "metadata": {},
   "outputs": [
    {
     "name": "stdout",
     "output_type": "stream",
     "text": [
      "False\n",
      "False\n",
      "True\n",
      "True\n"
     ]
    }
   ],
   "source": [
    "def is_even(x):\n",
    "    '''\n",
    "    \n",
    "    '''\n",
    "    flag = False\n",
    "    if x % 2 == 0:\n",
    "        # only sets flag to True when x is even\n",
    "        flag = True\n",
    "    return flag\n",
    "\n",
    "def is_even_revised(x):\n",
    "    '''\n",
    "    This function does not use a flag, instead it has multiple return statements\n",
    "    '''\n",
    "    if x % 2 == 0:\n",
    "        return True\n",
    "    else:\n",
    "        return False\n",
    "    \n",
    "print(is_even(5))\n",
    "print(is_even_revised(5))\n",
    "print(is_even(8))\n",
    "print(is_even_revised(8))"
   ]
  },
  {
   "cell_type": "markdown",
   "metadata": {},
   "source": [
    "## Common Mistakes with `if` Statements\n",
    "* Using = (assignment) instead of == (logical equality) \n",
    "* Using if-else when if-if should be used\n",
    "    * Remember else does not have an explicit condition associated with it\n",
    "* Using logical `and` instead of logical `or` and vice versa"
   ]
  },
  {
   "cell_type": "markdown",
   "metadata": {},
   "source": [
    "## TODO\n",
    "1. Finish PA2!\n",
    "1. Read about conditionals in How to Think Like a Computer Scientist.\n",
    "## Next Lesson\n",
    "1. Multiple alternative `if` statements and nested `if` statements."
   ]
  }
 ],
 "metadata": {
  "anaconda-cloud": {},
  "kernelspec": {
   "display_name": "Python 3",
   "language": "python",
   "name": "python3"
  },
  "language_info": {
   "codemirror_mode": {
    "name": "ipython",
    "version": 3
   },
   "file_extension": ".py",
   "mimetype": "text/x-python",
   "name": "python",
   "nbconvert_exporter": "python",
   "pygments_lexer": "ipython3",
   "version": "3.7.1"
  }
 },
 "nbformat": 4,
 "nbformat_minor": 1
}
