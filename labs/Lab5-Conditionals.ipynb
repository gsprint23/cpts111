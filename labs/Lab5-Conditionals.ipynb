{
 "cells": [
  {
   "cell_type": "markdown",
   "metadata": {},
   "source": [
    "# [CptS 111 Introduction to Algorithmic Problem Solving](http://piazza.com/wsu/fall2016/cpts111/home)\n",
    "[Washington State University](https://wsu.edu)\n",
    "\n",
    "[Gina Sprint](http://eecs.wsu.edu/~gsprint/)\n",
    "## Lab5 Conditionals (10 pts)\n",
    "\n",
    "### Learner Objectives\n",
    "At the conclusion of this lab, participants should be able to:\n",
    "* Understand Boolean conditions\n",
    "* Apply `if-else` statements\n",
    "\n",
    "### Prerequisites\n",
    "Before starting this lab, participants should be able to:\n",
    "* Call/define functions\n",
    "* Define functions\n",
    "* Pass arguments into functions\n",
    "* Return values from functions\n",
    "\n",
    "### Lab Format\n",
    "#### Task 0 and Pair Task\n",
    "Task 0 will be completed as a group with step-by-step guidance from your TA. After Task 0, your TA will group you into pairs and assign you a task (one of Tasks 1-10).\n",
    "\n",
    "#### Additional Tasks\n",
    "Once you complete Task 0 and your assigned task with a partner (pair task), you are to continue solving additional lab tasks until the end of lab. You are encouraged to complete *all* of the lab tasks. Practice, practice, practice! \n",
    "\n",
    "#### Completing a Task\n",
    "When you complete a task, show your TA your code and output. Also, help others with this task either in person or by answering questions in your [Piazza](http://piazza.com/wsu/spring2017/cpts111/home) lab section group. Helping your peers benefits both you and your classmates, as Albert Einstein said, \"You do not really understand something unless you can explain it to your grandmother.\" :)\n",
    "\n",
    "#### Lab Dismissal\n",
    "You are dismissed from lab when your TA dismisses you, or after 3 hours, whichever comes first. Your TA will dismiss you once you have demonstrated mastery of the material (completed a certain number of tasks). Should you demonstrate mastery before the end of lab, you are encouraged to stay and perform a combination of the following:\n",
    "* Help your peers\n",
    "* Work on additional tasks\n",
    "* Work on the current programming assignment\n",
    "\n",
    "Take advantage of your TA and your peers as resources and make the most of lab time!\n"
   ]
  },
  {
   "cell_type": "markdown",
   "metadata": {},
   "source": [
    "## Task 0\n",
    "For this task, we are going to add functionality to our code from Lab3 Task0. Lab3 Task0 stated the following:\n",
    "\n",
    ">Write a program to compute the BMI (body mass index) for a person given their weight (in pounds) and height (in inches). The BMI formula is as follows:\n",
    "$$BMI = \\frac{weight}{height^{2}} \\times 703$$\n",
    "\n",
    ">Define *at least* the following functions in your solution:\n",
    "1. `get_user_weight()`: Prompts the user to enter their weight in pounds and returns the weight.\n",
    "1. `get_user_height()`: Prompts the user to enter their height in *feet and inches*. Convert the feet and inches to total inches and return this value.\n",
    "1. `compute_BMI()`: Accepts two arguments, `weight_pounds` and `height_inches` and returns the resulting BMI.\n",
    "1. `display_BMI()`: Accepts three arguments, `weight_pounds`, `height_inches`, and `bmi` and displays the results.\n",
    "\n",
    ">Check your computation is correct by comparing it to an [online BMI calculator](http://www.bmi-calculator.net/).\n",
    "\n",
    ">Example output:\n",
    "\n",
    ">```\n",
    "Please enter the weight in pounds: 150\n",
    "Please enter the height in feet: 5\n",
    "Please enter the remaining height in inches: 0\n",
    "The BMI for a person with weight 150.00 pounds and height 60.00 inches is: 29.29\n",
    "```\n",
    "\n",
    "**New functionality to add:**\n",
    "\n",
    "Define and call a new function, `display_BMI_classification()`, that accepts a single argument, `bmi`, and displays a BMI classification based on the following table (from [online BMI calculator](http://www.bmi-calculator.net/)):\n",
    "\n",
    "|BMI|Classification|\n",
    "|-|-|\n",
    "|18.5 or less|\tUnderweight|\n",
    "|18.5 to 24.99|\tNormal Weight|\n",
    "|25 to 29.99|\tOverweight|\n",
    "|30 to 34.99|\tObesity (Class 1)|\n",
    "|35 to 39.99|\tObesity (Class 2)|\n",
    "|40 or greater|\tMorbid Obesity|"
   ]
  },
  {
   "cell_type": "markdown",
   "metadata": {},
   "source": [
    "## Task 1\n",
    "This project is adapted from problem 7.1 of Zelle, 2010. The problem states the following:\n",
    "\n",
    "Many companies pay time-and-a-half for any hours worked above 40 in a given week. Write a program that prompts the user to enter the number of hours worked for a week and the hourly rate. Calculate and display the total wages for the week.\n",
    "\n",
    "Define functions where appropriate! \n",
    "\n",
    "Example output:\n",
    "\n",
    "```\n",
    "Please enter the number of hours worked for the week: 45\n",
    "Please enter the hourly rate: $10.00\n",
    "Wages for the week: $475.00\n",
    "```"
   ]
  },
  {
   "cell_type": "markdown",
   "metadata": {
    "collapsed": true
   },
   "source": [
    "## Task 2\n",
    "Write a program to calculate and display a professional baseball player's bonus at the end of a season. The bonus is calculated as follows:\n",
    "1. All-Star Game appearance = \\$25,000\n",
    "2. Regular season MVP = \\$75,000\n",
    "3. World Series MVP = \\$100,000\n",
    "4. Gold Glove award = \\$50,000\n",
    "5. Silver Slugger award = \\$35,000\n",
    "6. Home run champ = \\$25,000\n",
    "7. Batting average champ = \\$25,000\n",
    " \n",
    "Prompt the user with a question related to each of the above categories. If the response is \"y\" for yes, add the bonus to the total, otherwise if the response is \"n\" move to the next question.\n",
    "\n",
    "Define functions where appropriate! "
   ]
  },
  {
   "cell_type": "markdown",
   "metadata": {},
   "source": [
    "## Task 3\n",
    "This project is adapted from problem 7.8 of Zelle, 2010. The problem states the following:\n",
    "\n",
    "A person is eligible to be a US senator if they are at least 30 years old and have been a US citizen for at least 9 years. To be a US representative, these numbers are 25 and 7, respectively. \n",
    "\n",
    "Write a program that prompts the user for their age (in years) and the number of years of citizenship. Display the user's eligibility for the Senate and the House.\n",
    "\n",
    "Define functions where appropriate! "
   ]
  },
  {
   "cell_type": "markdown",
   "metadata": {},
   "source": [
    "## Task 4\n",
    "This project is adapted from chapter 4 (problem 1) Hanly & Koffman. The problem states the following:\n",
    "\n",
    "Keith's Sheet Music needs a program to implement its music teacher's discount policy. The program is to prompt the user to enter the purchase total and to indicate whether the purchaser is a teacher. \n",
    "\n",
    "Music teachers receive a 10% discount on their sheet music purchases unless the purchase total is $100 or higher. In that case, the discount is 12%. The discount calculation occurs before addition of the 5% sales tax. \n",
    "\n",
    "Define functions where appropriate! \n",
    "\n",
    "Here are two example runs: one for a teacher and one for a non-teacher. \n",
    "\n",
    "Note: to display a % sign, place two % signs in the format string: print(\"%d%%\", sales_tax)\n",
    "\n",
    "```\n",
    "Please enter the total purchase price: $122.00\n",
    "Are you a teacher? \"y\" for yes, \"n\" for no: y\n",
    "Teacher's discount (12%): $14.64\n",
    "Discounted total: $107.36\n",
    "Sales tax (5%): $5.37\n",
    "Total: $112.73\n",
    "\n",
    "Please enter the total purchase price: $24.90\n",
    "Are you a teacher? \"y\" for yes, \"n\" for no: n\n",
    "Sales tax (5%): $1.25\n",
    "Total: $26.15\n",
    "```"
   ]
  },
  {
   "cell_type": "markdown",
   "metadata": {},
   "source": [
    "## Task 5\n",
    "This project is adapted from problem 7.6 of Zelle, 2010. The problem states the following:\n",
    "\n",
    "The speeding ticket fine policy in Podunksville is \\$50 plus \\$5 for each mph over the limit plus a penalty of \\$200 for any speed over 90 mph. Write a program that accepts a speed limit and a clocked speed and either displays a message indicating the speed was legal or the amount of the fine if the speed is illegal.\n",
    "\n",
    "Define functions where appropriate! "
   ]
  },
  {
   "cell_type": "markdown",
   "metadata": {},
   "source": [
    "## Task 6\n",
    "\n",
    "Write a Calorie Calculator program to determine what a person's caloric intake should be for a 24 hour span. The program must make a decision about caloric intake to maintain current body weight based on gender, age, weight, and height, and activity level. Read age, gender, weight, and height values from the user. The program must first compute the Basal Metabolic Rate (BMR). The BMR formula is the following:\n",
    "\n",
    "Women: `BMR = 655 + (4.35 * weight in pounds) + (4.7 * height in inches) - (4.7 * age in years)`\n",
    "\n",
    "Men: `BMR = 66 + (6.23 * weight in pounds) + (12.7 * height in inches) - (6.8 * age in years)`\n",
    " \n",
    "To determine total daily calorie needs, your program must apply the following guidelines:\n",
    "1. Sedentary (little to no exercise): Calories = BMR * 1.2\n",
    "2. Low activity: Calories = BMR * 1.375\n",
    "3. Moderate activity: Calories = BMR * 1.55\n",
    "4. High activity: Calories = BMR * 1.725\n",
    "5. Extra activity: Calories = BMR * 1.9\n",
    "\n",
    "Define functions where appropriate! \n",
    "\n",
    "You can check your work with [this online BMR calculator](https://www.muscleandstrength.com/tools/bmr-calculator)"
   ]
  },
  {
   "cell_type": "markdown",
   "metadata": {},
   "source": [
    "## Task 7\n",
    "Write a program that completes the following requirements:\n",
    "\n",
    "1. Reads in four quarterly dollar salary payments from the user\n",
    "1. Sums the quarterly payments\n",
    "1. Determines the tax bracket\n",
    "    * `< $15,000` = low income\n",
    "    * `$15,000 - $200,000` = medium income\n",
    "    * `> $200,000` = high income\n",
    "1. Displays the tax bracket\n",
    " \n",
    "Define functions where appropriate! "
   ]
  },
  {
   "cell_type": "markdown",
   "metadata": {},
   "source": [
    "## Task 8\n",
    "Recall from the CptS 111 Syllabus the grading scale for this course:\n",
    "\n",
    "|Percentage|Grade|\n",
    "|----------|-----|\n",
    "|94-100%   |A|\n",
    "|90-93.99% |A-|\n",
    "|86-89.99% |B+|\n",
    "|82-85.99% |B|\n",
    "|78-81.99% |B-|\n",
    "|74-77.99% |C+|\n",
    "|70-73.99% |C|\n",
    "|66-69.99% |C-|\n",
    "|62-65.99% |D+|\n",
    "|58-61.99% |D|\n",
    "|0-57.99%  |F|\n",
    "\n",
    "Write a program that prompts the user to enter a final percentage score in CptS 111 and displays the corresponding letter grade.\n",
    "\n",
    "Define functions where appropriate! "
   ]
  },
  {
   "cell_type": "markdown",
   "metadata": {},
   "source": [
    "## Task 9\n",
    "This project is adapted from problem 7.7 of Zelle, 2010. The problem states the following:\n",
    "\n",
    "A year is a leap year if it is divisible by four, except that any year divisible by 100 is a leap year only if it is divisible by 400. For example, 1800 and 1900 are *not* leap years, while 1600 and 2000 *are*. \n",
    "\n",
    "Write a program that prompts the user to enter a year and displays whether the entered year is a leap year or not.\n",
    "\n",
    "Define functions where appropriate! "
   ]
  },
  {
   "cell_type": "markdown",
   "metadata": {},
   "source": [
    "## Task 10\n",
    "This project is adapted from problem 7.7 of Zelle, 2010. The problem states the following:\n",
    "\n",
    "A babysitter charges \\$2.50 an hour until 9PM when the rate drops to \\$1.75 an hour (the children are in bed). Write a program that prompts the user for a starting hour and ending hour. The program calculates the total babysitting bill.\n",
    "\n",
    "Define functions where appropriate! \n",
    "\n",
    "Note: You may assume that the starting and ending times are in a single 24-hour period.\n",
    "\n",
    "Hint: Solve this first requiring the user enter in 24-hour time. Then, try and resolve requiring the user to enter in 12-hour time and \"am\" or \"pm\".\n",
    "\n",
    "Example output:\n",
    "\n",
    "```\n",
    "Please enter the starting hour: 11\n",
    "Please enter \"am\" or \"pm\": am\n",
    "Please enter the ending hour: 10\n",
    "Please enter \"am\" or \"pm\": pm\n",
    "Total babysitting bill: $26.75\n",
    "```"
   ]
  }
 ],
 "metadata": {
  "anaconda-cloud": {},
  "kernelspec": {
   "display_name": "Python 3",
   "language": "python",
   "name": "python3"
  },
  "language_info": {
   "codemirror_mode": {
    "name": "ipython",
    "version": 3
   },
   "file_extension": ".py",
   "mimetype": "text/x-python",
   "name": "python",
   "nbconvert_exporter": "python",
   "pygments_lexer": "ipython3",
   "version": "3.7.1"
  }
 },
 "nbformat": 4,
 "nbformat_minor": 1
}
