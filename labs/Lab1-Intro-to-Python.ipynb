{
 "cells": [
  {
   "cell_type": "markdown",
   "metadata": {},
   "source": [
    "# [CptS 111 Introduction to Algorithmic Problem Solving](http://piazza.com/wsu/spring2017/cpts111/home)\n",
    "[Washington State University](https://wsu.edu)\n",
    "\n",
    "[Gina Sprint](http://eecs.wsu.edu/~gsprint/)\n",
    "## Lab1 Introduction to Python (10 pts)\n",
    "\n",
    "### Learner Objectives\n",
    "At the conclusion of this lab, participants should be able to:\n",
    "* Use the Spyder IDE\n",
    "* Run Python interactively via the IPython shell\n",
    "* Save and run Python programs (scripts)\n",
    "* Compose Python programs that make use of\n",
    "    * Data types\n",
    "    * Variables\n",
    "    * Basic arithmetic\n",
    "\n",
    "### Prerequisites\n",
    "Before starting this lab, participants should be able to:\n",
    "* Install Anaconda 3.5 Python distribution\n",
    "* Access Spyder IDE\n",
    "* Apply basic problem solving strategies\n",
    "* Summarize key Python language elements, including\n",
    "    * Standard and user-defined identifiers\n",
    "    * Python reserved keywords\n",
    "    * Comments\n",
    "    * Operators\n",
    "    \n",
    "### Lab Format\n",
    "#### Task 0 and Pair Task\n",
    "Task 0 will be completed as a group with step-by-step guidance from your TA. After Task 0, your TA will group you into pairs and assign you a task (one of Tasks 1-10).\n",
    "\n",
    "#### Additional Tasks\n",
    "Once you complete Task 0 and your assigned task with a partner (pair task), you are to continue solving additional lab tasks until the end of lab. You are encouraged to complete *all* of the lab tasks. Practice, practice, practice! \n",
    "\n",
    "#### Completing a Task\n",
    "When you complete a task, show your TA your code and output. Also, help others with this task either in person or by answering questions in your [Piazza](http://piazza.com/wsu/spring2017/cpts111/home) lab section group. Helping your peers benefits both you and your classmates, as Albert Einstein said, \"You do not really understand something unless you can explain it to your grandmother.\" :)\n",
    "\n",
    "#### Lab Dismissal\n",
    "You are dismissed from lab when your TA dismisses you, or after 3 hours, whichever comes first. Your TA will dismiss you once you have demonstrated mastery of the material. Should you demonstrate mastery before the end of lab, you are encouraged to stay and perform a combination of the following:\n",
    "* Help your peers\n",
    "* Work on additional tasks\n",
    "* Work on the current programming assignment\n",
    "\n",
    "Take advantage of your TA and your peers as resources and make the most of lab time!"
   ]
  },
  {
   "cell_type": "markdown",
   "metadata": {},
   "source": [
    "## Task 0\n",
    "Develop a small hello world console program utilizing the Spyder integrated development environment (IDE). Console programs run in a command window, and have textual input and output.\n",
    "\n",
    "Perform the following steps to write the hello world program in *interactive* mode and again in *scripting* mode:\n",
    "\n",
    "Open Spyder. Navigate to the \"IPython console\" on the right bottom panel of Spyder:\n",
    "![](https://raw.githubusercontent.com/gsprint23/cpts111/master/labs/figures/spyder_IPython.png)\n",
    "\n",
    "### Interactive Python\n",
    "1. Type `print(\"Hello CptS 111!\")` and press enter. You should see \"Hello CptS 111!\" echoed back out on the console. Congrats! You just wrote and executed your first line of Python code. We just executed this code in \"interactive\" mode.\n",
    "![](https://raw.githubusercontent.com/gsprint23/cpts111/master/labs/figures/hello_IPython.png)\n",
    "\n",
    "1. Let's explore some features of interactive Python. Type the following commands into the IPython shell and observe the output:\n",
    "    1. `help(print)`: You can type the name of any identifier between the parens of the `help()` command to learn more about the Python construct.\n",
    "    1. `pwd()`: Tells you the \"present working directory\" where Python is executing\n",
    "    1. `x = 5`: Declare a variable named `x` and assign it the value 5\n",
    "    1. `type(x)`: Returns the data type of the value stored in variable `x`. What is it?\n",
    "    1. `course_name = \"CptS 111\"`: Declare a variable named `course_name` and assigns it the string \"CptS 111\"\n",
    "    1. `type(course_name)`\n",
    "    1. `course_name.<tab>`: Type the variable name `course_name` and a dot. Then press tab. IPython will provide you with all of the available information and behaviors associated with this variable. We will learn much more about this information later in the course.\n",
    "    1. `course_name.upper()`: What does `upper()` do?\n",
    "    1. `dir()`: Lists the known objects (variables) in Python. Do you see your variable names?\n",
    "    \n",
    "\n",
    "### Scripting Python\n",
    "1. Navigate to the text \"Editor\" in the left panel of Spyder:\n",
    "![](https://raw.githubusercontent.com/gsprint23/cpts111/master/labs/figures/spyder_editor.png)\n",
    "Open a new file if necessary.\n",
    "1. Type `print(\"Hello Cpts 111!\")`\n",
    "1. Navigate to the menu bar. Select File -> Save As and select a folder to save your CptS 111 lab files in. I recommend a directory structure such as CptS111\\Labs\\Lab1. Name this file hello_world.py and save it in your Lab1 folder.\n",
    "1. Change the default run mode. Navigate to the menu bar. Select Tools -> Preferences and select Run in the left panel. In the Console radio button box, select Execute in a new dedicated Python console. Select okay.\n",
    "![](https://raw.githubusercontent.com/gsprint23/cpts111/master/labs/figures/spyder_run_preferences.png)\n",
    "1. Run the program! You can do this by pressing F5 on your keyboard or clicking on the green play button on the tool bar. The output of your code will be in the Console. Congrats! You just wrote and executed your first Python *script*.\n",
    "![](https://raw.githubusercontent.com/gsprint23/cpts111/master/labs/figures/spyder_hello.png)"
   ]
  },
  {
   "cell_type": "markdown",
   "metadata": {},
   "source": [
    "### BMI Calculator\n",
    "Now, let's write a more interesting program. Open a new script in Spyder and save it as bmi.py. This program will compute the BMI (body mass index) for a person given their weight (in pounds) and height (in inches). The BMI formula is as follows:\n",
    "$$BMI = \\frac{weight}{height^{2}} \\times 703$$\n",
    "\n",
    "Let's walk through this program step by step:\n",
    "1. Assign two variables `weight_pounds` and `height_inches` realistic information (it doesn't have to be your own information!).\n",
    "1. Assign a variable `bmi` the result of the arithmetic required to compute the BMI using the above formula.\n",
    "1. Display the result to the user in the form: \"The BMI for a person with weight %.2f pounds and height %.2f inches is: %.2f\"\n",
    "1. Run your program!\n",
    "1. Check your computation is correct by comparing it to an [online BMI calculator](http://www.bmi-calculator.net/).\n",
    "\n",
    "Next, upgrade your BMI program so it prompts the user to enter in a weight in pounds and height in inches. Display the BMI for the values entered in by the user.\n",
    "\n",
    "Note: What happens when you enter non-numeric data (try entering \"hello\")?  As you can see, entering non-numeric data causes your program to crash. The resulting text in the console is an error that attempts to inform you where and why the error occurred. Reading this text will help you *debug* your code and figure out what went wrong. Remember, programming is about problem solving, and bugs are problems you need to solve :)"
   ]
  },
  {
   "cell_type": "code",
   "execution_count": 3,
   "metadata": {},
   "outputs": [
    {
     "name": "stdout",
     "output_type": "stream",
     "text": [
      "Please enter the weight in pounds\n",
      "hello\n"
     ]
    },
    {
     "ename": "ValueError",
     "evalue": "could not convert string to float: 'hello'",
     "output_type": "error",
     "traceback": [
      "\u001b[1;31m---------------------------------------------------------------------------\u001b[0m",
      "\u001b[1;31mValueError\u001b[0m                                Traceback (most recent call last)",
      "\u001b[1;32m<ipython-input-3-0eafda66c284>\u001b[0m in \u001b[0;36m<module>\u001b[1;34m()\u001b[0m\n\u001b[0;32m      1\u001b[0m \u001b[1;31m# example code that crashes if a value is entered that is not numeric\u001b[0m\u001b[1;33m\u001b[0m\u001b[1;33m\u001b[0m\u001b[0m\n\u001b[0;32m      2\u001b[0m \u001b[0mprint\u001b[0m\u001b[1;33m(\u001b[0m\u001b[1;34m\"Please enter the weight in pounds\"\u001b[0m\u001b[1;33m)\u001b[0m\u001b[1;33m\u001b[0m\u001b[0m\n\u001b[1;32m----> 3\u001b[1;33m \u001b[0mweight_pounds\u001b[0m \u001b[1;33m=\u001b[0m \u001b[0mfloat\u001b[0m\u001b[1;33m(\u001b[0m\u001b[0minput\u001b[0m\u001b[1;33m(\u001b[0m\u001b[1;33m)\u001b[0m\u001b[1;33m)\u001b[0m\u001b[1;33m\u001b[0m\u001b[0m\n\u001b[0m",
      "\u001b[1;31mValueError\u001b[0m: could not convert string to float: 'hello'"
     ]
    }
   ],
   "source": [
    "# example code that crashes if a value is entered that is not numeric\n",
    "print(\"Please enter the weight in pounds\")\n",
    "weight_pounds = float(input())"
   ]
  },
  {
   "cell_type": "markdown",
   "metadata": {},
   "source": [
    "## Task 1\n",
    "Write a program that prompts the user for inputs into Joule's Law ($V$ and $R$) and determines the power ($P$). Print the power value. Joule's Law: \n",
    "$$P = \\frac{V^2}{R}$$\n",
    "\n",
    "where $P$ is the power, $V$ is the voltage, and $R$ is the resistance of the circuit (all values are integers). You can check your work by comparing your output with [this online Joule's Law calculator](http://thelocust.net/ohm/).\n",
    "\n",
    "Example output:\n",
    "\n",
    "```\n",
    "Please enter the voltage: 3.0\n",
    "Please enter the resistance: 5.0\n",
    "\n",
    "The power is: 1.80\n",
    "```"
   ]
  },
  {
   "cell_type": "markdown",
   "metadata": {},
   "source": [
    "## Task 2\n",
    "Write a program that prompts the user to enter 5 integers. Compute the average of these 5 integers and display the result to the user.\n",
    "\n",
    "Example output:\n",
    "\n",
    "```\n",
    "Please enter the first number: -4\n",
    "Please enter the second number: 3\n",
    "Please enter the third number: 1\n",
    "Please enter the fourth number: 0\n",
    "Please enter the fifth number: 10\n",
    "\n",
    "The average of the 5 numbers is: 2.00\n",
    "```"
   ]
  },
  {
   "cell_type": "markdown",
   "metadata": {},
   "source": [
    "## Task 3\n",
    "Write a program that prompts the user for inputs $a$, $b$, $c$, $d$, and $x$ into the third order polynomial equation provided and determines the $y$ value. Print the y value. The third order polynomial equation is: \n",
    "\n",
    "$$y = 3ax^3 + \\frac{1}{4}bx^2 + 10cx - 5d$$\n",
    "\n",
    "where $x$, $y$, $a$, $b$, $c$, and $d$ are integer numbers entered by the user."
   ]
  },
  {
   "cell_type": "markdown",
   "metadata": {},
   "source": [
    "## Task 4\n",
    "(This task is similar to our volume of a cone example from [L1-2](http://nbviewer.jupyter.org/github/gsprint23/cpts111/blob/master/lessons/L1-2.ipynb)) Write a program that prompts the user for the radius and height of a cylinder and determines the surface area of the cylinder. Display the surface area value.\n",
    "\n",
    "Surface area of a cylinder (with caps):\n",
    "\n",
    "$$SA = 2 \\times \\pi \\times radius \\times height + 2 \\times \\pi \\times radius^{2}$$\n",
    "\n",
    "where radius and height are floating-point numbers; pi should be defined as a floating-point number and should not be entered by the user. Check your work with [Google's surface area program](https://www.google.com/webhp?sourceid=chrome-instant&ion=1&espv=2&ie=UTF-8#q=surface+area+of+a+cylinder)."
   ]
  },
  {
   "cell_type": "markdown",
   "metadata": {},
   "source": [
    "## Task 5\n",
    "(Adapted from problem 3.2, Zelle 2010) Write a program that calculates the cost per square inch of a circular pizza, given its *diameter* and price ($P$) from the user. The area of a circle formula is:\n",
    "\n",
    "$$A = \\pi \\times radius^{2}$$\n",
    "\n",
    "Hint: The above formula is for a circle's *radius*. The user is providing our program with the *diameter*. How is the radius of a circle related to its diameter?\n",
    "\n",
    "And the cost per inch ($C$) of a Pizza is the cost of the pizza divided by the square inches of the pizza:\n",
    "\n",
    "$$C = \\frac{P}{A}$$\n",
    "\n",
    "Example output:\n",
    "\n",
    "```\n",
    "Please enter the cost of the pizza: 20.00\n",
    "Please enter the diameter of the pizza in inches: 12\n",
    "\n",
    "The cost per inch of a $20.00 12.00 inch pizza is: $0.18\n",
    "```"
   ]
  },
  {
   "cell_type": "markdown",
   "metadata": {},
   "source": [
    "## Task 6\n",
    "Write a program that computes your grade in CptS 111. Recall the category weights for this course:\n",
    "* Two midterm exams (20%, 10% each)\n",
    "* One final exam (10%)\n",
    "* Micro assignments (10%)\n",
    "* Programming Assignments (30%)\n",
    "* Labs (20%)\n",
    "* zyBooks activities (10%)\n",
    "\n",
    "Prompt the user to enter in their percentage grade for each category. Compute the weighted total grade using the above category weights. Display the total grade to the user, plus an encouraging statement!\n",
    "\n",
    "Example output:\n",
    "\n",
    "```\n",
    "Please enter your midterm exam #1 percentage: 95.5\n",
    "Please enter your midterm exam #2 percentage: 90.0\n",
    "Please enter your final exam percentage: 102.0\n",
    "Please enter your micro assignment percentage: 80.0\n",
    "Please enter your programming assignments percentage: 90.0\n",
    "Please enter your labs percentage: 100.0\n",
    "Please enter your zyBooks percentage: 100.0\n",
    "\n",
    "Your total grade is 93.75%, keep up the hard work!\n",
    "```"
   ]
  },
  {
   "cell_type": "markdown",
   "metadata": {},
   "source": [
    "## Task 7\n",
    "(Adapted from problem 3.5, Zelle 2010) Write a program that computes the cost for a coffee shop to ship coffee. The coffee shop sells the coffee for \\$10.50 a pound plus shipping. Shipping costs for each order are \\$0.86 per pound + \\$1.50 fixed cost for overhead. Prompt the user to enter the weight (in pounds) of a coffee sale for the coffee shop. Your program should display the total cost to ship the coffee.\n",
    "\n",
    "Example output:\n",
    "\n",
    "```\n",
    "Please enter the weight of the coffee sale in pounds: 10.0\n",
    "\n",
    "The total cost of the coffee weighing 10.00 pounds is (sale + shipping): $115.10\n",
    "```"
   ]
  },
  {
   "cell_type": "markdown",
   "metadata": {},
   "source": [
    "## Task 8\n",
    "Write a program that prompts the user for 4 floating point numbers representing 2 pairs of points in 2D space:\n",
    "1. `x1`: represents the x coordinate for the first point\n",
    "1. `y1`: represents the y coordinate for the first point\n",
    "1. `x2`: represents the x coordinate for the second point\n",
    "1. `y2`: represents the y coordinate for the second point\n",
    "\n",
    "Compute the slope of a line connecting these two points (x1, y1) an (x2, y2). The formula to compute the slope $m$ of a line passing through two points is:\n",
    "\n",
    "$$m = \\frac{y2 - y1}{x2 - x1}$$\n",
    "\n",
    "Display the slope to the user. You can check your work with [this online slope calculator](http://www.webmath.com/equline1.html).\n",
    "\n",
    "![](https://raw.githubusercontent.com/gsprint23/cpts111/master/labs/figures/slope.png)\n",
    "(image from [http://www.coolmath.com/algebra/08-lines/06-finding-slope-line-given-two-points-01](http://www.coolmath.com/algebra/08-lines/06-finding-slope-line-given-two-points-01))\n",
    "\n",
    "Example output:\n",
    "\n",
    "```\n",
    "Please enter the x coordinate of the first point: -2.0\n",
    "Please enter the y coordinate of the first point: -1.0\n",
    "Please enter the x coordinate of the second point: 4.0\n",
    "Please enter the y coordinate of the second point: 3.0\n",
    "\n",
    "The slope of a line passing through (-2.00, -1.00) and (4.00, 3.00) is 0.67.\n",
    "```"
   ]
  },
  {
   "cell_type": "markdown",
   "metadata": {},
   "source": [
    "## Task 9\n",
    "(Adapted from problem 2.2, Downey, 2016) Write a program that computes the wholesale cost for a university book order. Suppose the book to order costs \\$24.95. Shipping costs \\$3 for the first copy and \\$0.75 for each additional copy. Prompt the user to enter the quantity of books in the book order. Display the total wholesale cost.\n",
    "\n",
    "Example output:\n",
    "\n",
    "```\n",
    "Please enter the number of books in the order: 50\n",
    "The cost of 50 books is $1287.25.\n",
    "```"
   ]
  },
  {
   "cell_type": "markdown",
   "metadata": {},
   "source": [
    "## Task 10\n",
    "Write a program that prompts the user to enter a time by specifying three numbers:\n",
    "1. `user_hours`: an integer number of hours\n",
    "1. `user_minutes`: an integer number of minutes\n",
    "1. `user_seconds`: an integer number of seconds\n",
    "\n",
    "Compute the total number of seconds (`total_seconds`) by adding the seconds from all three values above. Display the total number of seconds to the user. Also, display `total_seconds` expressed in terms of floating-point hours.\n",
    "\n",
    "Example run:\n",
    "\n",
    "```\n",
    "Please enter the hours: 3\n",
    "Please enter the minutes: 45\n",
    "Please enter the seconds: 20\n",
    "\n",
    "Total number of seconds: 13520\n",
    "Total number of seconds expressed in hours: 3.76\n",
    "```"
   ]
  },
  {
   "cell_type": "markdown",
   "metadata": {},
   "source": [
    "## Task 11\n",
    "(Adapted from problem 3.4, Zelle 2010) Write a program that that determines the distance (in miles) to a lightning strike based on the time elapsed between the flash and sound of thunder. The speed of sound is approximately 1100 ft/sec and 1 mile is 5280 ft. You can check your work by comparing your output with [this online lightning distance calculator](http://www.csgnetwork.com/lightningdistcalc.html).\n",
    "\n",
    "Example output:\n",
    "\n",
    "```\n",
    "Please enter the time elapsed (in seconds) between the flash and sound of thunder: 30\n",
    "The lightning strike is 6.25 miles away.\n",
    "```"
   ]
  }
 ],
 "metadata": {
  "anaconda-cloud": {},
  "kernelspec": {
   "display_name": "Python 3",
   "language": "python",
   "name": "python3"
  },
  "language_info": {
   "codemirror_mode": {
    "name": "ipython",
    "version": 3
   },
   "file_extension": ".py",
   "mimetype": "text/x-python",
   "name": "python",
   "nbconvert_exporter": "python",
   "pygments_lexer": "ipython3",
   "version": "3.7.1"
  }
 },
 "nbformat": 4,
 "nbformat_minor": 1
}
