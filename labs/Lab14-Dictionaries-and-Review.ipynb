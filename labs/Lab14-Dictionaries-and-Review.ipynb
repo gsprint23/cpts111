{
 "cells": [
  {
   "cell_type": "markdown",
   "metadata": {},
   "source": [
    "# [CptS 111 Introduction to Algorithmic Problem Solving](http://piazza.com/wsu/spring2017/cpts111/home)\n",
    "[Washington State University](https://wsu.edu)\n",
    "\n",
    "[Gina Sprint](http://eecs.wsu.edu/~gsprint/)\n",
    "## Lab14 Dictionaries and Review (10 pts)\n",
    "\n",
    "### Learner Objectives\n",
    "At the conclusion of this lab, participants should be able to:\n",
    "* Solve problems using lists, tuples, and dictionaries\n",
    "* Review previous topics in the course\n",
    "\n",
    "### Prerequisites\n",
    "Before starting this lab, participants should be able to:\n",
    "* Declare and work with lists\n",
    "* Declare and work with tuples\n",
    "* Declare and work with dictionaries\n",
    "\n",
    "### Review Lab Format\n",
    "For this review lab, solve/demo tasks from this lab (Lab 14) and tasks you have not previously solved from Labs 1-13.\n",
    "\n",
    "####  Pair Task\n",
    "Your TA will group you into pairs and assign you a task (one of Tasks 1-10).\n",
    "\n",
    "#### Additional Tasks\n",
    "Once you complete Task 0 and your assigned task with a partner (pair task), you are to continue solving additional lab tasks until the end of lab. You are encouraged to complete *all* of the lab tasks. Practice, practice, practice! \n",
    "\n",
    "#### Completing a Task\n",
    "When you complete a task, show your TA your code and output. Also, help others with this task either in person or by answering questions in your [Piazza](http://piazza.com/wsu/fall2016/cpts111/home) lab section group. Helping your peers benefits both you and your classmates, as Albert Einstein said, \"You do not really understand something unless you can explain it to your grandmother.\" :)\n",
    "\n",
    "#### Lab Dismissal\n",
    "You are dismissed from lab when your TA dismisses you, or after 3 hours, whichever comes first. Your TA will dismiss you once you have demonstrated mastery of the material (completed a certain number of tasks). Should you demonstrate mastery before the end of lab, you are encouraged to stay and perform a combination of the following:\n",
    "* Help your peers\n",
    "* Work on additional tasks\n",
    "* Work on the current programming assignment\n",
    "\n",
    "Take advantage of your TA and your peers as resources and make the most of lab time!"
   ]
  },
  {
   "cell_type": "markdown",
   "metadata": {},
   "source": [
    "## Task 0\n",
    "Recall a dictionary is a list of key-value pairs. The following tasks work with dictionaries where each key is an integer and each key's value is the square of the key. For example 5 (key) maps to 25 (value).\n",
    "1. Write code to populate a dictionary with keys 1 through 10 inclusive.\n",
    "1. Write a function that accepts a dictionary and returns a two-item tuple. The first item in the tuple is the sum of the keys. The second item in the tuple is the sum of the values.\n",
    "1. Write a function that accepts a key and a dictionary. The function removes the key-value pair from the dictionary.\n",
    "    * Hint: what are some ways we delete items from lists?"
   ]
  },
  {
   "cell_type": "markdown",
   "metadata": {},
   "source": [
    "## Task 1\n",
    "Write a program creates and returns a dictionary from two *parallel* lists. As part of your solution, define a function called `parallel_lists_to_dict(keys, values)` that accepts two lists of equal length. \n",
    "\n",
    "Hint: At each index position `i`, `keys[i]` is a key that maps to a value `values[i]`. Construct the dictionary accordingly.\n",
    "\n",
    "Example:\n",
    "\n",
    "```\n",
    "keys = [\"WA\", \"ID\", \"OR\", \"CA\"]\n",
    "values = [\"washington\", \"idaho\", \"oregon\", \"california\"]\n",
    "# resulting dictionary {\"WA\": \"washington\", \"ID\": \"idaho\", \"OR\": \"oregon\", \"CA\": \"california\"}\n",
    "```"
   ]
  },
  {
   "cell_type": "markdown",
   "metadata": {},
   "source": [
    "## Task 2\n",
    "A palindrome consists of a word (or a de-blanked, un-punctuated phrase) that is spelled exactly the same when the letters are reversed. Examples of palindromes include:\n",
    "1. level\n",
    "1. deed\n",
    "1. sees\n",
    "1. madamimadam (Madam I'm Adam)\n",
    "1. amanaplanacanalpanama (A man, a plan, a canal, panama)\n",
    "\n",
    "<img src=\"https://raw.githubusercontent.com/gsprint23/cpts111/master/labs/figures/moom.jpg\" width=\"150\"/>\n",
    "(Image from [http://www.constantinosorphanides.com/wp-content/uploads/2014/08/moom.jpg](http://www.constantinosorphanides.com/wp-content/uploads/2014/08/moom.jpg))\n",
    "\n",
    "Write a predicate function, `is_palindrome(phrase)` that returns `True` if `phrase` is a palindrome, `False` otherwise. \n",
    "\n",
    "Hint: Notice that in palindromes the first letter matches the last, the second matches the next-to-last, and so on."
   ]
  },
  {
   "cell_type": "markdown",
   "metadata": {},
   "source": [
    "## Task 3\n",
    "Write a Python program to combine two dictionaries by adding values for common keys. As part of your solution, define a function that accepts two dictionaries and returns the merged dictionary.\n",
    "\n",
    "Example: \n",
    "\n",
    "```\n",
    "dict1 = {'a': 1, 'b': 2, 'c': 3}\n",
    "dict2 = {'a': 10, 'b': 20, 'd': 30}\n",
    "# merged {'a': 11, 'b': 22, 'c': 3, 'd': 30}\n",
    "```"
   ]
  },
  {
   "cell_type": "markdown",
   "metadata": {},
   "source": [
    "## Task 4\n",
    "This problem is an extension of the practice problem we worked in class on [L14-2](http://nbviewer.jupyter.org/github/gsprint23/cpts111/blob/master/lessons/L14-2.ipynb#Example-Problem:-Letter-Frequencies).\n",
    "\n",
    "Write a program that prompts the user for a string and determines the most commonly occurring letter in the string and the number of occurrences of the letter (ignoring case). As part of your solution, write a function called `most_common_letter()` that accepts a string argument, `text`, and returns a tuple containing the most commonly occurring letter and number of instances of the letter in `text`. For example, `most_common_letter(\"summer\")` would return `(\"m\", 2)`. `most_common_letter()` should use a dictionary to find the most commonly occurring letter.\n",
    "\n",
    "Example output:\n",
    "```\n",
    "Please enter a string: mississippi\n",
    "s is the most common letter in mississippi with 4 occurrences.\n",
    "```\n",
    "\n",
    "Note: By returning a tuple from `most_common_letter()`, we are writing a function that returns more than one value! In fact, Python has support for unpacking values from a returned tuple:\n",
    "\n",
    "`letter, num_occurrences = most_common_letter(\"summer\")`\n",
    "\n",
    "Note: In the \"mississippi\" example, \"i\" also has 4 occurrences in mississippi. How could you modify your solution to return all letters of maximum occurrence?\n",
    "\n",
    "Here is the code from L14-2:"
   ]
  },
  {
   "cell_type": "code",
   "execution_count": 1,
   "metadata": {},
   "outputs": [
    {
     "name": "stdout",
     "output_type": "stream",
     "text": [
      "{'o': 1, 'l': 2, 'h': 1, 'e': 1}\n",
      "{'s': 4, 'p': 2, 'i': 4, 'm': 1}\n"
     ]
    }
   ],
   "source": [
    "def compute_letter_frequencies(word):\n",
    "    '''\n",
    "    \n",
    "    '''\n",
    "    histogram = {}\n",
    "    \n",
    "    for letter in word:\n",
    "        if letter in histogram:\n",
    "            histogram[letter] += 1\n",
    "        else:\n",
    "            histogram[letter] = 1\n",
    "    return histogram\n",
    "\n",
    "print(compute_letter_frequencies(\"hello\"))\n",
    "print(compute_letter_frequencies(\"mississippi\"))"
   ]
  },
  {
   "cell_type": "markdown",
   "metadata": {},
   "source": [
    "## Task 5\n",
    "Write a Python program that prints all unique values in a dictionary. As part of your solution, define a function that accepts a dictionary and returns a list of unique values in the dictionary.\n",
    "\n",
    "Example:\n",
    "\n",
    "```\n",
    "cities = {\"pullman\": \"WA\", \"moscow\": \"ID\", \"spokane\": \"WA\", \"portland\": \"OR\", \"boise\": \"ID\"}\n",
    "# prints \"WA\", \"ID\", \"OR\"\n",
    "```"
   ]
  },
  {
   "cell_type": "markdown",
   "metadata": {},
   "source": [
    "## Task 6\n",
    "Recall a substring is a fragment of a longer string. For example \"gram\" is a substring of \"program\". Write a predicate function called `is_substring(orig, sub)` that returns `True` if `sub` is a substring of `orig`.\n",
    "\n",
    "Note: Do not use the reserved keyword `in` in your solution. Also, do not use any string methods! You don't need them :)\n",
    "\n",
    "Note: The empty string is a substring of any other string. \n",
    "\n",
    "Examples:\n",
    "```\n",
    "is_substring(\"program\", \"gram\") returns true\n",
    "is_substring(\"123456789\", \"xy\") returns false\n",
    "is_substring(\"abc\", \"\") returns true\n",
    "```"
   ]
  },
  {
   "cell_type": "markdown",
   "metadata": {},
   "source": [
    "## Task 7\n",
    "Note: This task is based off of the previous task.\n",
    "\n",
    "Write a program to identify all of the words in [words.txt](http://thinkpython2.com/code/words.txt) that the following 3 strings are substrings of:\n",
    "* \"are\"\n",
    "* \"ing\"\n",
    "* \"the\"\n",
    "\n",
    "Here is an outline of the algorithm to do this:\n",
    "1. Open [words.txt](http://thinkpython2.com/code/words.txt) for reading\n",
    "1. Initialize a dictionary: `substring_dict = {\"are\": [], \"ing\": [], \"the\": []}`\n",
    "1. For each `word` in [words.txt](http://thinkpython2.com/code/words.txt):\n",
    "    1. For `substring` in `substring_dict`:\n",
    "        1. If `is_substring(word, substring)` returns `True` (this is a function you wrote for a previous lab task :))\n",
    "           1. Append `word` to `substring_dict[substring]`\n",
    "           \n",
    "Example output (rather than printing all of them!):\n",
    "```\n",
    "There are 600 words that \"are\" is a substring of.\n",
    "There are 916 words that \"the\" is a substring of.\n",
    "There are 11344 words that \"ing\" is a substring of.\n",
    "```"
   ]
  },
  {
   "cell_type": "markdown",
   "metadata": {},
   "source": [
    "## Task 8\n",
    "The least common multiple (LCM) of two numbers is the smallest number that is a multiple of both. Write a function called `lcm()` that returns the LCM of two integers. For example, `lcm(8, 6)` returns 24 and `lcm(3, 5)` returns 15"
   ]
  },
  {
   "cell_type": "markdown",
   "metadata": {},
   "source": [
    "## Task 9\n",
    "Add new functionality to PA5 that stores the waypoint/days pairs in a dictionary. Then, display a menu allowing users to:\n",
    "1. View the roadtrip\n",
    "1. Add waypoints to the roadtrip\n",
    "1. Remove waypoints to the roadtrip\n",
    "1. View the roadtrip in Google Maps (PA5 bonus task)\n",
    "1. Quit and save the roadtrip to a file (including all changes the user has made to the roadtrip)\n",
    "\n",
    "When the user wants to quit, prompt them for the filename to write the roadtrip to. "
   ]
  },
  {
   "cell_type": "markdown",
   "metadata": {},
   "source": [
    "## Task 10\n",
    "Finish all tasks from all previous labs!! Focus on the tasks that cover topics you need the most practice with."
   ]
  }
 ],
 "metadata": {
  "anaconda-cloud": {},
  "kernelspec": {
   "display_name": "Python 3",
   "language": "python",
   "name": "python3"
  },
  "language_info": {
   "codemirror_mode": {
    "name": "ipython",
    "version": 3
   },
   "file_extension": ".py",
   "mimetype": "text/x-python",
   "name": "python",
   "nbconvert_exporter": "python",
   "pygments_lexer": "ipython3",
   "version": "3.7.1"
  }
 },
 "nbformat": 4,
 "nbformat_minor": 1
}
