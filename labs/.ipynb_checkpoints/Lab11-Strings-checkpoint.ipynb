{
 "cells": [
  {
   "cell_type": "markdown",
   "metadata": {},
   "source": [
    "# [CptS 111 Introduction to Algorithmic Problem Solving](http://piazza.com/wsu/spring2017/cpts111/home)\n",
    "[Washington State University](https://wsu.edu)\n",
    "\n",
    "[Gina Sprint](http://eecs.wsu.edu/~gsprint/)\n",
    "## Lab11 Strings (10 pts)\n",
    "\n",
    "### Learner Objectives\n",
    "At the conclusion of this lab, participants should be able to:\n",
    "* Index into strings\n",
    "* Iterate through characters in a string\n",
    "* Apply string methods\n",
    "\n",
    "### Prerequisites\n",
    "Before starting this lab, participants should be able to:\n",
    "* Declare strings\n",
    "* Print strings to the console and write strings to output files\n",
    "\n",
    "### Lab Format\n",
    "#### Task 0 and Pair Task\n",
    "Task 0 will be completed as a group with step-by-step guidance from your TA. After Task 0, your TA will group you into pairs and assign you a task (one of Tasks 1-10).\n",
    "\n",
    "#### Additional Tasks\n",
    "Once you complete Task 0 and your assigned task with a partner (pair task), you are to continue solving additional lab tasks until the end of lab. You are encouraged to complete *all* of the lab tasks. Practice, practice, practice! \n",
    "\n",
    "#### Completing a Task\n",
    "When you complete a task, show your TA your code and output. Also, help others with this task either in person or by answering questions in your [Piazza](http://piazza.com/wsu/fall2016/cpts111/home) lab section group. Helping your peers benefits both you and your classmates, as Albert Einstein said, \"You do not really understand something unless you can explain it to your grandmother.\" :)\n",
    "\n",
    "#### Lab Dismissal\n",
    "You are dismissed from lab when your TA dismisses you, or after 3 hours, whichever comes first. Your TA will dismiss you once you have demonstrated mastery of the material (completed a certain number of tasks). Should you demonstrate mastery before the end of lab, you are encouraged to stay and perform a combination of the following:\n",
    "* Help your peers\n",
    "* Work on additional tasks\n",
    "* Work on the current programming assignment\n",
    "\n",
    "Take advantage of your TA and your peers as resources and make the most of lab time!"
   ]
  },
  {
   "cell_type": "markdown",
   "metadata": {
    "collapsed": true
   },
   "source": [
    "## Task 1\n",
    "How many digits are there in $10^1$, $10^2$, and $10^3$? It's fairly easy to answer 2, 3, and 4, respectively, and we can quickly convince ourselves that, in general, $10^n$ is 1 followed by $n$ zeros and, thus, $10^n$ has $n + 1$ digits. But what about $3^{100}$? How many digits are there in $3^{100}$? In this task, you'll write a program that will answer this question.\n",
    "\n",
    "Write a program that counts the number of digits in $j^k$ where $j$ and $k$ are integer values specified by the user. Your program should consist of at least two functions:\n",
    "* `calculate_num_digits()`: Calculates the value of $j^k$ and the number of digits in $j^k$\n",
    "* `main()`: Prompts for the base $j$ and exponent $k$ and displays the results of the calculations.\n",
    "\n",
    "Your output should be similar to the following:\n",
    "\n",
    "```\n",
    "Enter the base j: 3\n",
    "Enter the exponent k: 100\n",
    "\n",
    "3 ** 100 = 515377520732011331036461129765621272702107522001\n",
    "This number has 48 digits.\n",
    "```\n",
    "\n",
    "Hint: You will need to use the functions `str()` and `len()`. The `str()` function converts its argument to a string, and the `len()` function returns the length (i.e., the number of characters) of a string."
   ]
  },
  {
   "cell_type": "markdown",
   "metadata": {},
   "source": [
    "## Task 2\n",
    "This problem is adapted from problem 5.4 of Zelle, 2010. The problem states the following:\n",
    "\n",
    "An acronym is a word formed by taking the first letters of the words in a phrase and making a word from them. For example, RAM is an acronym for \"random access memory.\" Write a program that allows the user to type in a phrase and then outputs the acronym for that phrase.\n",
    "\n",
    "Note: The acronym should be all upper case, even if the words in the phrase are not capitalized.\n",
    "\n",
    "Note: Other than `capitalize()`, **do not use any other string methods** in your solution."
   ]
  },
  {
   "cell_type": "markdown",
   "metadata": {},
   "source": [
    "## Task 3\n",
    "This problem is adapted from problem 5.9 of Zelle, 2010. The problem states the following:\n",
    "\n",
    "Write a program that counts the number of words and average word length in a sentence entered by the user.\n",
    "\n",
    "Example output:\n",
    "\n",
    "```\n",
    "Please enter a sentence: I love programming so much\n",
    "There are 5 words in this sentence.\n",
    "\n",
    "The average length of a word in this sentence: 4.40\n",
    "```\n",
    "\n",
    "Note: **Do not use any string methods** in your solution."
   ]
  },
  {
   "cell_type": "markdown",
   "metadata": {
    "collapsed": true
   },
   "source": [
    "## Task 4\n",
    "Write a program to read in data from a file. The file can have either a positive integer or a string on each line. For numeric data types, determine the largest, smallest, and average value. For string data types, determine the average length of each word. \n",
    "\n",
    "Hint: How can you find out if a string can be type cast to an integer? Can you type cast \"1\" to an integer? What about \"abc\"?\n",
    "\n",
    "Note: We have had several tab tasks (and PA5) that required you to solve similar problems. By now you should be well-practiced at finding minimums, maximums, counts, sums, and averages!\n",
    "\n",
    "Here is an example text file with random numbers and our CptS 111 TA names :)\n",
    "\n",
    "```\n",
    "1\n",
    "Edoardo\n",
    "Kevin\n",
    "7\n",
    "19\n",
    "Jackson\n",
    "Nick\n",
    "5\n",
    "Izak\n",
    "Liam\n",
    "12\n",
    "4\n",
    "Yunshu\n",
    "10\n",
    "```\n",
    "\n",
    "Here is an example program run:\n",
    "\n",
    "```\n",
    "Found 7 numbers.\n",
    "\n",
    "Largest number: 19\n",
    "Smallest number: 1\n",
    "Average value: 8.29\n",
    "\n",
    "Found 7 words. \n",
    "Longest word: Edoardo\n",
    "Shortest word: Nick\n",
    "Average word length: 5.29\n",
    "```"
   ]
  },
  {
   "cell_type": "markdown",
   "metadata": {},
   "source": [
    "## Task 5\n",
    "Note: This lab task is adapted from a [UW Java PA](http://courses.cs.washington.edu/courses/cse142/10sp/homework/6/spec.pdf).\n",
    "\n",
    "[Mad Libs](https://en.wikipedia.org/wiki/Mad_Libs) are short stories that have blanks called placeholders to be filled in. In the non-computerized version of this game, one person asks a second person to fill in each of the placeholders without the second person knowing the overall story. Once all placeholders are filled in, the second person is shown the resulting story, often with humorous results.\n",
    "\n",
    "Write a program  that prompts the user for an input mad lib file. The program reads the input file, prompting the user to fill in any placeholders that are found without showing the user the rest of the story. As the user fills in each placeholder, the program is building a string representing the complete mad lib story. Once the story is complete, display the story to the user.\n",
    "\n",
    "Here is an example input file [tarzan.txt](https://raw.githubusercontent.com/gsprint23/cpts111/master/labs/files/tarzan.txt):\n",
    "\n",
    "```\n",
    "One of the most <adjective> characters in fiction is named\n",
    "\"Tarzan of the <plural-noun> .\" Tarzan was raised by a/an\n",
    "<noun> and lives in the <adjective> jungle in the\n",
    "heart of darkest <place> . He spends most of his time\n",
    "eating <plural-noun> and swinging from tree to <noun> .\n",
    "Whenever he gets angry, he beats on his chest and says,\n",
    "\" <funny-noise> !\" This is his war cry. Tarzan always dresses in\n",
    "<adjective> shorts made from the skin of a/an <noun>\n",
    "and his best friend is a/an <adjective> chimpanzee named\n",
    "Cheetah. He is supposed to be able to speak to elephants and\n",
    "<plural-noun> . In the movies, Tarzan is played by <person's-name> .\n",
    "```\n",
    "\n",
    "Example output:\n",
    "\n",
    "```\n",
    "Please enter the name of the input mad libs file: tarzan.txt\n",
    "\n",
    "Please enter a adjective: happy\n",
    "Please enter a plural-noun: birds\n",
    "Please enter a noun: computer\n",
    "Please enter a adjective: fluffy\n",
    "Please enter a place: WSU campus\n",
    "Please enter a plural-noun: cars\n",
    "Please enter a noun: window\n",
    "Please enter a funny-noise: cackle\n",
    "Please enter a adjective: tall\n",
    "Please enter a noun: clock\n",
    "Please enter a adjective: noisy\n",
    "Please enter a plural-noun: cats\n",
    "Please enter a person's-name: Cookie Monster\n",
    "\n",
    "One of the most happy characters in fiction is named\n",
    "\"Tarzan of the birds .\" Tarzan was raised by a/an\n",
    "computer and lives in the fluffy jungle in the\n",
    "heart of darkest WSU campus . He spends most of his time\n",
    "eating cars and swinging from tree to window .\n",
    "Whenever he gets angry, he beats on his chest and says,\n",
    "\" cackle !\" This is his war cry. Tarzan always dresses in\n",
    "tall shorts made from the skin of a/an clock\n",
    "and his best friend is a/an noisy chimpanzee named\n",
    "Cheetah. He is supposed to be able to speak to elephants and\n",
    "cats . In the movies, Tarzan is played by Cookie Monster .\n",
    "```\n",
    "\n",
    "Hint: For each line there may be multiple placeholders. Write a loop to `find` beginning \"<\" angle brackets and corresponding ending \">\" angle brackets. The placeholder part of speech is between these angle brackets (think substrings!). \n",
    "\n",
    "For fun: Make your own mad libs story!\n",
    "\n",
    "Challenge: Write the complete story to an output file. The name of the output file should be the base name for the input file, plus \"_out\". For example: tarzan_out.txt."
   ]
  },
  {
   "cell_type": "markdown",
   "metadata": {},
   "source": [
    "## Task 6\n",
    "Write a predicate function called `is_substring()` that accepts two strings, `s1` and `s2`. The function determines whether or not `s2` is a substring (a substring is a fragment of a longer string) of `s1`. \n",
    "\n",
    "Examples:\n",
    "```\n",
    "is_substring(\"program\", \"gram\") returns True\n",
    "is_substring(\"123456789\", \"xy\") returns False\n",
    "is_substring(\"abc\", \"\") returns True\n",
    "```\n",
    "\n",
    "Note: Do not use the reserved keyword `in` in your solution. Also, **do not use any string methods!**\n",
    "\n",
    "Note: The empty string is a substring of any other string. "
   ]
  },
  {
   "cell_type": "markdown",
   "metadata": {},
   "source": [
    "## Task 7\n",
    "Write a program that implements a string comparison function, `my_strcmp(s1, s2)`. `my_strcmp(s1, s2)` returns -1 if `s1` comes before `s2` in dictionary ordering, 0 if `s1` and `s2` contain the same string, and 1 otherwise.\n",
    "\n",
    "Examples:\n",
    "```\n",
    "my_strcmp(\"abc\", \"bcd\") returns -1\n",
    "my_strcmp(\"abc\", \"Abc\") returns 1\n",
    "my_strcmp(\"abc\", \"abc\") returns 0 \n",
    "my_strcmp(\"abc\", \"abcdef\") returns -1\n",
    "my_strcmp(\"abcdef\", \"abc\") returns 1\n",
    "```\n",
    "\n",
    "Implement a solution to this function by walking through the strings and comparing each character. \n",
    "\n",
    "Note: **Do not use any string methods!**"
   ]
  },
  {
   "cell_type": "markdown",
   "metadata": {},
   "source": [
    "## Task 8\n",
    "This problem is adapted from problem 5.7 of Zelle, 2010. The problem states the following:\n",
    "\n",
    "A Caesar cipher is a simple substitution cipher based on the idea of shifting each letter of the plain text message a fixed number (called the `key`) of positions in the alphabet. For example, if the key value is 2, the word \"sourpuss\" would be encoded as \"ugqtrwuu\". The original message can be recovered by \"re-encoding\" it using the negative of the `key`.\n",
    "\n",
    "Write a program that can encode and decode Caesar ciphers. The input to the program will be a string of plain text and the value of the `key`. The output will be an encoded message where each character in the original message is replaced by shifting it `key` characters in the Unicode character set. For example, if `ch` is a character in the string and `key` is the amount to shift, then the character that replaces `ch` can be calculated as: `chr(ord(ch) + key)`.\n",
    "\n",
    "Note: `ord(<character>)` returns the Unicode value of `<character>`. Read more about `ord()` in the [Python docs](https://docs.python.org/3/library/functions.html#ord).\n",
    "\n",
    "Note: `char(<integer>)` returns the string representing a character whose Unicode code value is the integer `<integer>`. Read more about `chr()` in the [Python docs](https://docs.python.org/3/library/functions.html#chr). `chr()` is the inverse of `ord()`."
   ]
  },
  {
   "cell_type": "code",
   "execution_count": 2,
   "metadata": {},
   "outputs": [
    {
     "name": "stdout",
     "output_type": "stream",
     "text": [
      "97\n",
      "a\n",
      "€\n"
     ]
    }
   ],
   "source": [
    "print(ord(\"a\")) # prints 97\n",
    "print(chr(97)) # print\n",
    "print(chr(8364))"
   ]
  },
  {
   "cell_type": "markdown",
   "metadata": {},
   "source": [
    "## Task 9\n",
    "Note: Do this task last. This task builds off of the Caesar cipher task\n",
    "\n",
    "What about the case when we \"drop off the end\" of the alphabet? A true Caesar cipher does the shifting in a circular fashion where the next character after \"z\" is \"a\". Modify your solution to make it circular. You may assume your input only contains lowercase letters and spaces.\n",
    "\n",
    "Hint: Make a string containing all the character of your alphabet and use positions in this string as your code. You do not have to shift \"z\" into \"a\", just make sure that you use a circular shift over the entire sequence of characters in your alphabet string."
   ]
  },
  {
   "cell_type": "markdown",
   "metadata": {},
   "source": [
    "## Task 10\n",
    "Finish all of the tasks from Lab10 :)"
   ]
  }
 ],
 "metadata": {
  "anaconda-cloud": {},
  "kernelspec": {
   "display_name": "Python 3",
   "language": "python",
   "name": "python3"
  },
  "language_info": {
   "codemirror_mode": {
    "name": "ipython",
    "version": 3
   },
   "file_extension": ".py",
   "mimetype": "text/x-python",
   "name": "python",
   "nbconvert_exporter": "python",
   "pygments_lexer": "ipython3",
   "version": "3.7.1"
  }
 },
 "nbformat": 4,
 "nbformat_minor": 1
}
