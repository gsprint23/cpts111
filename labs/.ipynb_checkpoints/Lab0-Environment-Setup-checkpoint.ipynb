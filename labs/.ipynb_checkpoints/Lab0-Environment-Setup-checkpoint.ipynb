{
 "cells": [
  {
   "cell_type": "markdown",
   "metadata": {},
   "source": [
    "# [CptS 111 Introduction to Algorithmic Problem Solving](http://piazza.com/wsu/spring2017/cpts111/home)\n",
    "[Washington State University](https://wsu.edu)\n",
    "\n",
    "[Gina Sprint](http://eecs.wsu.edu/~gsprint/)\n",
    "## Lab0 Environment Setup (0 pts)\n",
    "\n",
    "### Learner Objectives\n",
    "At the conclusion of this lab, participants should be able to:\n",
    "* Run a Python program on their own computer\n",
    "\n",
    "### Prerequisites\n",
    "Before starting this lab, participants should be able to:\n",
    "* Open a web browser and access the internet\n",
    "* Install programs on their computer\n",
    "\n",
    "Note: You don't need to turn this lab in. It is simply a resource to help you install Python."
   ]
  },
  {
   "cell_type": "markdown",
   "metadata": {
    "collapsed": true
   },
   "source": [
    "Visit the [Anaconda downloads page](https://www.continuum.io/downloads) and download **Anaconda 3.5** graphical installer for your operating system. Once the download is complete, run the installer. On a Windows machine, the graphical installer looks similar to this:\n",
    "![](https://raw.githubusercontent.com/gsprint23/cpts111/master/labs/figures/anaconda_installer.png)\n",
    "\n",
    "Choose all of the default options. At \"Advanced Options\" screen, make sure both check boxes are selected, as follows:\n",
    "![](https://raw.githubusercontent.com/gsprint23/cpts111/master/labs/figures/anaconda_adv.png)\n",
    "\n",
    "You can uncheck the box to \"Learn more about Anaconda Cloud.\" We won't be using Anaconda Cloud in this class.\n",
    "![](https://raw.githubusercontent.com/gsprint23/cpts111/master/labs/figures/anaconda_cloud.png)"
   ]
  },
  {
   "cell_type": "markdown",
   "metadata": {},
   "source": [
    "Test that your Python installation is complete and correct. To do this, open the [Anaconda Navigator](https://docs.continuum.io/anaconda/navigator.html) located in the Anaconda3 folder (on my Windows machine it is at C:\\ProgramData\\Microsoft\\Windows\\Start Menu\\Programs\\Anaconda3 (64-bit)).\n",
    "![](https://raw.githubusercontent.com/gsprint23/cpts111/master/labs/figures/anaconda_folder.png)\n",
    "\n",
    "You can also search your computer for \"Anaconda Navigator\" (on a Windows machine press the windows key and start typing, on a Mac its command key + space and start typing).\n",
    "\n",
    "Note: You may want to make desktop shortcuts for Anaconda Navigator, IPython, and Spyder.\n",
    "\n",
    "Anaconda Navigator looks like this:\n",
    "![](https://raw.githubusercontent.com/gsprint23/cpts111/master/labs/figures/anaconda_navigator.png)\n",
    "\n",
    "Try launching \"qtconsole\". Something like this program should pop up:\n",
    "![](https://raw.githubusercontent.com/gsprint23/cpts111/master/labs/figures/qtconsole.png)\n",
    "\n",
    "If it does, congrats! You successfully installed Python and Anaconda. You are ready to start developing Python code. You can try writing your first line of Python code if you want right now! In the open Jupyter QtConsole, type exactly the following:\n",
    "\n",
    "```\n",
    "print(\"My first line of code!\")\n",
    "```\n",
    "\n",
    "And press enter. The text `My first line of code!` will be displayed back. This is a simple program that displays information to the program user. You are both the author and user of this program :)\n",
    "![](https://raw.githubusercontent.com/gsprint23/cpts111/master/labs/figures/qtconsole_first_code.png)"
   ]
  }
 ],
 "metadata": {
  "anaconda-cloud": {},
  "kernelspec": {
   "display_name": "Python 3",
   "language": "python",
   "name": "python3"
  },
  "language_info": {
   "codemirror_mode": {
    "name": "ipython",
    "version": 3
   },
   "file_extension": ".py",
   "mimetype": "text/x-python",
   "name": "python",
   "nbconvert_exporter": "python",
   "pygments_lexer": "ipython3",
   "version": "3.7.1"
  }
 },
 "nbformat": 4,
 "nbformat_minor": 1
}
