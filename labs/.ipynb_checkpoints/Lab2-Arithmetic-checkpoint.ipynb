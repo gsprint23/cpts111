{
 "cells": [
  {
   "cell_type": "markdown",
   "metadata": {},
   "source": [
    "# [CptS 111 Introduction to Algorithmic Problem Solving](http://piazza.com/wsu/spring2017/cpts111/home)\n",
    "[Washington State University](https://wsu.edu)\n",
    "\n",
    "[Gina Sprint](http://eecs.wsu.edu/~gsprint/)\n",
    "## Lab2 Arithmetic (10 pts)\n",
    "\n",
    "### Learner Objectives\n",
    "At the conclusion of this lab, participants should be able to:\n",
    "* Solve basic arithmetic problems in Python\n",
    "* Perform integer division and modulus arithmetic\n",
    "\n",
    "### Prerequisites\n",
    "Before starting this lab, participants should be able to:\n",
    "* Use the Spyder IDE\n",
    "* Run Python interactively via the IPython shell\n",
    "* Save and run Python programs (scripts)\n",
    "* Compose Python programs that make use of\n",
    "    * Data types\n",
    "    * Variables\n",
    "    * Basic arithmetic\n",
    "    \n",
    "### Lab Format\n",
    "#### Task 0 and Pair Task\n",
    "Task 0 will be completed as a group with step-by-step guidance from your TA. After Task 0, your TA will group you into pairs and assign you a task (one of Tasks 1-10).\n",
    "\n",
    "#### Additional Tasks\n",
    "Once you complete Task 0 and your assigned task with a partner (pair task), you are to continue solving additional lab tasks until the end of lab. You are encouraged to complete *all* of the lab tasks. Practice, practice, practice! \n",
    "\n",
    "#### Completing a Task\n",
    "When you complete a task, show your TA your code and output. Also, help others with this task either in person or by answering questions in your [Piazza](http://piazza.com/wsu/fall2016/cpts111/home) lab section group. Helping your peers benefits both you and your classmates, as Albert Einstein said, \"You do not really understand something unless you can explain it to your grandmother.\" :)\n",
    "\n",
    "#### Lab Dismissal\n",
    "You are dismissed from lab when your TA dismisses you, or after 3 hours, whichever comes first. Your TA will dismiss you once you have demonstrated mastery of the material (completed a certain number of tasks). Should you demonstrate mastery before the end of lab, you are encouraged to stay and perform a combination of the following:\n",
    "* Help your peers\n",
    "* Work on additional tasks\n",
    "* Work on the current programming assignment\n",
    "\n",
    "Take advantage of your TA and your peers as resources and make the most of lab time!"
   ]
  },
  {
   "cell_type": "markdown",
   "metadata": {},
   "source": [
    "## Task 0\n",
    "Write a program that prompts the user for a four-digit, positive integer and then prints the digits,\n",
    "one per line, with the most significant digit printed first. Your output should look similar to this (but for arbitrary numbers!):\n",
    "\n",
    "```\n",
    "Enter a four-digit, positive integer: 1234\n",
    "1\n",
    "2\n",
    "3\n",
    "4\n",
    "```\n",
    "Hint: How could you compute how many 1000's there are in 5000?"
   ]
  },
  {
   "cell_type": "markdown",
   "metadata": {},
   "source": [
    "## Task 1\n",
    "(Similar to a zyBooks activity) Write a program to compute the distance between two points: \n",
    "    \n",
    "$$distance = \\sqrt{(x1 - x2)^{2} + (y1 - y2)^{2}}$$ \n",
    "\n",
    "Prompt the user to enter the coordinates of the the two points (x1, y1) and (x2, y2). You can check your work with [this online calculator](https://www.easycalculation.com/analytical/distance.php).\n",
    "\n",
    "Note: You can use `sqrt()` from the math module. Here is starter code to do so:"
   ]
  },
  {
   "cell_type": "code",
   "execution_count": 1,
   "metadata": {},
   "outputs": [
    {
     "name": "stdout",
     "output_type": "stream",
     "text": [
      "2.0\n"
     ]
    }
   ],
   "source": [
    "import math\n",
    "\n",
    "x = 4\n",
    "#y = x ** 0.5\n",
    "y = math.sqrt(x)\n",
    "print(y)"
   ]
  },
  {
   "cell_type": "markdown",
   "metadata": {},
   "source": [
    "## Task 2\n",
    "(Adapted from problem 3.8, Zelle 2010) The Gregorian epact is the number of days between January 1st and the previous new moon. This value is used to figure out the date of Easter. It is calculated by these formulas:\n",
    "\n",
    "$$C = year // 100$$\n",
    "$$epact = (8 + (C // 4) - C + ((8C + 13) // 25) + 11(year \\% 19)) \\% 30$$\n",
    "\n",
    "Write a program that prompts the user for a 4-digit year and then outputs the value of the epact. You can check your work by looking up year/epact pairs in the Gregorian calendar table [here](https://en.wikipedia.org/wiki/Computus).\n",
    "\n",
    "Example output:\n",
    "\n",
    "```\n",
    "Please enter the year: 2022\n",
    "Year: 2022, Epact: 27\n",
    "```"
   ]
  },
  {
   "cell_type": "markdown",
   "metadata": {},
   "source": [
    "## Task 3\n",
    "Write a program that prompts for the total cost of a purchase and the cash payment made. Your program will display the total change due and also the number of dollars, quarters, dimes, nickels, and pennies required.\n",
    "\n",
    "Note: the resulting data type of arithmetic expressions is always the more precise data type. For this problem, we want to make sure our operands are always integers, so our results are always integers. You can't have a fraction of a coin!\n",
    "\n",
    "Example output:\n",
    "\n",
    "```\n",
    "Enter the total cost: 14.32\n",
    "Enter the cash payment: 20\n",
    "\n",
    "Change: $5.68\n",
    "Dollars: 5\n",
    "Quarters: 2\n",
    "Dimes: 1\n",
    "Nickels: 1\n",
    "Pennies: 3\n",
    "```"
   ]
  },
  {
   "cell_type": "markdown",
   "metadata": {},
   "source": [
    "## Task 4\n",
    "Write a program that prompts the user to enter degrees in Farenheit ($F$) and converts Farenheit to Celsius ($C$) and Kelvin ($K$). The relevant formulas are as follows:\n",
    "\n",
    "Farenheit to Celsius:\n",
    "$$C = \\frac{5}{9}(F - 32)$$\n",
    "\n",
    "Celsius to Kelvin:\n",
    "$$K = C + 273.15$$\n",
    "\n",
    "You can check your work with [this online temperature converter](http://www.unit-conversion.info/temperature.html)\n",
    "\n",
    "Example output:\n",
    "\n",
    "```\n",
    "Please enter the degrees in Farenheit: 212\n",
    "212.00 degrees Farenheit is 100.00 degrees Celsius and 373.15 degrees Kelvin\n",
    "```"
   ]
  },
  {
   "cell_type": "markdown",
   "metadata": {},
   "source": [
    "## Task 5\n",
    "Write a program that predicts the score needed on a final exam to achieve a desired grade in a course.\n",
    "\n",
    "Example output:\n",
    "\n",
    "```\n",
    "Please enter the desired grade in the course: B\n",
    "Please enter the minimum average required to get a B: 79.5\n",
    "Please enter your current average in the course: 74.6\n",
    "Please enter how much the final counts a percentage of the course grade: 25\n",
    "You need a score of 94.20 on the final to get a B\n",
    "```\n",
    "\n",
    "Hint: minimum average = weight of final \\* final score + weight of current average \\* current average, then solve for final score."
   ]
  },
  {
   "cell_type": "markdown",
   "metadata": {},
   "source": [
    "## Task 6\n",
    "(Adapted from Hanly and Koffman) Write a program to assist in the design of a hydroelectric dam. Prompt the user for the height of the dam and for the number of cubic meters of water that are projected to flow from the top to the bottom of the dam each second. \n",
    "\n",
    "Predict how many megawatts ($1 MW = 10^6 W$) of power will be produced if 90% of the work done on the water by gravity is converted to electrical energy. \n",
    "\n",
    "The relevant formula is $w = mgh$, where $m$ = mass, $g$ = gravity, and $h$ = height. Use 9.80 $meters/second^{2}$ as the gravitational constant $g$. \n",
    "\n",
    "Note: The mass of one cubic meter of water is 1000 kg. \n",
    "\n",
    "Example output:\n",
    "\n",
    "```\n",
    "Please enter the height of the dam: 170.0\n",
    "Please enter the number of cubic meters  of water flowing through of the dam each second: 1300.0\n",
    "Megawatts of power for 170.00 m tall dam with 1300.00 cubic meters of flow is: 1949.22 MW\n",
    "```"
   ]
  },
  {
   "cell_type": "markdown",
   "metadata": {
    "collapsed": true
   },
   "source": [
    "## Task 7\n",
    "Write a program that performs two tasks\n",
    "1. Calculates a final time given a starting time and an elapsed amount of time. Prompt the user to enter the starting time in hours and minutes. Prompt the user to enter the elapsed amount of time in minutes. Compute the ending time after the time elapsed and report it to the user in hours and minutes.\n",
    "1. Calculates the elapsed time given a starting time and an elapsed amount of time.\n",
    "\n",
    "Note: How to split total minutes into hours and minutes? Think integer division and modulus!\n",
    "\n",
    "Example output:\n",
    "\n",
    "```\n",
    "Please enter the hour: 10\n",
    "Please enter minutes: 5\n",
    "Please enter elapsed minutes: 55\n",
    "Ending time: 11:0\n",
    "\n",
    "Please enter the starting hour: 5\n",
    "Please enter the starting minutes: 45\n",
    "Please enter the ending hour: 6\n",
    "Please enter the ending minutes: 15\n",
    "0 hours and 30 mins elapsed\n",
    "```"
   ]
  },
  {
   "cell_type": "markdown",
   "metadata": {},
   "source": [
    "## Task 8\n",
    "(Adapted from problem 3.9, Zelle 2010) Write a program to calculate the area of a triangle given the length of its three sides $a$, $b$, and $c$ using these formulas:\n",
    "\n",
    "![](https://raw.githubusercontent.com/gsprint23/cpts111/master/labs/figures/herons.gif)\n",
    "(image from [https://bhs-methods10.wikispaces.com/file/view/08Zheron.GIF/382197322/08Zheron.GIF](https://bhs-methods10.wikispaces.com/file/view/08Zheron.GIF/382197322/08Zheron.GIF))\n",
    "\n",
    "Prompt the user to enter the length of the triangle's three sides. You can check you work with [this online calculator](http://www.mathopenref.com/heronsformula.html).\n",
    "\n",
    "Note: You can use `sqrt()` from the `math` module.\n",
    "\n",
    "Example output:\n",
    "\n",
    "```\n",
    "Please enter the length of the side 1: 4.56\n",
    "Please enter the length of the side 2: 2.32\n",
    "Please enter the length of the side 3: 5.90\n",
    "The area of a triangle with sides 4.56, 2.32, 5.90 is 4.83\n",
    "```"
   ]
  },
  {
   "cell_type": "markdown",
   "metadata": {},
   "source": [
    "## Task 9\n",
    "Newton's theory of gravitation states that the force between two\n",
    "bodies is inversely proportional to the square of the distance between them. We can use this theory\n",
    "to calculate the force on a mass due to the earth's gravity:\n",
    "\n",
    "$$F = G \\frac{m_e \\times m_x}{(r + d)^{2}}$$\n",
    "\n",
    "where $r$ is the radius of the earth given approximately by $6.3781 \\times 10^{6}$ m, $d$ is the distance of an object from the earth's surface, $m_e$ is the earth's mass approximately $5.97219 \\times 10^{24}$ kg, $m_x$ is the object's mass, and $G$ is the gravitational constant given by $6.67300 \\times 10^{−11} m^3 kg^{−1} s^{−2}$. This equation gives force in terms of newtons [N].\n",
    "\n",
    "Write a program that prompts the user for a distance $d$ and mass $m_x$ and calculates the force on this mass due to earth's gravity. Recall that on earth we commonly call this force weight and measure it in pounds, so display the force both in terms of newtons and pounds (0.224808943 pounds = 1 newton). \n",
    "\n",
    "Note: A number like $1.23 × 10^{−45}$ can be written as the float literal `1.23e-45` in Python.\n",
    "\n",
    "Example output:\n",
    "\n",
    "For a person with a mass of 54.48733 kg, your program should result in the following:\n",
    "```\n",
    "Please enter a mass [kg]: 54.48733\n",
    "Please enter a distance from the surface of the earth [m]: 0\n",
    "Force of gravity on this mass 533.7865 [N]\n",
    "Force of gravity on this mass 120.0000 [pounds]\n",
    "```\n",
    "\n",
    "A typical jet cruises at an altitude of approximately 10,000 m above the surface of the earth\n",
    "(32,808.4 feet). Our person loses more than a third of a pound just by flying on a plane.\n",
    "\n",
    "```\n",
    "Please enter a mass [kg]: 54.48733\n",
    "Please enter a distance from the surface of the earth [m]: 10000\n",
    "Force of gravity on this mass 532.1167 [N]\n",
    "Force of gravity on this mass 119.6246 [pounds]\n",
    "```"
   ]
  },
  {
   "cell_type": "markdown",
   "metadata": {
    "collapsed": true
   },
   "source": [
    "## Task 10\n",
    "(Adapted from problem 3.10, Zelle 2010) Write a program to determine the length of a ladder required to reach a given height when leaned against a tree. \n",
    "![](https://raw.githubusercontent.com/gsprint23/cpts111/master/labs/figures/ladder.png)\n",
    "(image modified from [http://etc.usf.edu/clipart/43100/43170/tree2_43170_lg.gif](http://etc.usf.edu/clipart/43100/43170/tree2_43170_lg.gif))\n",
    "\n",
    "The height of the tree at which the ladder is leaning and angle of the ladder in degrees ($\\theta$) with the ground are given as inputs from the user. To compute the ladder length, use the following formula:\n",
    "\n",
    "$$length = \\frac{height}{sin(\\theta)}$$\n",
    "\n",
    "Note: The angle must be in radians. Prompt for an angle in degrees and use this formula to convert degrees to radians:\n",
    "\n",
    "$$radians = \\frac{\\pi}{180}\\times \\theta$$\n",
    "\n",
    "Example output:\n",
    "\n",
    "```\n",
    "Please enter the height of the tree at which the ladder is leaning [meters]: 10.50\n",
    "Please enter the angle of the ladder with the ground [degrees]: 50.00\n",
    "The required length of ladder is 13.71 meters\n",
    "```\n",
    "\n",
    "Hint: Use `sin()` from the `math` module. Here is starter code to do this:"
   ]
  },
  {
   "cell_type": "code",
   "execution_count": 3,
   "metadata": {},
   "outputs": [
    {
     "name": "stdout",
     "output_type": "stream",
     "text": [
      "1.2246467991473532e-16\n"
     ]
    }
   ],
   "source": [
    "import math\n",
    "\n",
    "x = math.pi\n",
    "y = math.sin(x)\n",
    "print(y)"
   ]
  }
 ],
 "metadata": {
  "anaconda-cloud": {},
  "kernelspec": {
   "display_name": "Python 3",
   "language": "python",
   "name": "python3"
  },
  "language_info": {
   "codemirror_mode": {
    "name": "ipython",
    "version": 3
   },
   "file_extension": ".py",
   "mimetype": "text/x-python",
   "name": "python",
   "nbconvert_exporter": "python",
   "pygments_lexer": "ipython3",
   "version": "3.7.1"
  }
 },
 "nbformat": 4,
 "nbformat_minor": 1
}
