{
 "cells": [
  {
   "cell_type": "markdown",
   "metadata": {},
   "source": [
    "# [CptS 111 Introduction to Algorithmic Problem Solving](http://piazza.com/wsu/spring2017/cpts111/home)\n",
    "[Washington State University](https://wsu.edu)\n",
    "\n",
    "[Gina Sprint](http://eecs.wsu.edu/~gsprint/)\n",
    "## Lab6 More Conditionals (10 pts)\n",
    "\n",
    "### Learner Objectives\n",
    "At the conclusion of this lab, participants should be able to:\n",
    "* Implement `if-elif-else` statements\n",
    "* Implement nested `if` statements\n",
    "\n",
    "### Prerequisites\n",
    "Before starting this lab, participants should be able to:\n",
    "* Understand Boolean conditions\n",
    "* Apply `if-else` statements\n",
    "* import and use the `turtle` graphics library\n",
    "\n",
    "#### Task 0 and Pair Task\n",
    "Task 0 will be completed as a group with step-by-step guidance from your TA. After Task 0, your TA will group you into pairs and assign you a task (one of Tasks 1-10).\n",
    "\n",
    "#### Additional Tasks\n",
    "Once you complete Task 0 and your assigned task with a partner (pair task), you are to continue solving additional lab tasks until the end of lab. You are encouraged to complete *all* of the lab tasks. Practice, practice, practice! \n",
    "\n",
    "#### Completing a Task\n",
    "When you complete a task, show your TA your code and output. Also, help others with this task either in person or by answering questions in your [Piazza](http://piazza.com/wsu/spring2017/cpts111/home) lab section group. Helping your peers benefits both you and your classmates, as Albert Einstein said, \"You do not really understand something unless you can explain it to your grandmother.\" :)\n",
    "\n",
    "#### Lab Dismissal\n",
    "You are dismissed from lab when your TA dismisses you, or after 3 hours, whichever comes first. Your TA will dismiss you once you have demonstrated mastery of the material (completed a certain number of tasks). Should you demonstrate mastery before the end of lab, you are encouraged to stay and perform a combination of the following:\n",
    "* Help your peers\n",
    "* Work on additional tasks\n",
    "* Work on the current programming assignment\n",
    "\n",
    "Take advantage of your TA and your peers as resources and make the most of lab time!"
   ]
  },
  {
   "cell_type": "markdown",
   "metadata": {},
   "source": [
    "## Task 1\n",
    "This project is adapted from chapter 4 (problem 6) Hanly & Koffman. The problem states the following:\n",
    "\n",
    "Write a program that takes the x – y coordinates of a point in the Cartesian plane and prints a message telling either an axis on which the point lies or the quadrant in which it is found (note: don’t forget to handle the case where the user enters the origin as input).\n",
    "![](https://raw.githubusercontent.com/gsprint23/cpts111/master/labs/figures/quadrant.png)\n",
    "\n",
    "Define functions where appropriate! \n",
    "\n",
    "Examples: `(-1.0, -2.5) is in quadrant III` and `(0.0, 4.8) is on the y-axis`"
   ]
  },
  {
   "cell_type": "markdown",
   "metadata": {},
   "source": [
    "## Task 2\n",
    "For this task, we will use Turtle graphics. Write a program the let's the user pick the pen color, pen size, and shape to draw. \n",
    "\n",
    "We will support the following pen colors:\n",
    "1. blue\n",
    "1. green\n",
    "1. red\n",
    "\n",
    "Pen sizes are in the range [1, 10] inclusive. \n",
    "\n",
    "Optional shapes include those from Lab 4:\n",
    "* square\n",
    "* star\n",
    "* snowflake\n",
    "\n",
    "If the pen color, pen size, or shape is not valid, we will tell the user and not draw a shape. Otherwise, we will do as the user wishes!\n",
    "\n",
    "Define functions where appropriate! "
   ]
  },
  {
   "cell_type": "markdown",
   "metadata": {},
   "source": [
    "## Task 3\n",
    "This project is adapted from chapter 4 (problem 11) Hanly & Koffman. The problem states the following:\n",
    "\n",
    "The table below shows the normal boiling points of several substances.\n",
    "\n",
    "|Substance|Normal boiling point (°C)|\n",
    "|-|-|\n",
    "|Water|100|\n",
    "|Mercury|357|\n",
    "|Copper|1187|\n",
    "|Silver|2193|\n",
    "|Gold|2660|\n",
    "\n",
    "Write a program that prompts the user for the observed boiling point of a substance in °C and a percentage threshold `x`. The program will identify the substance if the observed boiling point is within `x`% of the expected boiling point. If the data input is more than `x`% higher or lower than any of the boiling points in the table, the program should output the message: \"Substance unknown\".\n",
    "\n",
    "Your program should define and call a function `within_x_percent()` that accepts the following parameters:\n",
    "1. A reference value `ref`\n",
    "1. An observation data value entered by the user `data`\n",
    "1. A percentage value `x`\n",
    "\n",
    "`within_x_percent()` returns `True` if data is within `x`% of `ref`. To further explain, `(ref – x% * ref) ≤ data ≤ (ref + x % * ref)`. Otherwise `within_x_percent()` would return `False`. \n",
    "\n",
    "For example, the call `within_x_percent(357, 323, 10)` would return `True`, since 10% of 357 is 35.7, and 323 falls between 321.3 and 392.7.\n",
    "\n",
    "Define functions where appropriate! \n",
    "\n",
    "Example output:\n",
    "\n",
    "```\n",
    "Please enter the boiling point of a substance in degrees Celsius: 104.5\n",
    "Please enter the percentage threshold for identifying a substance: %5.0\n",
    "Substance is likely Water.\n",
    "```"
   ]
  },
  {
   "cell_type": "markdown",
   "metadata": {},
   "source": [
    "## Task 4\n",
    "Write a simple calculator program that can perform addition, subtraction, multiplication, division, integer division, and modulus.  The program flow for your calculator is as follows:\n",
    "1.\tPrompt user for left-hand value\n",
    "1.\tPrompt user for operator (e.g. `+`,`-`,`*`,`/`,`//`,`%`)\n",
    "1.\tPrompt user for right-hand value\n",
    "1.\tOutput result\n",
    "\n",
    "Define functions where appropriate! \n",
    "\n",
    "Also, are there any special cases we should consider handling? Think about what might happen if the the user enters a 0 for the right-hand value? We can handle this with `if` statements."
   ]
  },
  {
   "cell_type": "markdown",
   "metadata": {},
   "source": [
    "## Task 5\n",
    "This project is adapted from chapter 4 (problem 9) Hanly & Koffman. The problem states the following:\n",
    "\n",
    "Chatflow Wireless offers customers 600 weekday minutes for a flat rate of \\$39.99. Night (8 PM to 7 AM) and weekend minutes are free, but additional weekday minutes cost \\$0.40 each. There are taxes of 5.25% on all charges.\n",
    "\n",
    "Write a program that prompts the user to enter the number of weekday minutes, night minutes, and weekend minutes used, and calculates the monthly bill and average cost of a minute before taxes. \n",
    "\n",
    "The program should display with labels the the pretax bill, average minute cost, the tax, and the total bill.\n",
    "\n",
    "Define functions where appropriate! "
   ]
  },
  {
   "cell_type": "markdown",
   "metadata": {
    "collapsed": true
   },
   "source": [
    "## Task 6\n",
    "This project is adapted from chapter 4 (problem 8) Hanly & Koffman. The problem states the following:\n",
    "\n",
    "Write a program that determines if a vehicle is exceeding certain pollutant's permitted levels of emissions. Prompt the user for the pollutant, number of grams emitted per mile, and the odometer reading for the vehicle. Use the table of emissions limits below to determine the appropriate emissions message.\n",
    "\n",
    "||First 50,000 Miles|Second 50,000 Miles\n",
    "|-|-|-|\n",
    "|Carbon monoxide|3.4 grams/mile|4.2 grams/mile|\n",
    "|Hydrocarbons|0.31 grams/mile|0.39 grams/mile|\n",
    "|Nitrogen oxides|0.4 grams/mile|0.5 grams/mile|\n",
    "|Nonmethane hydrocarbons|0.25 grams/mile|0.31 grams/mile|\n",
    "\n",
    "Define functions where appropriate! \n",
    "\n",
    "Example output:\n",
    "```\n",
    "(1) Carbon monoxide\n",
    "(2) Hydrocarbons\n",
    "(3) Nitrogen oxides\n",
    "(4) Nonmethane hydrocarbons\n",
    "\n",
    "Please enter the pollutant number: 2\n",
    "Please enter the number of grams emitted per mile: 0.35\n",
    "Please enter the odometer reading: 40112\n",
    "Emissions exceed permitted level of 0.31 grams/mile\n",
    "```"
   ]
  },
  {
   "cell_type": "markdown",
   "metadata": {},
   "source": [
    "## Task 7\n",
    "This project is adapted from chapter 4 (problem 7) Hanly & Koffman. The problem states the following:\n",
    "\n",
    "Write a program that determines the day number (1 to 366) in a year for a date that is provided as input data. As an example, January 1, 1994, is day 1. December 31, 1993, is day 365. December 31, 1996, is day 366, since 1996 is a leap year. A year is a leap year if it is divisible by four, except that any year divisible by 100 is a leap year only if it is divisible by 400. Your program should accept the month, day, and year as integers. \n",
    "\n",
    "Include a function `is_leap()` that returns 1 if called with a leap year, 0 otherwise. Note: Lab 5 contains a similar task to `is_leap()`.\n",
    "\n",
    "Define functions where appropriate! "
   ]
  },
  {
   "cell_type": "markdown",
   "metadata": {},
   "source": [
    "## Task 8\n",
    "Re-write PA1 using functions."
   ]
  },
  {
   "cell_type": "markdown",
   "metadata": {},
   "source": [
    "## Task 9\n",
    "Add new functionality to PA1 to make the chatbot more interesting:\n",
    "* Call the user a \"Pullmanite\" if they are from Pullman. Otherwise use code from PA2 to tell the user how far away their hometown is from Pullman, WA. Tell them if their hometown is \"close\" or \"far\" from Pullman.\n",
    "* Tell the user if they are younger or older than your chatbot.\n",
    "* If the user's dream car is 6 figures, tell them.\n",
    "* Other ideas? Enjoy!"
   ]
  },
  {
   "cell_type": "markdown",
   "metadata": {},
   "source": [
    "## Task 10\n",
    "Complete all of the tasks you have not yet completed from Labs 1-5. \n",
    "\n",
    "Define functions where appropriate!"
   ]
  }
 ],
 "metadata": {
  "anaconda-cloud": {},
  "kernelspec": {
   "display_name": "Python 3",
   "language": "python",
   "name": "python3"
  },
  "language_info": {
   "codemirror_mode": {
    "name": "ipython",
    "version": 3
   },
   "file_extension": ".py",
   "mimetype": "text/x-python",
   "name": "python",
   "nbconvert_exporter": "python",
   "pygments_lexer": "ipython3",
   "version": "3.7.1"
  }
 },
 "nbformat": 4,
 "nbformat_minor": 1
}
