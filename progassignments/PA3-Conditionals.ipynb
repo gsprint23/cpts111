{
 "cells": [
  {
   "cell_type": "markdown",
   "metadata": {},
   "source": [
    "# [CptS 111 Introduction to Algorithmic Problem Solving](https://github.com/gsprint23/cpts111)\n",
    "[Washington State University](https://wsu.edu)\n",
    "\n",
    "[Gina Sprint](http://eecs.wsu.edu/~gsprint/)\n",
    "## PA3 Conditionals (100 pts)\n",
    "\n",
    "### Learner Objectives\n",
    "At the conclusion of this programming assignment, participants should be able to:\n",
    "* Evaluate Boolean expressions\n",
    "* Apply relational and logical operators\n",
    "* Implement `if` statements\n",
    "\n",
    "### Prerequisites\n",
    "Before starting this programming assignment, participants should be able to:\n",
    "* Get input from the user\n",
    "* Display output to the user\n",
    "* Define and call functions\n",
    "\n",
    "### Acknowledgments\n",
    "Content used in this assignment is based upon information in the following sources:\n",
    "* The [Spotify Tracks API](https://developer.spotify.com/web-api/get-track/)"
   ]
  },
  {
   "cell_type": "markdown",
   "metadata": {
    "collapsed": true
   },
   "source": [
    "### Overview and Requirements\n",
    "Write an \"are you a fan\" quiz program (quiz.py). The program will quiz the user on a topic of your choosing (keep the topic appropriate!!). For quiz ideas, check out [this website](http://www.allthetests.com/fan-quizzes-tests-Fantests.php).\n",
    "\n",
    "Note: If you would like to attempt the bonus (see below), you may want to choose a topic that is related to music in some way.\n",
    "\n",
    "Note: Please cite all sources you use in your code."
   ]
  },
  {
   "cell_type": "markdown",
   "metadata": {},
   "source": [
    "### Program Details\n",
    "Your quiz must contain 10 questions. These 10 questions include **at least 2 of each of the following different types of questions**:\n",
    "\n",
    "#### Multiple choice (5 options a-e)\n",
    "The user enters in a character \"a\" through \"e\" for their answer.\n",
    "\n",
    "Example:\n",
    "\n",
    "```\n",
    "1) The population of Pullman is roughly what? Please enter a character a-e.\n",
    "a) 10k\n",
    "b) 20k\n",
    "c) 30k\n",
    "d) 40k\n",
    "e) 50k\n",
    "```\n",
    "\n",
    "####  Numeric Response\n",
    "The user enters in a numeric response to an open ended question. I recommend prompting the user to enter an integer. If you choose to use floats, be specific to the user about how they should enter their response (i.e. rounded and/or a certain number of decimal places).\n",
    "\n",
    "Example:\n",
    "\n",
    "```\n",
    "How many students are enrolled in this class? Please enter an integer.\n",
    "```\n",
    "#### True/False (Boolean)\n",
    "The user enters 1 or 0 in response to a statement. **Convert the string returned by `input()` into an integer, and then convert the integer into a Boolean with `bool()`. Then compare the `bool` response value to the reserved keywords `True` or `False`.**\n",
    "\n",
    "Example:\n",
    "\n",
    "```\n",
    "Pullman used to be called \"Three Forks\", true or false? Please enter 1 for True or 0 for False.\n",
    "```\n",
    "\n",
    "#### Additional Requirements\n",
    "1. For each question:\n",
    "    1. **Define a function. The function should return the following**:\n",
    "        1. 1 (`int`) if the user answered correctly\n",
    "        1. 0 (`int`) if the user answered incorrectly\n",
    "    1. Explicitly tell the user the format in which they should enter their response. \n",
    "    1. Number each question.\n",
    "    1. Always tell the user if they answer correctly or incorrectly. \n",
    "        * If the user answered incorrectly, provide the correct answer.\n",
    "        * Use an `if-else` structure to do this.\n",
    "1. Define a `main()` function that drives your program. `main()` should count the number of correct answers (this is the user's quiz score).\n",
    "1. At the end of the quiz, tell the user their final score, plus a fun statement about how much of a \"fan\" they are of the quiz's topic (use an `if-elif-else` structure, which means you need at least 3 different fun statements based on the user's score)."
   ]
  },
  {
   "cell_type": "markdown",
   "metadata": {},
   "source": [
    "### Example Run\n",
    "Here is a shortened example run of a quiz based on Game of Thrones. Credit for much of the content goes to these two online quizzes: [Q1](http://www.allthetests.com/quiz32/quiz/1424600000/Game-Of-Thrones-Quiz) and [Q2](http://www.allthetests.com/quiz31/quiz/1421977678/A-Song-Of-Ice-And-FireGame-Of-Thrones-Quiz).\n",
    "\n",
    "```\n",
    "Welcome to the Game of Thrones Quiz!!\n",
    "1) Which Dire-wolf belonged to Robb? Please enter a character a-e.\n",
    "a) Lady\n",
    "b) Summer\n",
    "c) Grey Wind \n",
    "d) Nimeria\n",
    "e) Ghost\n",
    "b\n",
    "Sorry, that is wrong. The answer is c) Grey Wind.\n",
    "\n",
    "2) How many dragons does Daenerys own? Please enter an integer.\n",
    "\n",
    "3\n",
    "You are correct!\n",
    "\n",
    "[output removed for brevity]\n",
    "\n",
    "9) Name one of Daenerys' dragons. Please enter a string in all lower case.\n",
    "\n",
    "drogon\n",
    "Awesome, nice work!\n",
    "\n",
    "10) Who wins the Kingsmoot on the iron isles? Please enter a character a-e.\n",
    "a) Asha Greyjoy\n",
    "b) Reek\n",
    "c) Balon Greyjoy\n",
    "d) Euron Greyjoy\n",
    "e) Ramsay Bolton\n",
    "\n",
    "d\n",
    "Woohoo, look at you go!\n",
    "\n",
    "You scored 9 questions correctly. Wow, you know your Game of Thrones!\n",
    "```"
   ]
  },
  {
   "cell_type": "markdown",
   "metadata": {},
   "source": [
    "### Bonus (5 pts)\n",
    "Identify a (somewhat) popular song that is related to your quiz topic of choice. For example, if your quiz topic is the TV show \"Friends\", a popular song related to \"Friends\" is the theme song, \"I'll be There for You\" by The Rembrandts. \n",
    "\n",
    "Add an 11th question to your quiz that asks the user, \"On a scale from 0 (least popular) to 100 (most popular), what is the current Spotify popularity of `<song and song relevance to quiz topic>`?\" Answer this question using and `if-elif-else` structure, based on how close the user's answer is to the actual Spotfiy popularity.\n",
    "\n",
    "We can find out the *actual, current* Spotify popularity for a song by using the [Spotify Tracks API](https://developer.spotify.com/web-api/get-track/). API stands for application programming interface. An API provides functions for programmers to use, without needing to know the details of the implementation. We can request information from Spotify about songs via its API.\n",
    "\n",
    "#### Spotify API Starter Code\n",
    "At this point in the course, we haven't learned the skills necessary to query the Spotify API and extract the required information from the response. Consequently, I am providing code for you to **copy and paste** into your program that does this for you. **Do not modify this code.**"
   ]
  },
  {
   "cell_type": "code",
   "execution_count": 2,
   "metadata": {
    "collapsed": true
   },
   "outputs": [],
   "source": [
    "import urllib.request\n",
    "\n",
    "def format_search_term(search_term):\n",
    "    '''\n",
    "    111 students: no need to call this function\n",
    "    To prepare the search term string for the query:\n",
    "    1. remove comma\n",
    "    2. replace spaces with +\n",
    "    '''\n",
    "    search_term = search_term.replace(\",\", \"\")\n",
    "    search_term = search_term.replace(\" \", \"+\")\n",
    "    return search_term\n",
    "  \n",
    "def build_query(query):\n",
    "    '''\n",
    "    111 students: no need to call this function\n",
    "    Builds the query string for the Spotify Search API according to this website:\n",
    "    https://developer.spotify.com/web-api/console/get-search-item/\n",
    "    '''\n",
    "    query_base = \"https://api.spotify.com/v1/search?q=\"    \n",
    "    query = query_base + query\n",
    "    # perform a track search and only return the top result\n",
    "    query += \"&type=track&limit=1\"\n",
    "    return query\n",
    "    \n",
    "def extract_numeric_value(results_str, label):\n",
    "    '''\n",
    "    111 students: no need to call this function\n",
    "    Extracts an integer value represented by the label parameter from the JSON response.\n",
    "    '''\n",
    "    index = results_str.find(label)\n",
    "    results_str = results_str[index:]\n",
    "    index = results_str.find(\":\")\n",
    "    results_str = results_str[index + 2:]\n",
    "    index = results_str.find(\",\")\n",
    "    results_str = results_str[:index]\n",
    "    value = int(results_str)\n",
    "    return value\n",
    "    \n",
    "def get_track_popularity(track, artist):\n",
    "    '''\n",
    "    111 STUDENTS: THIS IS THE FUNCTION YOU WILL CALL\n",
    "    Accepts 3 strings representing a track and its artist\n",
    "    Returns the popularity for track and artist\n",
    "    '''\n",
    "    track = format_search_term(track)\n",
    "    artist = format_search_term(artist)\n",
    "    \n",
    "    # search the spotify database for a track by artist\n",
    "    search_terms = track + \"+\" + artist\n",
    "    \n",
    "    query = build_query(search_terms)\n",
    "\n",
    "    web_obj = urllib.request.urlopen(query)\n",
    "    # web_obj.read() returns an array of bytes, need to convert to a string\n",
    "    results_str = str(web_obj.read())\n",
    "    web_obj.close()\n",
    "    \n",
    "    info = extract_numeric_value(results_str, \"popularity\")\n",
    "    return info"
   ]
  },
  {
   "cell_type": "markdown",
   "metadata": {},
   "source": [
    "#### Spotify API Example\n",
    "The **only function you need to interact with** is `get_track_popularity(<track string>, <artist string>)`. Here is an example of how to call `get_track_popularity()`:"
   ]
  },
  {
   "cell_type": "code",
   "execution_count": 3,
   "metadata": {},
   "outputs": [
    {
     "name": "stdout",
     "output_type": "stream",
     "text": [
      "I'll be there for you by The Rembrandts has popularity 57.\n"
     ]
    }
   ],
   "source": [
    "# I'll be there for you is the theme song from the TV show Friends\n",
    "\n",
    "popularity = get_track_popularity(\"I'll be there for you\", \"The Rembrandts\")\n",
    "print(\"I'll be there for you by The Rembrandts has popularity %d.\" %(popularity))"
   ]
  },
  {
   "cell_type": "markdown",
   "metadata": {},
   "source": [
    "### Submitting Assignments\n",
    "1.\tUse the Blackboard tool https://learn.wsu.edu to submit your assignment to your TA. You will submit your code to the corresponding programming assignment under the \"Assignment Turn-In\" tab. You must upload your solutions as `<your last name>_pa3.zip` by the due date and time.\n",
    "2.\tYour .zip file should contain your .py file.\n",
    "\n",
    "**Note: By submitting your code to be graded, you are stating that your submission does not violate the CptS 111 Academic Integrity Policy outlined in the [Syllabus](http://nbviewer.jupyter.org/github/gsprint23/cpts111/blob/master/Syllabus.ipynb)**."
   ]
  },
  {
   "cell_type": "markdown",
   "metadata": {},
   "source": [
    "### Grading Guidelines\n",
    "This assignment is worth 100 points + 5 points bonus. Your assignment will be evaluated based on a successful compilation and adherence to the program requirements. We will grade according to the following criteria:\n",
    "* 40 pts for 10 functions defined to represent the following:\n",
    "    * 10 pts for at least 2 multiple choice questions\n",
    "    * 10 pts for at least 2 numeric response questions\n",
    "    * 10 pts for at least 2 Boolean questions\n",
    "    * 10 pts for 4 additional questions (your choice on question type)\n",
    "* 10 pts for proper type casting and comparisons for True/False questions with the `bool` type \n",
    "* 10 pts for proper use of function `return` values (integers 1 or 0) to denote correct/incorrect answers\n",
    "* 15 pts for correct `main()` function\n",
    "* 5 points for numbering questions and stating the response format in your question prompts\n",
    "* 5 points for letting the user know if they are correct and for providing the correct answer when they are wrong\n",
    "* 10 points for displaying a message at the end of the quiz based on the number of correct responses using an `if-elif-else` structure\n",
    "* 5 pts for adherence to proper programming style and comments established for the class"
   ]
  }
 ],
 "metadata": {
  "anaconda-cloud": {},
  "kernelspec": {
   "display_name": "Python 3",
   "language": "python",
   "name": "python3"
  },
  "language_info": {
   "codemirror_mode": {
    "name": "ipython",
    "version": 3
   },
   "file_extension": ".py",
   "mimetype": "text/x-python",
   "name": "python",
   "nbconvert_exporter": "python",
   "pygments_lexer": "ipython3",
   "version": "3.7.1"
  }
 },
 "nbformat": 4,
 "nbformat_minor": 1
}
