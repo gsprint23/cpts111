{
 "cells": [
  {
   "cell_type": "markdown",
   "metadata": {},
   "source": [
    "# [CptS 111 Introduction to Algorithmic Problem Solving](https://github.com/gsprint23/cpts111)\n",
    "[Washington State University](https://wsu.edu)\n",
    "\n",
    "[Gina Sprint](http://eecs.wsu.edu/~gsprint/)\n",
    "## PA5 File I/O and Strings (100 pts)\n",
    "\n",
    "### Learner Objectives\n",
    "At the conclusion of this programming assignment, participants should be able to:\n",
    "* Open a file for reading and read information from the file\n",
    "* Open a file for writing and write information to the file\n",
    "* Close a file\n",
    "* Work with strings\n",
    "\n",
    "### Prerequisites\n",
    "Before starting this programming assignment, participants should be able to:\n",
    "* Implement loops\n",
    "\n",
    "### Acknowledgments\n",
    "Content used in this assignment is based upon information in the following sources:\n",
    "* [Google Maps API](https://developers.google.com/maps/web-services/overview)"
   ]
  },
  {
   "cell_type": "markdown",
   "metadata": {
    "collapsed": true
   },
   "source": [
    "### Overview and Requirements\n",
    "Write a program (road_trip.py) that computes simple statistics about a road trip! To do this, we are going to use the [Google Maps API](https://developers.google.com/maps/web-services/overview). API stands for application programming interface. An API provides functions for programmers to use, without needing to know the details of the implementation. For example, Google Maps is a complex, well-tested program. We can use Google Maps via its API without knowing Google Map's details. This is also one of the beauties of functions. As long as we know:\n",
    "1. The name of the function to call\n",
    "1. What parameter(s) the functions expects\n",
    "1. What the function returns\n",
    "\n",
    "Then we can use Google Maps!\n",
    "\n",
    "### Program Details\n",
    "Write a program that reads in US locations from an input file. The locations include a road trip origin (starting location), destination (ending location), and several road trip \"waypoints\" (stops in between the origin and destination). \n",
    "\n",
    "#### Input File Format\n",
    "The road trip file is a text file formatted such that it starts with the origin location and ends with the destination location. In between the origin and destination are waypoint/day pairs: one waypoint per line, immediately followed by the number of days spent at a waypoint on the next line. Waypoint/days spent pairs are separated from other waypoint/days spent pairs by a blank line. Here is an example with an origin (Seattle, WA), two waypoints (1 day spent in Portland, OR and 3 days spent in San Francisco, CA), and destination (San Diego, CA):\n",
    "\n",
    "```\n",
    "Seattle, WA\n",
    "\n",
    "Portland, OR\n",
    "1\n",
    "\n",
    "San Francisco, CA\n",
    "3\n",
    "\n",
    "San Diego, CA\n",
    "```\n",
    "\n",
    "Here is an example input file [florida_roadtrip.txt](https://raw.githubusercontent.com/gsprint23/cpts111/master/progassignments/files/florida_roadtrip.txt) that represents a roadtrip I took in 2012. The origin of this roadtrip is Spokane, WA and the destination is Gainesville, FL. There are 10 waypoints between Spokane and Gainesville. \n",
    "\n",
    "Note: The road trip input file will always have an origin, at least 1 waypoint, and a destination in it. Your code should handle *any number of waypoints between [1, 23] inclusive in the road trip file*; you are guaranteed there will be at least one waypoint in the file.\n",
    "\n",
    "#### Program Output\n",
    "The output of your program has two parts:\n",
    "1. Status messages *displayed to the console*. These messages simply let the user know what the program is currently computing (e.g. \"Reading in road trip origin location from florida_roadtrip.txt...\", etc.).\n",
    "1. Road trip information and statistics *written to an output file*. Name your output file `<input file base name>_stats.txt`. For example, for the provided input file, \"florida_roadtrip.txt\", the corresponding output file is \"florida_roadtrip_stats.txt\". The stats to be written to the output file include:\n",
    "    1. Distances in miles between each consecutive road trip stop. See the starter code below for how to get this information.\n",
    "    1. Total number of waypoints on the road trip.\n",
    "    1. Total number of days on the road trip.\n",
    "    1. Total miles traveled on the road trip.\n",
    "    1. Names of the two waypoints with the most distance between them and that distance in miles.\n",
    "    1. Name of the waypoint with the longest stay and its number of days.\n",
    "    1. Average miles between between each stop (including origin, waypoints, and destination).\n",
    "    1. Average number of days spent at each waypoint.\n",
    "\n",
    "All distances reported should be in miles and with two decimal places.\n",
    "\n",
    "Note: The above stats are similar to the stats you computed for Lab 7 Task 2. The solution to this task is posted in Piazza."
   ]
  },
  {
   "cell_type": "markdown",
   "metadata": {},
   "source": [
    "#### Google Maps API Code\n",
    "I am providing code for you that queries the Google Maps API and extracts the required information from the response. To use this code, **copy and paste** it into your program. **Do not modify this code.**"
   ]
  },
  {
   "cell_type": "code",
   "execution_count": 1,
   "metadata": {
    "collapsed": true
   },
   "outputs": [],
   "source": [
    "import urllib.request\n",
    "\n",
    "def format_city_string(city_str):\n",
    "    '''\n",
    "    111 students: no need to call this function\n",
    "    To prepare the city string for the query:\n",
    "    1. remove comma\n",
    "    2. replace spaces with +\n",
    "    '''\n",
    "    city_str = city_str.replace(\",\", \"\")\n",
    "    city_str = city_str.replace(\" \", \"+\")\n",
    "    return city_str\n",
    "  \n",
    "def build_query(origin, dest):\n",
    "    '''\n",
    "    111 students: no need to call this function\n",
    "    Builds the query string for the Google Distance Matrix API according to this website:\n",
    "    https://developers.google.com/maps/documentation/distance-matrix/start\n",
    "    '''\n",
    "    query_base = \"http://maps.googleapis.com/maps/api/distancematrix/json?origins=\"    \n",
    "    query = query_base + origin\n",
    "    query += \"&destinations=\"\n",
    "    query += dest\n",
    "    query += \"&mode=driving&sensor=false\"\n",
    "    return query\n",
    "    \n",
    "def extract_distance(results_str):\n",
    "    '''\n",
    "    111 students: no need to call this function\n",
    "    Extracts the distance in meters from the JSON response.\n",
    "    '''\n",
    "    index = results_str.find(\"distance\")\n",
    "    results_str = results_str[index:]\n",
    "    index = results_str.find(\"value\")\n",
    "    results_str = results_str[index:]\n",
    "    index = results_str.find(\":\")\n",
    "    results_str = results_str[index + 2:]\n",
    "    index = results_str.find(r\"\\n\")\n",
    "    results_str = results_str[:index]\n",
    "    dist = int(results_str)\n",
    "    return dist\n",
    "    \n",
    "def get_distance(city1, city2):\n",
    "    '''\n",
    "    111 STUDENTS: THIS IS THE FUNCTION YOU WILL CALL\n",
    "    Accepts 2 strings representing cities in the U.S.\n",
    "    Returns the integer distance in meters between city1 and city2\n",
    "    '''\n",
    "    city1 = format_city_string(city1)\n",
    "    city2 = format_city_string(city2)\n",
    "    \n",
    "    query = build_query(city1, city2)\n",
    "\n",
    "    web_obj = urllib.request.urlopen(query)\n",
    "    # web_obj.read() returns an array of bytes, need to convert to a string\n",
    "    results_str = str(web_obj.read())\n",
    "    web_obj.close()\n",
    "    \n",
    "    dist = extract_distance(results_str)\n",
    "    return dist"
   ]
  },
  {
   "cell_type": "markdown",
   "metadata": {},
   "source": [
    "The **only function you need to interact with** is `get_distance(<city1 string>, <city2 string>)`. Here is an example of how to call `get_distance()`:"
   ]
  },
  {
   "cell_type": "code",
   "execution_count": 2,
   "metadata": {},
   "outputs": [
    {
     "name": "stdout",
     "output_type": "stream",
     "text": [
      "The distance between Seattle, WA and Pullman, WA is 457989 meters\n"
     ]
    }
   ],
   "source": [
    "dist = get_distance(\"Seattle, WA\", \"Pullman, WA\")\n",
    "print(\"The distance between Seattle, WA and Pullman, WA is %d meters\" %(dist))"
   ]
  },
  {
   "cell_type": "markdown",
   "metadata": {},
   "source": [
    "Note: Even though I am providing this code for you to copy and paste, read through it anyways for fun. In CptS 111, you have already learned much of what this code is doing to interface with the Google Maps API, how cool!? You can always ask the instructor or your TA any questions you may have about this code if you are interested :)"
   ]
  },
  {
   "cell_type": "markdown",
   "metadata": {},
   "source": [
    "#### Functions to Define\n",
    "You are free to decide which functions to define to solve this problem. Break the problem into tasks and build your solution accordingly. You will be graded on your approach. Ask the instructor or your TA for help with this!"
   ]
  },
  {
   "cell_type": "markdown",
   "metadata": {},
   "source": [
    "### Example Output\n",
    "Here is example output to the user (via the console) for the sample input file [florida_roadtrip.txt](https://raw.githubusercontent.com/gsprint23/cpts111/master/progassignments/files/florida_roadtrip.txt) (including the Bonus task):\n",
    "\n",
    "```\n",
    "Welcome to the road trip analyzer program, utilizing Google Maps!\n",
    "Roadtrip origin, destination, waypoints, and number of days spent at each waypoint will be read in from a file.     \n",
    "The program write to an output file the distance in miles between each waypoint on the trip\n",
    "and statistics about the trip. Enjoy!\n",
    "\n",
    "Reading in road trip stop information from florida_roadtrip.txt...\n",
    "\n",
    "Roadtrip origin: Spokane, WA\n",
    "Processing waypoint Yellowstone National Park, WY (2 days)...\n",
    "Processing waypoint Grand Teton National Park, WY (1 days)...\n",
    "Processing waypoint Salt Lake City, UT (1 days)...\n",
    "Processing waypoint Bryce Canyon National Park, UT (1 days)...\n",
    "Processing waypoint Grand Canyon, AZ (1 days)...\n",
    "Processing waypoint Surprise, AZ (2 days)...\n",
    "Processing waypoint Carlsbad Caverns National Park, NM (1 days)...\n",
    "Processing waypoint San Antonio, TX (3 days)...\n",
    "Processing waypoint New Orleans, LA (1 days)...\n",
    "Processing waypoint Panama City, FL (1 days)...\n",
    "Roadtrip destination: Gainesville, FL\n",
    "\n",
    "Writing stop stats to florida_roadtrip_stats.txt...\n",
    "(Bonus) Launching Google Maps for this roadtrip in the browser...\n",
    "Closing files...\n",
    "\n",
    "\n",
    "```\n",
    "\n",
    "And the associated output file [florida_roadtrip_stats.txt](https://raw.githubusercontent.com/gsprint23/cpts111/master/progassignments/files/florida_roadtrip_stats.txt)."
   ]
  },
  {
   "cell_type": "markdown",
   "metadata": {},
   "source": [
    "### Bonus (10 pts)\n",
    "Using the [Google Maps Embed API](https://developers.google.com/maps/documentation/embed/guide), create a webpage containing an embedded Google Map for the road trip. For example, the webpage we are going to build for [florida_roadtrip.txt](https://raw.githubusercontent.com/gsprint23/cpts111/master/progassignments/files/florida_roadtrip.txt) looks like the following:\n",
    "\n",
    "<img src=\"https://raw.githubusercontent.com/gsprint23/cpts111/master/progassignments/figures/florida_roadtrip.png\" width=\"500\">\n",
    "\n",
    "#### Bonus Setup\n",
    "To do the Bonus, you will need a free Google account and a free Google Maps API key:\n",
    "1. Go to the [Google Maps Embed API page](https://developers.google.com/maps/documentation/embed/guide)\n",
    "1. Scroll down to the \"API Key\" section and click the blue \"Get a key\" button \n",
    "1. Create a new project\n",
    "1. Copy the API key. In your Python program, declare a variable called `api_key` to store your copied API key. \n",
    "    1. **Set `api_key` to an empty string before you submit your code to Blackboard.** The grader will use their own key to run your code.\n",
    "    1. Why remove your API key? Read Google's [\"Best practices for securing API keys\"](https://support.google.com/googleapi/answer/6310037) page. The first bullet point reads: **\"Do not embed API keys directly in code\".** Storing your API key in a variable, `api_key` in your code is bad practice!! However, in CptS 111 it is \"okay\" because only you will have access to your key. If you are going to release your code to others (*after you finish CptS 111 because remember, you are not allowed to share your programming assignment code with others*) follow Google's [\"Best practices for securing API keys\"](https://support.google.com/googleapi/answer/6310037). \n",
    "    \n",
    "\n",
    "Next, read the [Google Maps Embed API documentation](https://developers.google.com/maps/documentation/embed/guide), specifically read:\n",
    "1. Overview\n",
    "2. Forming the URL\n",
    "3. Directions mode (we will need to use the parameter `waypoints`)\n",
    "\n",
    "#### Bonus Coding Tasks\n",
    "Now, we are ready to write code! There are 3 coding tasks for the bonus:\n",
    "1. (3 pts) Build a string for the `waypoints` parameter according to the [Google Maps Embed API documentation](https://developers.google.com/maps/documentation/embed/guide). While iterating through each waypoint in the input file, use the provided `format_city_string()` function from the starter code and the string concatenation operator to build a string for the waypoints parameter. For the [florida_roadtrip.txt](https://raw.githubusercontent.com/gsprint23/cpts111/master/progassignments/files/florida_roadtrip.txt) files, this string should look like the following (no spaces or newlines): \n",
    ">Yellowstone+National+Park+WY|Grand+Teton+National+Park+WY|Salt+Lake+City+UT|Bryce+Canyon+National+Park+UT|\n",
    "Grand+Canyon+AZ|Surprise+AZ|Carlsbad+Caverns+National+Park+NM|San+Antonio+TX|New+Orleans+LA|Panama+City+FL\n",
    "1. (4 pts) Write a function to build an `<iframe>` according to the [Google Maps Embed API documentation](https://developers.google.com/maps/documentation/embed/guide). This function should accept the following arguments and return the `<iframe>` string:\n",
    "    1. A string representing the origin and formatted by `format_city_string()`\n",
    "    1. A string representing the destination and formatted by `format_city_string()` (from the starter code)\n",
    "    1. A string representing the `waypoints` parameter (built in the previous step)\n",
    "1. (3 pts) Write a function to write the `<iframe>` string to a file called `<input file base name>.html`. For example, for the provided input file, \"florida_roadtrip.txt\", the corresponding output file is \"florida_roadtrip.html\". Now, programmatically open a web browser to the html file you just created. Python makes this really simple to do! To open a webpage, we can import the `webbrowser` module and pass in a string argument representing the webpage:"
   ]
  },
  {
   "cell_type": "code",
   "execution_count": 5,
   "metadata": {},
   "outputs": [
    {
     "data": {
      "text/plain": [
       "True"
      ]
     },
     "execution_count": 5,
     "metadata": {},
     "output_type": "execute_result"
    }
   ],
   "source": [
    "import webbrowser\n",
    "\n",
    "webbrowser.open(\"florida_roadtrip.html\")"
   ]
  },
  {
   "cell_type": "markdown",
   "metadata": {},
   "source": [
    "### Submitting Assignments\n",
    "1.\tUse the Blackboard tool https://learn.wsu.edu to submit your assignment to your TA. You will submit your code to the corresponding programming assignment under the \"Assignment Turn In\" tab. You must upload your solutions as `<your last name>_pa5.zip` by the due date and time.\n",
    "2.\tYour .zip file should contain your .py file and your .txt files you used to test your program (road trip(s) and stat(s) files) If you attempted the Bonus, your .zip file should also contain your .html file(s).\n",
    "\n",
    "**Note: By submitting your code to be graded, you are stating that your submission does not violate the CptS 111 Academic Integrity Policy outlined in the [Syllabus](http://nbviewer.jupyter.org/github/gsprint23/cpts111/blob/master/Syllabus.ipynb)**."
   ]
  },
  {
   "cell_type": "markdown",
   "metadata": {},
   "source": [
    "### Grading Guidelines\n",
    "This assignment is worth 100 points + 10 points bonus. Your assignment will be evaluated based on a successful compilation and adherence to the program requirements. We will grade according to the following criteria:\n",
    "* 3 pts for displaying status messages to the console\n",
    "* 10 pts for opening and closing the input and output files\n",
    "* 20 pts for reading from the input file\n",
    "* 15 pts for writing correct distances in miles between each consecutive road trip stop to the output file\n",
    "* 5 pts for writing the correct total number of waypoints on the road trip to the output file\n",
    "* 5 pts for writing the correct total number of days on the road trip to the output file\n",
    "* 5 pts for writing the correct total number of miles traveled on the road trip to the output file\n",
    "* 5 pts for writing the correct names of the two waypoints with the most distance between them and that distance in miles to the output file\n",
    "* 5 pts for writing the correct name of the waypoint with the longest stay and its number of days to the output file\n",
    "* 5 pts for writing the correct average miles between between each stop to the output file\n",
    "* 5 pts for writing the correct average number of days spent at each waypoint to the output file\n",
    "* 10 pts for function design\n",
    "* 5 pts for adherence to proper programming style and comments established for the class\n",
    "* 2 pts for including road trip and stats file(s) in your zip file"
   ]
  }
 ],
 "metadata": {
  "anaconda-cloud": {},
  "kernelspec": {
   "display_name": "Python 3",
   "language": "python",
   "name": "python3"
  },
  "language_info": {
   "codemirror_mode": {
    "name": "ipython",
    "version": 3
   },
   "file_extension": ".py",
   "mimetype": "text/x-python",
   "name": "python",
   "nbconvert_exporter": "python",
   "pygments_lexer": "ipython3",
   "version": "3.7.1"
  }
 },
 "nbformat": 4,
 "nbformat_minor": 1
}
