{
 "cells": [
  {
   "cell_type": "markdown",
   "metadata": {},
   "source": [
    "# [CptS 111 Introduction to Algorithmic Problem Solving](https://github.com/gsprint23/cpts111)\n",
    "[Washington State University](https://wsu.edu)\n",
    "\n",
    "[Gina Sprint](http://eecs.wsu.edu/~gsprint/)\n",
    "## PA4 Loops (100 pts)\n",
    "\n",
    "### Learner Objectives\n",
    "At the conclusion of this programming assignment, participants should be able to:\n",
    "* Implement `while` loops\n",
    "\n",
    "### Prerequisites\n",
    "Before starting this programming assignment, participants should be able to:\n",
    "* Get input from the user\n",
    "* Display output to the user\n",
    "* Define and call functions\n",
    "* Implement `if` statements\n",
    "\n",
    "### Acknowledgments\n",
    "Content used in this assignment is based upon information in the following sources:\n",
    "* [Wikipedia Pass the Pigs](https://en.wikipedia.org/wiki/Pass_the_Pigs)"
   ]
  },
  {
   "cell_type": "markdown",
   "metadata": {
    "collapsed": true
   },
   "source": [
    "### Overview and Requirements\n",
    "Write a program to play the game [Pass the Pigs](https://en.wikipedia.org/wiki/Pass_the_Pigs) (pigs.py). Pass the Pigs is a popular games of chance for two or more players based on a dice game called [Pig](https://en.wikipedia.org/wiki/Pig_(dice_game).\n",
    "\n",
    "The rules of the game are straightforward. A player tosses two toy pigs, each of which has a dot on one side (see image below). Each pig can land in one of six positions:\n",
    "1. On its side\n",
    "    1. Side with dot down \n",
    "    1. Side with dot up\n",
    "1. Razorback (on its back)\n",
    "1. Trotter (on all four feet)\n",
    "1. Snouter (balanced on front two feet and its snout)\n",
    "1. Leaning jowler (balanced on one foot, snout, and ear)\n",
    "    * Note: This is extremely rare! See the table of position frequencies below.\n",
    "\n",
    "Here is an example of a Trotter (left pig) and a Snouter (right pig):\n",
    "\n",
    "<img src=\"https://raw.githubusercontent.com/gsprint23/cpts111/master/progassignments/figures/pass_the_pigs_dice.jpg\" width=\"300\" />\n",
    "\n",
    "(image from [https://upload.wikimedia.org/wikipedia/commons/thumb/b/b8/Pass_the_pigs_dice.jpg/600px-Pass_the_pigs_dice.jpg](https://upload.wikimedia.org/wikipedia/commons/thumb/b/b8/Pass_the_pigs_dice.jpg/600px-Pass_the_pigs_dice.jpg))\n",
    "\n",
    "After the pigs have come to rest, the player gains or loses points based on the way the pigs land:\n",
    "* Double (both pigs in the same position)\n",
    "    * Sider (either both with the spot facing upward or both with the spot facing downward): 1 point\n",
    "    * Double Razorback: 20 points\n",
    "    * Double Trotter: 20 points\n",
    "    * Double Snouter: 40 points\n",
    "    * Double Leaning Jowler: 60 points\n",
    "* Pig Out: 0 Points!! If both pigs are lying on their sides, one with the spot facing upwards and one with the spot facing downwards the score for that turn is reset to 0 and the turn changes to the next player\n",
    "* Mixed Combo: A combination not mentioned above is the sum of the single pigs' scores. Single pigs' scores:\n",
    "    * The pig is lying on its side: 0 points\n",
    "    * Razorback: 5 points\n",
    "    * Trotter: 5 points\n",
    "    * Snouter: 10 points\n",
    "    * Leaning Jowler: 15 points\n",
    "\n",
    "As an example, in the image above, the pig on left is in the Trotter position and the pig on the right is in the Snouter position. This throw of the pigs is worth 5 + 10 = 15 points.\n",
    "\n",
    "Note: While there are a few more scoring combinations in the official Pass the Pigs game, we will only use the above combinations for simplicity.\n",
    "\n",
    "Each player's turn continues until the player decides to stop their turn (accumulating points), or rolls a Pig Out. The player's score is updated and the turn is passed to the next player. The game ends when a player reaches a predetermined number of points (usually 100)."
   ]
  },
  {
   "cell_type": "markdown",
   "metadata": {},
   "source": [
    "### Program Details\n",
    "Write a program that implements Pass the Pigs for two players according to the above rules. Your program will prompt the user for the total number of points representing a winning score. The winning score should be an integer greater than 0 and less than or equal to 100. **Your program should validate the entered winning score is valid.** \n",
    "\n",
    "At a minimum, your solution must contain the functions below. These functions will help you get started!\n",
    "1. (5 pts) `display_game_rules()`: Prints out the rules of Pass the Pigs.  \n",
    "1. (10 pts) `get_valid_winning_score()`: Prompts the players (users) for the integer number of points to play until. The **validated** integer number of points is returned. *Calls `is_valid_winning_score(score)` to determine if the user-entered number of points is valid.*\n",
    "1. (5 pts) `is_valid_winning_score(score)`: Checks to see if the entered winning score is an integer > 0 and <= 100. This function is a *predicate* function:\n",
    "    * If the wager is in the range [1, 100] inclusive, then `True` is returned; otherwise `False` is returned.\n",
    "1. (10 pts) `roll_pig()`: Rolls one pig. This function should randomly generate a pig position using the frequencies listed in the table below. Returns a string representing the position of the rolled pig, one of:\n",
    "    * \"SIDE\" (for side without dot)\n",
    "    * \"SIDE-D\" (for side with dot)\n",
    "    * \"RZR\" (for razorback)\n",
    "    * \"TROT\" (for trotter)\n",
    "    * \"SNOUT\" (for snouter)\n",
    "    * \"LEAN\" (for leaning jowler)\n",
    "1. (10 pts) `determine_roll_result(pig1, pig2)`: Determines the roll result based on the two pigs' positions and returns a string representing the roll result, one of:\n",
    "    * \"SIDER\" (for both pigs on their side with dots facing the same direction)\n",
    "    * \"DBL-RAZR\" (for a double razorback)\n",
    "    * \"DBL-TROT\" (for a double trotter)\n",
    "    * \"DBL-SNOUT\" (for a double snouter)\n",
    "    * \"DBL-LEAN\" (for a double leaning jowler)\n",
    "    * \"PIGOUT\" (for both pigs on their side, one with dot up one with dot down)\n",
    "    * \"MIXED\" (for a mixed combo)\n",
    "1. (10 pts) `calculate_total_roll_points(pig1, pig2, roll_result)`: Determines the total points rolled based on the both pigs' positions (`roll_result` e.g. \"SIDER\", \"DBL-RAZR\", etc.) and returns the total points. \n",
    "1. (30 pts) `main()` and the definition of additional functions beyond than the ones listed above: Call the above functions in order to play the game. Break the problem into tasks and build your solution accordingly. You will be graded on your approach. Ask the instructor or your TA for help with this!\n",
    "\n",
    "Note: **Pass the Pigs should be continually played until the players want to quit the game.**\n",
    "    \n",
    "#### Relative Pig Position Frequencies\n",
    "Use random integer generation (from the `random` module) and the \"Integer percentage\" column in the table below to \"roll\" a pig according to a pig's relative frequencies. Data in the table below are from a Journal of Statistics Education paper by Kern, JC (2006), \"Pig Data and Bayesian Inference on Multinomial Probabilities.\"\n",
    "\n",
    "|Position|Percentage|Integer Percentage|\n",
    "|--|---|---|\n",
    "|Side (no dot)|34.9%|35%|\n",
    "|Side (dot)|30.2%|30%|\n",
    "|Razorback|22.4%|22%|\n",
    "|Trotter|8.8%|9%|\n",
    "|Snouter|3.0%|3%|\n",
    "|Leaning jowler|0.61%|1%|\n",
    "    \n",
    "#### Chatter Messages\n",
    "As the game progresses, print various \"chatter\" messages based on the number of rolls taken so far by the player, the current score, and whether or not the player just won his/her roll such as, \"Sorry, you rolled a Pig Out!\", or \"Oh, you're going for broke, huh?\", or \"Aw c'mon, take a chance!\", or \"You're up big, now is the time to cash in your points!\" \n",
    "\n",
    "Use function(s) to do this!"
   ]
  },
  {
   "cell_type": "markdown",
   "metadata": {},
   "source": [
    "### Bonus (7 pts)\n",
    "Add an option at the beginning of the game to select either a 2 player game or a game versus the computer. For the latter, implement player 2 as an AI (artificial intelligence) instead of a human player. The AI should make simple rule-based decisions based on the state of the game. For example, the AI could:\n",
    "* Play more conservatively \"early\" in the game\n",
    "* Take higher risks if the game is \"close\" to ending\n",
    "* Continue rolling if the number of points accumulated so far this turn is \"low\"\n",
    "\n",
    "The above are examples, you should design your own rules and have fun with it!"
   ]
  },
  {
   "cell_type": "markdown",
   "metadata": {},
   "source": [
    "### Submitting Assignments\n",
    "1.\tUse the Blackboard tool https://learn.wsu.edu to submit your assignment to your TA. You will submit your code to the corresponding programming assignment under the \"Assignment Turn-In\" tab. You must upload your solutions as `<your last name>_pa4.zip` by the due date and time.\n",
    "2.\tYour .zip file should contain your .py file.\n",
    "\n",
    "**Note: By submitting your code to be graded, you are stating that your submission does not violate the CptS 111 Academic Integrity Policy outlined in the [Syllabus](http://nbviewer.jupyter.org/github/gsprint23/cpts111/blob/master/Syllabus.ipynb)**."
   ]
  },
  {
   "cell_type": "markdown",
   "metadata": {},
   "source": [
    "### Grading Guidelines\n",
    "This assignment is worth 100 points + 7 points bonus. Your assignment will be evaluated based on a successful compilation and adherence to the program requirements. We will grade according to the following criteria:\n",
    "* 80 pts for adherence to functional decomposition stated above (see the individual points above).\n",
    "* 5 pts for continually looping the game until the players want to quit.\n",
    "* 10 pts for defining function(s) to display chatter messages based on the current state of the game.\n",
    "* 5 pts for adherence to proper programming style established for the class and comments."
   ]
  }
 ],
 "metadata": {
  "anaconda-cloud": {},
  "kernelspec": {
   "display_name": "Python 3",
   "language": "python",
   "name": "python3"
  },
  "language_info": {
   "codemirror_mode": {
    "name": "ipython",
    "version": 3
   },
   "file_extension": ".py",
   "mimetype": "text/x-python",
   "name": "python",
   "nbconvert_exporter": "python",
   "pygments_lexer": "ipython3",
   "version": "3.7.1"
  }
 },
 "nbformat": 4,
 "nbformat_minor": 1
}
