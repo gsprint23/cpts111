{
 "cells": [
  {
   "cell_type": "markdown",
   "metadata": {},
   "source": [
    "# [CptS 111 Introduction to Algorithmic Problem Solving](https://github.com/gsprint23/cpts111)\n",
    "[Washington State University](https://wsu.edu)\n",
    "\n",
    "[Gina Sprint](http://eecs.wsu.edu/~gsprint/)\n",
    "## PA1 Arithmetic (50 pts)\n",
    "\n",
    "### Learner Objectives\n",
    "At the conclusion of this programming assignment, participants should be able to:\n",
    "* Use variables, `print()` statements, and collect input from the user with `input()`\n",
    "* Convert values from one type to another (type casting)\n",
    "* Apply basic arithmetic\n",
    "\n",
    "### Prerequisites\n",
    "Before starting this programming assignment, participants should be able to:\n",
    "* Run Python in interactive and script mode\n",
    "\n",
    "### Acknowledgments\n",
    "Content used in this assignment is based upon information in the following sources:\n",
    "* No sources to cite"
   ]
  },
  {
   "cell_type": "markdown",
   "metadata": {
    "collapsed": true
   },
   "source": [
    "### Overview and Requirements\n",
    "For this programming assignment, we are going to write a basic [chatbot](https://en.wikipedia.org/wiki/Chatterbot_) program (chatbot.py). For fun, you can try having a conversation with an online chatbot [here](http://www.mitsuku.com/). The chatbot we are going to design wants to know a few things about you! Such as:\n",
    "1. What is your name?\n",
    "1. Where are you from?\n",
    "1. What year were you born?\n",
    "1. What is your dream car?\n",
    "1. How much does your dream car cost?"
   ]
  },
  {
   "cell_type": "markdown",
   "metadata": {},
   "source": [
    "### Program Details\n",
    "Write a chatbot program that interacts with the user in the following manner:\n",
    "1. Find out the name of the user (string). Reply with a greeting, such as \"It's so nice to meet you `<user's name>`! My name is `<name of your chatbot>`\".\n",
    "1. Find out where the user is from (string). Reply with a positive statement, such as \"`<location>` sounds like a pleasant place to be from!\".\n",
    "1. Find out what year the user was born in (integer). Figure out how old the user is in years based on their birth year. Reply with a value that relates the user's age to your chatbot's age (pick an age for your chatbot), such as \"You are `<user's age>` years old, that makes you 1.5 times as old as I am! I'm only `<chatbot's age>` years YOUNG!.\"\n",
    "1. Find out the user's dream car (string). Reply with a comment that expresses interest in the car, such as \"Wow, I've always wanted a `<car>` as well.\n",
    "1. Find out how much the dream car costs (float). Then start a conversation about the cost of the car:\n",
    "    1. A comment about how expensive the car is, such as \"Gee, that is spendy.\"\n",
    "    1. Find out how many years the user would take a loan out to pay for `<car>` (integer)\n",
    "    1. Find out what *annual* interest rate (percent) the user expects to get for `<car>` (float)\n",
    "    1. Reply with the expected monthly payment and total amount of money the user would pay for `<car>` (car price + interest), such as \"Your monthly payment for the `<car>` is `<monthly payment>`, that is a total of `<total cal cost>`!.\n",
    "1. Say goodbye to `<user's name>`.\n",
    "\n",
    "For calculating monthly payments, use the following formula:\n",
    "\n",
    "$$mpymt = \\frac{r(P)}{1 - (1 + r)^{-n}}$$\n",
    "\n",
    "Where $r$ is the *monthly* interest rate, $P$ is the cost of the car, and $n$ is the number of monthly payments. You can figure out $r$ by converting the interest rate the user enters to a decimal (divide by 100) and then dividing by 12 (12 months in a year). \n",
    "\n",
    "You can check your program output by comparing the computed monthly payment to an [online payment calculator](http://www.thecalculatorsite.com/finance/calculators/loancalculator.php). "
   ]
  },
  {
   "cell_type": "markdown",
   "metadata": {},
   "source": [
    "### Example Run\n",
    "Here is an example run of my \"CarBot\" program:\n",
    "\n",
    "```\n",
    "Hello there! My name is CarBot. What is your name? \n",
    "Jane Student\n",
    "Hello Jane Student, it is great to meet you!\n",
    "Jane Student, where are you from? \n",
    "Washington\n",
    "Washington sounds like a pleasant place to grow up. Hmmmm, what else can I ask you... oh! What year were you born?\n",
    "1950\n",
    "You are 67 years old, that makes you 33.5 times as old as I am! I'm only 2 years YOUNG!\n",
    "What is your dream car? \n",
    "BMW i8\n",
    "Wow, I have always wanted a BMW i8 as well. How much does a BMW i8 cost? \n",
    "141695\n",
    "What is a reasonable yearly interest rate on a beautiful car like that? \n",
    "2.0\n",
    "And if you had to take out a loan to buy the BMW i8, how many years would you take the loan out for? \n",
    "5\n",
    "If you bought the BMW i8, you would have a monthly payment of $2483.60, hopefully that is reasonable for your budget. That's a total of $149015.76! I hope you can make the purchase!\n",
    "Anyways, I gotta go. It's been nice chattin' with ya Jane Student :)\n",
    "```\n",
    "\n",
    "Note: BMW has a loan estimator on their website. [Try it](https://www.bmwusa.com/secured/content/forms/EstimateAPaymentBYO.aspx?namodelcode=16IC&byo=true&vehicleconfigid=d4h4yolb&from=/standard/content/Vehicles/2016/i8/bmwi8) for the i8 to check your work!\n",
    "<img src=\"https://raw.githubusercontent.com/gsprint23/cpts111/master/progassignments/figures/i8.jpg\" width=\"350\"/>\n",
    "(Image from [https://c2.staticflickr.com/8/7152/13650180553_2febc742d3_b.jpg](https://c2.staticflickr.com/8/7152/13650180553_2febc742d3_b.jpg))\n",
    "\n",
    "Note: Your output does not have to exactly match mine above. It needs to be correct, but you are free to give your chatbot his/her own personality. Have fun with it!"
   ]
  },
  {
   "cell_type": "markdown",
   "metadata": {},
   "source": [
    "## Bonus (3 pts)\n",
    "The U.S. Government wants fleets of new vehicles to have an average of [34.1 MPG (miles per gallon)](http://www.ucsusa.org/sites/default/files/legacy/assets/documents/clean_vehicles/UCS-The-National-Program.pdf). Prompt the user for the MPG for their dream car. Display an appropriate message to the user based on whether or not their dream car has more or less MPGs than 34.1. To do this, you will need to use an `if` statement, which we haven't learned yet! With `if` statements, we can *conditionally* execute code *if* a test evaluates to true.\n",
    "\n",
    "Take a look at [L1-1](http://nbviewer.jupyter.org/github/gsprint23/cpts111/blob/master/lessons/L1-1.ipynb) where I showed an example of an `if` statement for one of the 6 fundamental operations a computer can do. You can also look ahead in the zyBook and How to Think Like a Computer Scientist textbook."
   ]
  },
  {
   "cell_type": "markdown",
   "metadata": {},
   "source": [
    "### Submitting Assignments\n",
    "1.\tUse the Blackboard tool https://learn.wsu.edu to submit your assignment to your TA. You will submit your code to the corresponding programming assignment under the \"Assignment Turn-In\" tab in your *lab course*. You must upload your solutions as `<your last name>_pa1.zip` by the due date and time.\n",
    "2.\tYour .zip file should contain your .py file.\n",
    "\n",
    "**Note: By submitting your code to be graded, you are stating that your submission does not violate the CptS 111 Academic Integrity Policy outlined in the [Syllabus](http://nbviewer.jupyter.org/github/gsprint23/cpts111/blob/master/Syllabus.ipynb)**."
   ]
  },
  {
   "cell_type": "markdown",
   "metadata": {},
   "source": [
    "### Grading Guidelines\n",
    "This assignment is worth 50 points + 3 points bonus. Your assignment will be evaluated based on a successful compilation and adherence to the program requirements. We will grade according to the following criteria:\n",
    "* 5 pts for interacting with the user regarding their name\n",
    "* 5 pts for interacting with the user regarding where they are from\n",
    "* 10 pts for interacting with the user regarding their age\n",
    "* 5 pts for interacting with the user regarding their dream car\n",
    "* 15 pts for correct loan payment computation\n",
    "* 5 pts for adherence to proper programming style and comments established for the class\n",
    "* 5 pts for giving your chatbot \"personality\", have fun!"
   ]
  }
 ],
 "metadata": {
  "anaconda-cloud": {},
  "kernelspec": {
   "display_name": "Python 3",
   "language": "python",
   "name": "python3"
  },
  "language_info": {
   "codemirror_mode": {
    "name": "ipython",
    "version": 3
   },
   "file_extension": ".py",
   "mimetype": "text/x-python",
   "name": "python",
   "nbconvert_exporter": "python",
   "pygments_lexer": "ipython3",
   "version": "3.7.1"
  }
 },
 "nbformat": 4,
 "nbformat_minor": 1
}
